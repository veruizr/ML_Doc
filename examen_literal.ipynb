{
  "nbformat": 4,
  "nbformat_minor": 0,
  "metadata": {
    "colab": {
      "provenance": [],
      "authorship_tag": "ABX9TyPCaB7wfpkOhHJIC2F++rhP",
      "include_colab_link": true
    },
    "kernelspec": {
      "name": "python3",
      "display_name": "Python 3"
    },
    "language_info": {
      "name": "python"
    }
  },
  "cells": [
    {
      "cell_type": "markdown",
      "metadata": {
        "id": "view-in-github",
        "colab_type": "text"
      },
      "source": [
        "<a href=\"https://colab.research.google.com/github/veruizr/ML_Doc/blob/main/examen_literal.ipynb\" target=\"_parent\"><img src=\"https://colab.research.google.com/assets/colab-badge.svg\" alt=\"Open In Colab\"/></a>"
      ]
    },
    {
      "cell_type": "code",
      "execution_count": null,
      "metadata": {
        "id": "4kVhBgZN7Jxr"
      },
      "outputs": [],
      "source": [
        "def jaccard(est_old,outcomes_old,outcomes_new):\n",
        "  intersec=[]\n",
        "  union=[]\n",
        "  for est_old in (data__old):\n",
        "    # se identifican resultados\n",
        "    union=data_old(outcomes_old)or data_new(outcomes_new)\n",
        "    union_num=count(union)\n",
        "    intersec=data_old(outcomes_old)and data_new(outcomes_new)\n",
        "    intersec_num=count(intersec)\n",
        "    # se calcula jaccard\n",
        "    jaccard=intersec_num/union_num\n",
        "    data_old.append(jaccard)\n",
        "    return jaccard"
      ]
    },
    {
      "cell_type": "code",
      "source": [
        "def vot_pond(est_old,outcomes_old,carrera_old,est_new,outcomes_new,carrera_new):\n",
        "  suma_peso_ing = 0 # Initialize variables\n",
        "  suma_peso_psico = 0\n",
        "  suma_peso_mat = 0\n",
        "\n",
        "  for carrera_old in (data_old):\n",
        "    if carrera_old==\"ingeniería\": # Added colon\n",
        "        suma_peso_ing += 1 # Example: Increment based on some condition\n",
        "    elif carrera_old==\"psicología\": # Added colon\n",
        "        suma_peso_psico += 1 # Example: Increment based on some condition\n",
        "    else: # Added colon\n",
        "        suma_peso_mat += 1 # Example: Increment based on some condition\n",
        "\n",
        "  mayor_pond=max(suma_peso_ing,suma_peso_psico,suma_peso_mat)\n",
        "\n",
        "  if mayor_pond==suma_peso_ing:\n",
        "    carrera_new=\"ingeniería\"\n",
        "  elif mayor_pond==suma_peso_psico:\n",
        "    carrera_new=\"psicología\"\n",
        "  else:\n",
        "    carrera_new=\"matematicas\"\n",
        "\n",
        "  print(carrera_new)"
      ],
      "metadata": {
        "id": "N6EXCZAZ_rgv"
      },
      "execution_count": 4,
      "outputs": []
    },
    {
      "cell_type": "code",
      "source": [],
      "metadata": {
        "id": "PcDBlTEoGm18"
      },
      "execution_count": null,
      "outputs": []
    }
  ]
}