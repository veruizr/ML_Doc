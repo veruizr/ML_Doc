{
  "nbformat": 4,
  "nbformat_minor": 0,
  "metadata": {
    "colab": {
      "provenance": [],
      "authorship_tag": "ABX9TyNPAHsw3/2GyhhZujyX6mHx",
      "include_colab_link": true
    },
    "kernelspec": {
      "name": "python3",
      "display_name": "Python 3"
    },
    "language_info": {
      "name": "python"
    }
  },
  "cells": [
    {
      "cell_type": "markdown",
      "metadata": {
        "id": "view-in-github",
        "colab_type": "text"
      },
      "source": [
        "<a href=\"https://colab.research.google.com/github/veruizr/ML_Doc/blob/main/pandas.ipynb\" target=\"_parent\"><img src=\"https://colab.research.google.com/assets/colab-badge.svg\" alt=\"Open In Colab\"/></a>"
      ]
    },
    {
      "cell_type": "code",
      "execution_count": null,
      "metadata": {
        "id": "bEvYq7JC8aVL"
      },
      "outputs": [],
      "source": []
    },
    {
      "cell_type": "markdown",
      "source": [
        "#Pandas\n",
        "Pandas es una biblioteca de Python utilizada para el análisis y manipulación de datos. Proporciona estructuras de datos flexibles y herramientas para trabajar con datos tabulares de manera eficiente.\n",
        "\n",
        "Para instalar Pandas\n",
        "\n"
      ],
      "metadata": {
        "id": "7YNSsQy78bUN"
      }
    },
    {
      "cell_type": "code",
      "source": [
        "#!pip install pandas\n",
        "import pandas as pd"
      ],
      "metadata": {
        "id": "Ixr6nXT79EvQ"
      },
      "execution_count": 3,
      "outputs": []
    },
    {
      "cell_type": "markdown",
      "source": [
        "## Estructuras de Datos Principales\n",
        "### Series\n",
        "Una Series es una estructura unidimensional similar a un arreglo o lista, pero con etiquetas (índices)."
      ],
      "metadata": {
        "id": "e5uemkD0-xsN"
      }
    },
    {
      "cell_type": "code",
      "source": [
        "# Crear una Series\n",
        "serie = pd.Series([10, 20, 30], index=['a', 'b', 'c'])\n",
        "print(serie)"
      ],
      "metadata": {
        "colab": {
          "base_uri": "https://localhost:8080/"
        },
        "id": "DVNCbPeI-6-i",
        "outputId": "37e6168b-57b1-4b95-c59a-3045c806674b"
      },
      "execution_count": 4,
      "outputs": [
        {
          "output_type": "stream",
          "name": "stdout",
          "text": [
            "a    10\n",
            "b    20\n",
            "c    30\n",
            "dtype: int64\n"
          ]
        }
      ]
    },
    {
      "cell_type": "markdown",
      "source": [
        "## DataFrame\n",
        "Un DataFrame es una estructura bidimensional, como una tabla, con filas y columnas etiquetadas."
      ],
      "metadata": {
        "id": "luZQgMIq_Fki"
      }
    },
    {
      "cell_type": "code",
      "source": [
        "# Crear un DataFrame\n",
        "datos = {'Nombre': ['Ana', 'Luis', 'María'], 'Edad': [25, 30, 22]}\n",
        "df = pd.DataFrame(datos)\n",
        "print(df)"
      ],
      "metadata": {
        "colab": {
          "base_uri": "https://localhost:8080/"
        },
        "id": "bKskhEJk_nPm",
        "outputId": "64cd8692-626c-445b-fba5-c9c63d859ddf"
      },
      "execution_count": 5,
      "outputs": [
        {
          "output_type": "stream",
          "name": "stdout",
          "text": [
            "  Nombre  Edad\n",
            "0    Ana    25\n",
            "1   Luis    30\n",
            "2  María    22\n"
          ]
        }
      ]
    },
    {
      "cell_type": "markdown",
      "source": [
        "##Operaciones Básicas\n",
        "#### Cargar Datos\n",
        "Pandas permite leer datos desde múltiples formatos como CSV, Excel, JSON, etc.\n"
      ],
      "metadata": {
        "id": "KvhYAUsX_uBN"
      }
    },
    {
      "cell_type": "code",
      "source": [
        "# Leer un archivo CSV (ejemplo)\n",
        "# df = pd.read_csv('archivo.csv')"
      ],
      "metadata": {
        "id": "IGQ5n-LCAFVJ"
      },
      "execution_count": null,
      "outputs": []
    },
    {
      "cell_type": "markdown",
      "source": [
        "##Inspeccionar Datos\n",
        "Métodos útiles para explorar un DataFrame:\n",
        "\n",
        "df.head(): Muestra las primeras 5 filas.\\\n",
        "df.info(): Resumen de los tipos de datos y valores no nulos.\\\n",
        "df.describe(): Estadísticas básicas de las columnas numéricas.\\\n",
        "\n",
        "### Selección de Datos\n",
        "```python\n",
        "Por columna:\n",
        "df['Nombre']\\\n",
        "Por fila:\n",
        "df.loc[0] (usando índice) o df.iloc[0] (usando posición).\\\n",
        "Condicional:\n",
        "df[df['Edad'] > 25]\n",
        "```"
      ],
      "metadata": {
        "id": "CXH9pOU7AH4q"
      }
    },
    {
      "cell_type": "code",
      "source": [
        "# Ejemplo de selección\n",
        "print(df[df['Edad'] > 25])"
      ],
      "metadata": {
        "colab": {
          "base_uri": "https://localhost:8080/"
        },
        "id": "Ld_5QskWAlkS",
        "outputId": "0d51a58f-f1b8-4544-af91-b6ef41d35f88"
      },
      "execution_count": 6,
      "outputs": [
        {
          "output_type": "stream",
          "name": "stdout",
          "text": [
            "  Nombre  Edad\n",
            "1   Luis    30\n"
          ]
        }
      ]
    },
    {
      "cell_type": "markdown",
      "source": [
        "## Manipulación de Datos\n"
      ],
      "metadata": {
        "id": "9g5bRthBBPG6"
      }
    },
    {
      "cell_type": "code",
      "source": [
        "#Agregar Columnas\n",
        "df['Ciudad'] = ['Madrid', 'Lima', 'Bogotá']\n",
        "print(df)"
      ],
      "metadata": {
        "colab": {
          "base_uri": "https://localhost:8080/"
        },
        "id": "AMrPx9xHBiqG",
        "outputId": "8496542e-9fc6-48ff-b4e4-a5d55569f20e"
      },
      "execution_count": 7,
      "outputs": [
        {
          "output_type": "stream",
          "name": "stdout",
          "text": [
            "  Nombre  Edad  Ciudad\n",
            "0    Ana    25  Madrid\n",
            "1   Luis    30    Lima\n",
            "2  María    22  Bogotá\n"
          ]
        }
      ]
    },
    {
      "cell_type": "code",
      "source": [
        "#Eliminar Columnas o Filas\n",
        "#df.drop('Ciudad', axis=1) #Elimina la columna 'Ciudad'.\n",
        "\n",
        "#df.drop(0, axis=0): #Elimina la fila con índice 0"
      ],
      "metadata": {
        "id": "pxm88JwuB31R"
      },
      "execution_count": null,
      "outputs": []
    },
    {
      "cell_type": "markdown",
      "source": [
        "\n",
        "```python\n",
        "#Manejo de Valores Nulos\n",
        "df.isnull(): #Detecta valores nulos.\n",
        "df.fillna(0): #Rellena nulos con un valor.\n",
        "df.dropna(): #Elimina filas con nulos.\n",
        "```"
      ],
      "metadata": {
        "id": "N4V2IN7QDAAC"
      }
    },
    {
      "cell_type": "markdown",
      "source": [
        "## Análisis de Datos\n",
        "### Agrupaciones\n",
        "El método groupby permite agrupar datos y aplicar funciones como suma, promedio, etc."
      ],
      "metadata": {
        "id": "-XjgbjS_DfLi"
      }
    },
    {
      "cell_type": "code",
      "source": [
        "# Agrupar por una columna y calcular el promedio\n",
        "df.groupby('Ciudad')['Edad'].mean()"
      ],
      "metadata": {
        "colab": {
          "base_uri": "https://localhost:8080/",
          "height": 209
        },
        "id": "vYN2wgutDk7h",
        "outputId": "76624799-0c82-4265-af16-bee655b212bd"
      },
      "execution_count": 11,
      "outputs": [
        {
          "output_type": "execute_result",
          "data": {
            "text/plain": [
              "Ciudad\n",
              "Bogotá    22.0\n",
              "Lima      30.0\n",
              "Madrid    25.0\n",
              "Name: Edad, dtype: float64"
            ],
            "text/html": [
              "<div>\n",
              "<style scoped>\n",
              "    .dataframe tbody tr th:only-of-type {\n",
              "        vertical-align: middle;\n",
              "    }\n",
              "\n",
              "    .dataframe tbody tr th {\n",
              "        vertical-align: top;\n",
              "    }\n",
              "\n",
              "    .dataframe thead th {\n",
              "        text-align: right;\n",
              "    }\n",
              "</style>\n",
              "<table border=\"1\" class=\"dataframe\">\n",
              "  <thead>\n",
              "    <tr style=\"text-align: right;\">\n",
              "      <th></th>\n",
              "      <th>Edad</th>\n",
              "    </tr>\n",
              "    <tr>\n",
              "      <th>Ciudad</th>\n",
              "      <th></th>\n",
              "    </tr>\n",
              "  </thead>\n",
              "  <tbody>\n",
              "    <tr>\n",
              "      <th>Bogotá</th>\n",
              "      <td>22.0</td>\n",
              "    </tr>\n",
              "    <tr>\n",
              "      <th>Lima</th>\n",
              "      <td>30.0</td>\n",
              "    </tr>\n",
              "    <tr>\n",
              "      <th>Madrid</th>\n",
              "      <td>25.0</td>\n",
              "    </tr>\n",
              "  </tbody>\n",
              "</table>\n",
              "</div><br><label><b>dtype:</b> float64</label>"
            ]
          },
          "metadata": {},
          "execution_count": 11
        }
      ]
    },
    {
      "cell_type": "markdown",
      "source": [
        "### Combinación de DataFrames\n",
        "```python\n",
        "pd.concat([df1, df2]): #Une DataFrames vertical u horizontalmente.\n",
        "df.merge(df2, on='columna'): #Combina usando una columna común.\n",
        "```"
      ],
      "metadata": {
        "id": "C3VWTyOxDtY2"
      }
    },
    {
      "cell_type": "code",
      "source": [
        "import pandas as pd\n",
        "#Combinación de dataframes\n",
        "# DataFrame 1: Información de estudiantes\n",
        "df1 = pd.DataFrame({\n",
        "    'ID': [1, 2, 3],\n",
        "    'Nombre': ['Ana', 'Luis', 'María'],\n",
        "    'Edad': [20, 22, 19]\n",
        "})\n",
        "\n",
        "# DataFrame 2: Notas de estudiantes\n",
        "df2 = pd.DataFrame({\n",
        "    'ID': [1, 2, 4],\n",
        "    'Materia': ['Matemáticas', 'Historia', 'Física'],\n",
        "    'Nota': [85, 90, 78]\n",
        "})\n",
        "\n",
        "print(\"DataFrame 1:\")\n",
        "print(df1)\n",
        "print(\"\\nDataFrame 2:\")\n",
        "print(df2)"
      ],
      "metadata": {
        "colab": {
          "base_uri": "https://localhost:8080/"
        },
        "id": "pF9FoexUCZXW",
        "outputId": "c5df8281-c0c1-4a8e-c8ec-1f2d755c74b4"
      },
      "execution_count": 2,
      "outputs": [
        {
          "output_type": "stream",
          "name": "stdout",
          "text": [
            "DataFrame 1:\n",
            "   ID Nombre  Edad\n",
            "0   1    Ana    20\n",
            "1   2   Luis    22\n",
            "2   3  María    19\n",
            "\n",
            "DataFrame 2:\n",
            "   ID      Materia  Nota\n",
            "0   1  Matemáticas    85\n",
            "1   2     Historia    90\n",
            "2   4       Física    78\n"
          ]
        }
      ]
    },
    {
      "cell_type": "code",
      "source": [
        "# Concatenar verticalmente\n",
        "df_concat_vertical = pd.concat([df1, df2], axis=0, ignore_index=True)\n",
        "print(df_concat_vertical)\n",
        "#Las columnas que no coinciden se rellenan con NaN"
      ],
      "metadata": {
        "colab": {
          "base_uri": "https://localhost:8080/"
        },
        "id": "jxe9EYTF6jy6",
        "outputId": "3ed05215-1b33-4aa6-fed7-4fef21b5013e"
      },
      "execution_count": 3,
      "outputs": [
        {
          "output_type": "stream",
          "name": "stdout",
          "text": [
            "   ID Nombre  Edad      Materia  Nota\n",
            "0   1    Ana  20.0          NaN   NaN\n",
            "1   2   Luis  22.0          NaN   NaN\n",
            "2   3  María  19.0          NaN   NaN\n",
            "3   1    NaN   NaN  Matemáticas  85.0\n",
            "4   2    NaN   NaN     Historia  90.0\n",
            "5   4    NaN   NaN       Física  78.0\n"
          ]
        }
      ]
    },
    {
      "cell_type": "code",
      "source": [
        "# Concatenar horizontalmente\n",
        "df_concat_horizontal = pd.concat([df1, df2], axis=1)\n",
        "print(df_concat_horizontal)"
      ],
      "metadata": {
        "colab": {
          "base_uri": "https://localhost:8080/"
        },
        "id": "cFZeqyIn647z",
        "outputId": "0f5d8446-956e-4fff-ba7a-1a92d6cbe06e"
      },
      "execution_count": 4,
      "outputs": [
        {
          "output_type": "stream",
          "name": "stdout",
          "text": [
            "   ID Nombre  Edad  ID      Materia  Nota\n",
            "0   1    Ana    20   1  Matemáticas    85\n",
            "1   2   Luis    22   2     Historia    90\n",
            "2   3  María    19   4       Física    78\n"
          ]
        }
      ]
    },
    {
      "cell_type": "code",
      "source": [
        "# merge() combina DataFrames basándose en una columna común (como una llave en bases de datos).\n",
        "#Admite varios tipos de uniones: inner, outer, left, right.\n",
        "# Inner merge (intersección)\n",
        "#Solo incluye filas donde el 'ID' está presente en ambos DataFrames.\n",
        "df_inner = df1.merge(df2, on='ID', how='inner')\n",
        "print(df_inner)"
      ],
      "metadata": {
        "colab": {
          "base_uri": "https://localhost:8080/"
        },
        "id": "UhJbELv87D6h",
        "outputId": "e4b38d8a-84b2-4611-b3c7-d0d45f6edb0e"
      },
      "execution_count": 5,
      "outputs": [
        {
          "output_type": "stream",
          "name": "stdout",
          "text": [
            "   ID Nombre  Edad      Materia  Nota\n",
            "0   1    Ana    20  Matemáticas    85\n",
            "1   2   Luis    22     Historia    90\n"
          ]
        }
      ]
    },
    {
      "cell_type": "code",
      "source": [
        "# Left merge\n",
        "#Incluye todas las filas de df1, añadiendo datos de df2 cuando hay coincidencia\n",
        "df_left = df1.merge(df2, on='ID', how='left')\n",
        "print(df_left)"
      ],
      "metadata": {
        "id": "A3VlBJKe7ubB"
      },
      "execution_count": null,
      "outputs": []
    },
    {
      "cell_type": "code",
      "source": [
        "#join() combina DataFrames usando sus índices.\n",
        "#Es útil cuando los DataFrames tienen índices alineados.\n",
        "# Establecer 'ID' como índice\n",
        "df1_indexed = df1.set_index('ID')\n",
        "df2_indexed = df2.set_index('ID')\n",
        "\n",
        "# Unir con join\n",
        "df_joined = df1_indexed.join(df2_indexed, how='inner')\n",
        "print(df_joined)"
      ],
      "metadata": {
        "colab": {
          "base_uri": "https://localhost:8080/"
        },
        "id": "oYQBq9m68KsT",
        "outputId": "40b2d2ee-6127-4a5a-98e9-e2e1e2709a98"
      },
      "execution_count": 6,
      "outputs": [
        {
          "output_type": "stream",
          "name": "stdout",
          "text": [
            "   Nombre  Edad      Materia  Nota\n",
            "ID                                \n",
            "1     Ana    20  Matemáticas    85\n",
            "2    Luis    22     Historia    90\n"
          ]
        }
      ]
    },
    {
      "cell_type": "markdown",
      "source": [],
      "metadata": {
        "id": "9vqSJ1OjBk4C"
      }
    }
  ]
}
