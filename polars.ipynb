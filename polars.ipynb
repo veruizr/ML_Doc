{
  "nbformat": 4,
  "nbformat_minor": 0,
  "metadata": {
    "colab": {
      "provenance": [],
      "authorship_tag": "ABX9TyOel0lCG9lGZ1h/Vgiu8dsz",
      "include_colab_link": true
    },
    "kernelspec": {
      "name": "python3",
      "display_name": "Python 3"
    },
    "language_info": {
      "name": "python"
    }
  },
  "cells": [
    {
      "cell_type": "markdown",
      "metadata": {
        "id": "view-in-github",
        "colab_type": "text"
      },
      "source": [
        "<a href=\"https://colab.research.google.com/github/veruizr/ML_Doc/blob/main/polars.ipynb\" target=\"_parent\"><img src=\"https://colab.research.google.com/assets/colab-badge.svg\" alt=\"Open In Colab\"/></a>"
      ]
    },
    {
      "cell_type": "markdown",
      "source": [
        "Datos básicos\n",
        "\n",
        "Numéricos\n",
        "categóricos\n",
        "binarios\n",
        "\n",
        "educational level-- categórico\n",
        "a binario cumulative (ordenado)\n",
        "preescolar [1,0,0,0,0,0]\n",
        "primaria [0,1,0,0,0,0]\n",
        "secundaria [0,0,1,0,0,0]\n",
        "media [0,0,\n",
        "pregrado\n",
        "maestria doctorado\n",
        "\n",
        "\n",
        "is student--binario\n",
        "dummy\n",
        "\n",
        "city of birth--categórico\n",
        "a binario dummy\n",
        "\n",
        "temperature--numérico\n",
        "se categórizan de acuerdo con el comportamiento de las variables\n",
        "a binario cumulative\n",
        "\n",
        "area code--numérico\n",
        "a binario cumulative\n",
        "\n",
        "favorite sport--categórico\n",
        "a binario dummy"
      ],
      "metadata": {
        "id": "MLLZg-sPr-ko"
      }
    },
    {
      "cell_type": "code",
      "source": [
        "import polars as pl\n",
        "df=pl.read_csv(\"/content/imdb_movie_dataset.csv\")\n",
        "df.head()"
      ],
      "metadata": {
        "id": "JwZROyb3sPFn"
      },
      "execution_count": null,
      "outputs": []
    },
    {
      "cell_type": "code",
      "execution_count": null,
      "metadata": {
        "colab": {
          "base_uri": "https://localhost:8080/"
        },
        "id": "AaipQk0fr7c6",
        "outputId": "263b9516-7840-4440-fb54-c3a5f21c45e5"
      },
      "outputs": [
        {
          "output_type": "execute_result",
          "data": {
            "text/plain": [
              "(1000, 12)"
            ]
          },
          "metadata": {},
          "execution_count": 3
        }
      ],
      "source": [
        "df.shape"
      ]
    },
    {
      "cell_type": "code",
      "source": [
        "(df.describe)"
      ],
      "metadata": {
        "colab": {
          "base_uri": "https://localhost:8080/",
          "height": 203
        },
        "collapsed": true,
        "id": "a-XoWfEH8x8-",
        "outputId": "cefdd256-ad0e-47c7-db3f-30969e47202b"
      },
      "execution_count": null,
      "outputs": [
        {
          "output_type": "execute_result",
          "data": {
            "text/plain": [
              "<bound method DataFrame.describe of shape: (1_000, 12)\n",
              "┌──────┬──────────────┬──────────────┬─────────────┬───┬────────┬────────┬─────────────┬───────────┐\n",
              "│ Rank ┆ Title        ┆ Genre        ┆ Description ┆ … ┆ Rating ┆ Votes  ┆ Revenue     ┆ Metascore │\n",
              "│ ---  ┆ ---          ┆ ---          ┆ ---         ┆   ┆ ---    ┆ ---    ┆ (Millions)  ┆ ---       │\n",
              "│ i64  ┆ str          ┆ str          ┆ str         ┆   ┆ f64    ┆ i64    ┆ ---         ┆ i64       │\n",
              "│      ┆              ┆              ┆             ┆   ┆        ┆        ┆ f64         ┆           │\n",
              "╞══════╪══════════════╪══════════════╪═════════════╪═══╪════════╪════════╪═════════════╪═══════════╡\n",
              "│ 1    ┆ Guardians of ┆ Action,Adven ┆ A group of  ┆ … ┆ 8.1    ┆ 757074 ┆ 333.13      ┆ 76        │\n",
              "│      ┆ the Galaxy   ┆ ture,Sci-Fi  ┆ intergalact ┆   ┆        ┆        ┆             ┆           │\n",
              "│      ┆              ┆              ┆ ic crimi…   ┆   ┆        ┆        ┆             ┆           │\n",
              "│ 2    ┆ Prometheus   ┆ Adventure,My ┆ Following   ┆ … ┆ 7.0    ┆ 485820 ┆ 126.46      ┆ 65        │\n",
              "│      ┆              ┆ stery,Sci-Fi ┆ clues to    ┆   ┆        ┆        ┆             ┆           │\n",
              "│      ┆              ┆              ┆ the origin  ┆   ┆        ┆        ┆             ┆           │\n",
              "│      ┆              ┆              ┆ …           ┆   ┆        ┆        ┆             ┆           │\n",
              "│ 3    ┆ Split        ┆ Horror,Thril ┆ Three girls ┆ … ┆ 7.3    ┆ 157606 ┆ 138.12      ┆ 62        │\n",
              "│      ┆              ┆ ler          ┆ are         ┆   ┆        ┆        ┆             ┆           │\n",
              "│      ┆              ┆              ┆ kidnapped   ┆   ┆        ┆        ┆             ┆           │\n",
              "│      ┆              ┆              ┆ by a…       ┆   ┆        ┆        ┆             ┆           │\n",
              "│ 4    ┆ Sing         ┆ Animation,Co ┆ In a city   ┆ … ┆ 7.2    ┆ 60545  ┆ 270.32      ┆ 59        │\n",
              "│      ┆              ┆ medy,Family  ┆ of humanoid ┆   ┆        ┆        ┆             ┆           │\n",
              "│      ┆              ┆              ┆ animals,…   ┆   ┆        ┆        ┆             ┆           │\n",
              "│ 5    ┆ Suicide      ┆ Action,Adven ┆ A secret    ┆ … ┆ 6.2    ┆ 393727 ┆ 325.02      ┆ 40        │\n",
              "│      ┆ Squad        ┆ ture,Fantasy ┆ government  ┆   ┆        ┆        ┆             ┆           │\n",
              "│      ┆              ┆              ┆ agency rec… ┆   ┆        ┆        ┆             ┆           │\n",
              "│ …    ┆ …            ┆ …            ┆ …           ┆ … ┆ …      ┆ …      ┆ …           ┆ …         │\n",
              "│ 996  ┆ Secret in    ┆ Crime,Drama, ┆ A           ┆ … ┆ 6.2    ┆ 27585  ┆ null        ┆ 45        │\n",
              "│      ┆ Their Eyes   ┆ Mystery      ┆ tight-knit  ┆   ┆        ┆        ┆             ┆           │\n",
              "│      ┆              ┆              ┆ team of     ┆   ┆        ┆        ┆             ┆           │\n",
              "│      ┆              ┆              ┆ rising in…  ┆   ┆        ┆        ┆             ┆           │\n",
              "│ 997  ┆ Hostel: Part ┆ Horror       ┆ Three       ┆ … ┆ 5.5    ┆ 73152  ┆ 17.54       ┆ 46        │\n",
              "│      ┆ II           ┆              ┆ American    ┆   ┆        ┆        ┆             ┆           │\n",
              "│      ┆              ┆              ┆ college     ┆   ┆        ┆        ┆             ┆           │\n",
              "│      ┆              ┆              ┆ student…    ┆   ┆        ┆        ┆             ┆           │\n",
              "│ 998  ┆ Step Up 2:   ┆ Drama,Music, ┆ Romantic    ┆ … ┆ 6.2    ┆ 70699  ┆ 58.01       ┆ 50        │\n",
              "│      ┆ The Streets  ┆ Romance      ┆ sparks      ┆   ┆        ┆        ┆             ┆           │\n",
              "│      ┆              ┆              ┆ occur       ┆   ┆        ┆        ┆             ┆           │\n",
              "│      ┆              ┆              ┆ between …   ┆   ┆        ┆        ┆             ┆           │\n",
              "│ 999  ┆ Search Party ┆ Adventure,Co ┆ A pair of   ┆ … ┆ 5.6    ┆ 4881   ┆ null        ┆ 22        │\n",
              "│      ┆              ┆ medy         ┆ friends     ┆   ┆        ┆        ┆             ┆           │\n",
              "│      ┆              ┆              ┆ embark on a ┆   ┆        ┆        ┆             ┆           │\n",
              "│      ┆              ┆              ┆ …           ┆   ┆        ┆        ┆             ┆           │\n",
              "│ 1000 ┆ Nine Lives   ┆ Comedy,Famil ┆ A stuffy    ┆ … ┆ 5.3    ┆ 12435  ┆ 19.64       ┆ 11        │\n",
              "│      ┆              ┆ y,Fantasy    ┆ businessman ┆   ┆        ┆        ┆             ┆           │\n",
              "│      ┆              ┆              ┆ finds him…  ┆   ┆        ┆        ┆             ┆           │\n",
              "└──────┴──────────────┴──────────────┴─────────────┴───┴────────┴────────┴─────────────┴───────────┘>"
            ],
            "text/html": [
              "<div style=\"max-width:800px; border: 1px solid var(--colab-border-color);\"><style>\n",
              "      pre.function-repr-contents {\n",
              "        overflow-x: auto;\n",
              "        padding: 8px 12px;\n",
              "        max-height: 500px;\n",
              "      }\n",
              "\n",
              "      pre.function-repr-contents.function-repr-contents-collapsed {\n",
              "        cursor: pointer;\n",
              "        max-height: 100px;\n",
              "      }\n",
              "    </style>\n",
              "    <pre style=\"white-space: initial; background:\n",
              "         var(--colab-secondary-surface-color); padding: 8px 12px;\n",
              "         border-bottom: 1px solid var(--colab-border-color);\"><b>polars.dataframe.frame.DataFrame.describe</b><br/>def describe(percentiles: Sequence[float] | float | None=(0.25, 0.5, 0.75), *, interpolation: RollingInterpolationMethod=&#x27;nearest&#x27;) -&gt; DataFrame</pre><pre class=\"function-repr-contents function-repr-contents-collapsed\" style=\"\"><a class=\"filepath\" style=\"display:none\" href=\"#\">/usr/local/lib/python3.11/dist-packages/polars/dataframe/frame.py</a>Summary statistics for a DataFrame.\n",
              "\n",
              "Parameters\n",
              "----------\n",
              "percentiles\n",
              "    One or more percentiles to include in the summary statistics.\n",
              "    All values must be in the range `[0, 1]`.\n",
              "\n",
              "interpolation : {&#x27;nearest&#x27;, &#x27;higher&#x27;, &#x27;lower&#x27;, &#x27;midpoint&#x27;, &#x27;linear&#x27;}\n",
              "    Interpolation method used when calculating percentiles.\n",
              "\n",
              "Notes\n",
              "-----\n",
              "The median is included by default as the 50% percentile.\n",
              "\n",
              "Warnings\n",
              "--------\n",
              "We do not guarantee the output of `describe` to be stable. It will show\n",
              "statistics that we deem informative, and may be updated in the future.\n",
              "Using `describe` programmatically (versus interactive exploration) is\n",
              "not recommended for this reason.\n",
              "\n",
              "See Also\n",
              "--------\n",
              "glimpse\n",
              "\n",
              "Examples\n",
              "--------\n",
              "&gt;&gt;&gt; from datetime import date, time\n",
              "&gt;&gt;&gt; df = pl.DataFrame(\n",
              "...     {\n",
              "...         &quot;float&quot;: [1.0, 2.8, 3.0],\n",
              "...         &quot;int&quot;: [40, 50, None],\n",
              "...         &quot;bool&quot;: [True, False, True],\n",
              "...         &quot;str&quot;: [&quot;zz&quot;, &quot;xx&quot;, &quot;yy&quot;],\n",
              "...         &quot;date&quot;: [date(2020, 1, 1), date(2021, 7, 5), date(2022, 12, 31)],\n",
              "...         &quot;time&quot;: [time(10, 20, 30), time(14, 45, 50), time(23, 15, 10)],\n",
              "...     }\n",
              "... )\n",
              "\n",
              "Show default frame statistics:\n",
              "\n",
              "&gt;&gt;&gt; df.describe()\n",
              "shape: (9, 7)\n",
              "┌────────────┬──────────┬──────────┬──────────┬──────┬─────────────────────┬──────────┐\n",
              "│ statistic  ┆ float    ┆ int      ┆ bool     ┆ str  ┆ date                ┆ time     │\n",
              "│ ---        ┆ ---      ┆ ---      ┆ ---      ┆ ---  ┆ ---                 ┆ ---      │\n",
              "│ str        ┆ f64      ┆ f64      ┆ f64      ┆ str  ┆ str                 ┆ str      │\n",
              "╞════════════╪══════════╪══════════╪══════════╪══════╪═════════════════════╪══════════╡\n",
              "│ count      ┆ 3.0      ┆ 2.0      ┆ 3.0      ┆ 3    ┆ 3                   ┆ 3        │\n",
              "│ null_count ┆ 0.0      ┆ 1.0      ┆ 0.0      ┆ 0    ┆ 0                   ┆ 0        │\n",
              "│ mean       ┆ 2.266667 ┆ 45.0     ┆ 0.666667 ┆ null ┆ 2021-07-02 16:00:00 ┆ 16:07:10 │\n",
              "│ std        ┆ 1.101514 ┆ 7.071068 ┆ null     ┆ null ┆ null                ┆ null     │\n",
              "│ min        ┆ 1.0      ┆ 40.0     ┆ 0.0      ┆ xx   ┆ 2020-01-01          ┆ 10:20:30 │\n",
              "│ 25%        ┆ 2.8      ┆ 40.0     ┆ null     ┆ null ┆ 2021-07-05          ┆ 14:45:50 │\n",
              "│ 50%        ┆ 2.8      ┆ 50.0     ┆ null     ┆ null ┆ 2021-07-05          ┆ 14:45:50 │\n",
              "│ 75%        ┆ 3.0      ┆ 50.0     ┆ null     ┆ null ┆ 2022-12-31          ┆ 23:15:10 │\n",
              "│ max        ┆ 3.0      ┆ 50.0     ┆ 1.0      ┆ zz   ┆ 2022-12-31          ┆ 23:15:10 │\n",
              "└────────────┴──────────┴──────────┴──────────┴──────┴─────────────────────┴──────────┘\n",
              "\n",
              "Customize which percentiles are displayed, applying linear interpolation:\n",
              "\n",
              "&gt;&gt;&gt; with pl.Config(tbl_rows=12):\n",
              "...     df.describe(\n",
              "...         percentiles=[0.1, 0.3, 0.5, 0.7, 0.9],\n",
              "...         interpolation=&quot;linear&quot;,\n",
              "...     )\n",
              "shape: (11, 7)\n",
              "┌────────────┬──────────┬──────────┬──────────┬──────┬─────────────────────┬──────────┐\n",
              "│ statistic  ┆ float    ┆ int      ┆ bool     ┆ str  ┆ date                ┆ time     │\n",
              "│ ---        ┆ ---      ┆ ---      ┆ ---      ┆ ---  ┆ ---                 ┆ ---      │\n",
              "│ str        ┆ f64      ┆ f64      ┆ f64      ┆ str  ┆ str                 ┆ str      │\n",
              "╞════════════╪══════════╪══════════╪══════════╪══════╪═════════════════════╪══════════╡\n",
              "│ count      ┆ 3.0      ┆ 2.0      ┆ 3.0      ┆ 3    ┆ 3                   ┆ 3        │\n",
              "│ null_count ┆ 0.0      ┆ 1.0      ┆ 0.0      ┆ 0    ┆ 0                   ┆ 0        │\n",
              "│ mean       ┆ 2.266667 ┆ 45.0     ┆ 0.666667 ┆ null ┆ 2021-07-02 16:00:00 ┆ 16:07:10 │\n",
              "│ std        ┆ 1.101514 ┆ 7.071068 ┆ null     ┆ null ┆ null                ┆ null     │\n",
              "│ min        ┆ 1.0      ┆ 40.0     ┆ 0.0      ┆ xx   ┆ 2020-01-01          ┆ 10:20:30 │\n",
              "│ 10%        ┆ 1.36     ┆ 41.0     ┆ null     ┆ null ┆ 2020-04-20          ┆ 11:13:34 │\n",
              "│ 30%        ┆ 2.08     ┆ 43.0     ┆ null     ┆ null ┆ 2020-11-26          ┆ 12:59:42 │\n",
              "│ 50%        ┆ 2.8      ┆ 45.0     ┆ null     ┆ null ┆ 2021-07-05          ┆ 14:45:50 │\n",
              "│ 70%        ┆ 2.88     ┆ 47.0     ┆ null     ┆ null ┆ 2022-02-07          ┆ 18:09:34 │\n",
              "│ 90%        ┆ 2.96     ┆ 49.0     ┆ null     ┆ null ┆ 2022-09-13          ┆ 21:33:18 │\n",
              "│ max        ┆ 3.0      ┆ 50.0     ┆ 1.0      ┆ zz   ┆ 2022-12-31          ┆ 23:15:10 │\n",
              "└────────────┴──────────┴──────────┴──────────┴──────┴─────────────────────┴──────────┘</pre>\n",
              "      <script>\n",
              "      if (google.colab.kernel.accessAllowed && google.colab.files && google.colab.files.view) {\n",
              "        for (const element of document.querySelectorAll('.filepath')) {\n",
              "          element.style.display = 'block'\n",
              "          element.onclick = (event) => {\n",
              "            event.preventDefault();\n",
              "            event.stopPropagation();\n",
              "            google.colab.files.view(element.textContent, 4873);\n",
              "          };\n",
              "        }\n",
              "      }\n",
              "      for (const element of document.querySelectorAll('.function-repr-contents')) {\n",
              "        element.onclick = (event) => {\n",
              "          event.preventDefault();\n",
              "          event.stopPropagation();\n",
              "          element.classList.toggle('function-repr-contents-collapsed');\n",
              "        };\n",
              "      }\n",
              "      </script>\n",
              "      </div>"
            ]
          },
          "metadata": {},
          "execution_count": 4
        }
      ]
    },
    {
      "cell_type": "code",
      "source": [
        "(df.dtypes,type(df.dtypes))"
      ],
      "metadata": {
        "colab": {
          "base_uri": "https://localhost:8080/"
        },
        "id": "OPvQBigZ82G-",
        "outputId": "d9ff5eb6-799a-4c3e-deaf-632586ca80f9"
      },
      "execution_count": null,
      "outputs": [
        {
          "output_type": "execute_result",
          "data": {
            "text/plain": [
              "([Int64,\n",
              "  String,\n",
              "  String,\n",
              "  String,\n",
              "  String,\n",
              "  String,\n",
              "  Int64,\n",
              "  Int64,\n",
              "  Float64,\n",
              "  Int64,\n",
              "  Float64,\n",
              "  Int64],\n",
              " list)"
            ]
          },
          "metadata": {},
          "execution_count": 5
        }
      ]
    },
    {
      "cell_type": "code",
      "source": [
        "df2=df.select([\"Title\", \"Genre\", \"Rating\", \"Revenue (Millions)\"])\n",
        "df2"
      ],
      "metadata": {
        "colab": {
          "base_uri": "https://localhost:8080/",
          "height": 443
        },
        "id": "n2-nwPf_9FL9",
        "outputId": "496f0dce-dc5c-4c05-b76e-1d0fca34a2f8"
      },
      "execution_count": null,
      "outputs": [
        {
          "output_type": "execute_result",
          "data": {
            "text/plain": [
              "shape: (1_000, 4)\n",
              "┌─────────────────────────┬──────────────────────────┬────────┬────────────────────┐\n",
              "│ Title                   ┆ Genre                    ┆ Rating ┆ Revenue (Millions) │\n",
              "│ ---                     ┆ ---                      ┆ ---    ┆ ---                │\n",
              "│ str                     ┆ str                      ┆ f64    ┆ f64                │\n",
              "╞═════════════════════════╪══════════════════════════╪════════╪════════════════════╡\n",
              "│ Guardians of the Galaxy ┆ Action,Adventure,Sci-Fi  ┆ 8.1    ┆ 333.13             │\n",
              "│ Prometheus              ┆ Adventure,Mystery,Sci-Fi ┆ 7.0    ┆ 126.46             │\n",
              "│ Split                   ┆ Horror,Thriller          ┆ 7.3    ┆ 138.12             │\n",
              "│ Sing                    ┆ Animation,Comedy,Family  ┆ 7.2    ┆ 270.32             │\n",
              "│ Suicide Squad           ┆ Action,Adventure,Fantasy ┆ 6.2    ┆ 325.02             │\n",
              "│ …                       ┆ …                        ┆ …      ┆ …                  │\n",
              "│ Secret in Their Eyes    ┆ Crime,Drama,Mystery      ┆ 6.2    ┆ null               │\n",
              "│ Hostel: Part II         ┆ Horror                   ┆ 5.5    ┆ 17.54              │\n",
              "│ Step Up 2: The Streets  ┆ Drama,Music,Romance      ┆ 6.2    ┆ 58.01              │\n",
              "│ Search Party            ┆ Adventure,Comedy         ┆ 5.6    ┆ null               │\n",
              "│ Nine Lives              ┆ Comedy,Family,Fantasy    ┆ 5.3    ┆ 19.64              │\n",
              "└─────────────────────────┴──────────────────────────┴────────┴────────────────────┘"
            ],
            "text/html": [
              "<div><style>\n",
              ".dataframe > thead > tr,\n",
              ".dataframe > tbody > tr {\n",
              "  text-align: right;\n",
              "  white-space: pre-wrap;\n",
              "}\n",
              "</style>\n",
              "<small>shape: (1_000, 4)</small><table border=\"1\" class=\"dataframe\"><thead><tr><th>Title</th><th>Genre</th><th>Rating</th><th>Revenue (Millions)</th></tr><tr><td>str</td><td>str</td><td>f64</td><td>f64</td></tr></thead><tbody><tr><td>&quot;Guardians of the Galaxy&quot;</td><td>&quot;Action,Adventure,Sci-Fi&quot;</td><td>8.1</td><td>333.13</td></tr><tr><td>&quot;Prometheus&quot;</td><td>&quot;Adventure,Mystery,Sci-Fi&quot;</td><td>7.0</td><td>126.46</td></tr><tr><td>&quot;Split&quot;</td><td>&quot;Horror,Thriller&quot;</td><td>7.3</td><td>138.12</td></tr><tr><td>&quot;Sing&quot;</td><td>&quot;Animation,Comedy,Family&quot;</td><td>7.2</td><td>270.32</td></tr><tr><td>&quot;Suicide Squad&quot;</td><td>&quot;Action,Adventure,Fantasy&quot;</td><td>6.2</td><td>325.02</td></tr><tr><td>&hellip;</td><td>&hellip;</td><td>&hellip;</td><td>&hellip;</td></tr><tr><td>&quot;Secret in Their Eyes&quot;</td><td>&quot;Crime,Drama,Mystery&quot;</td><td>6.2</td><td>null</td></tr><tr><td>&quot;Hostel: Part II&quot;</td><td>&quot;Horror&quot;</td><td>5.5</td><td>17.54</td></tr><tr><td>&quot;Step Up 2: The Streets&quot;</td><td>&quot;Drama,Music,Romance&quot;</td><td>6.2</td><td>58.01</td></tr><tr><td>&quot;Search Party&quot;</td><td>&quot;Adventure,Comedy&quot;</td><td>5.6</td><td>null</td></tr><tr><td>&quot;Nine Lives&quot;</td><td>&quot;Comedy,Family,Fantasy&quot;</td><td>5.3</td><td>19.64</td></tr></tbody></table></div>"
            ]
          },
          "metadata": {},
          "execution_count": 11
        }
      ]
    },
    {
      "cell_type": "code",
      "source": [
        "df2.filter(pl.col(\"Rating\")> 8.5)"
      ],
      "metadata": {
        "colab": {
          "base_uri": "https://localhost:8080/",
          "height": 286
        },
        "id": "FlOeYpjG9IuI",
        "outputId": "5942da4a-23fd-4ce3-e582-d108d2687320"
      },
      "execution_count": null,
      "outputs": [
        {
          "output_type": "execute_result",
          "data": {
            "text/plain": [
              "shape: (6, 4)\n",
              "┌──────────────────┬─────────────────────────┬────────┬────────────────────┐\n",
              "│ Title            ┆ Genre                   ┆ Rating ┆ Revenue (Millions) │\n",
              "│ ---              ┆ ---                     ┆ ---    ┆ ---                │\n",
              "│ str              ┆ str                     ┆ f64    ┆ f64                │\n",
              "╞══════════════════╪═════════════════════════╪════════╪════════════════════╡\n",
              "│ Interstellar     ┆ Adventure,Drama,Sci-Fi  ┆ 8.6    ┆ 187.99             │\n",
              "│ The Dark Knight  ┆ Action,Crime,Drama      ┆ 9.0    ┆ 533.32             │\n",
              "│ Inception        ┆ Action,Adventure,Sci-Fi ┆ 8.8    ┆ 292.57             │\n",
              "│ Kimi no na wa    ┆ Animation,Drama,Fantasy ┆ 8.6    ┆ 4.68               │\n",
              "│ Dangal           ┆ Action,Biography,Drama  ┆ 8.8    ┆ 11.15              │\n",
              "│ The Intouchables ┆ Biography,Comedy,Drama  ┆ 8.6    ┆ 13.18              │\n",
              "└──────────────────┴─────────────────────────┴────────┴────────────────────┘"
            ],
            "text/html": [
              "<div><style>\n",
              ".dataframe > thead > tr,\n",
              ".dataframe > tbody > tr {\n",
              "  text-align: right;\n",
              "  white-space: pre-wrap;\n",
              "}\n",
              "</style>\n",
              "<small>shape: (6, 4)</small><table border=\"1\" class=\"dataframe\"><thead><tr><th>Title</th><th>Genre</th><th>Rating</th><th>Revenue (Millions)</th></tr><tr><td>str</td><td>str</td><td>f64</td><td>f64</td></tr></thead><tbody><tr><td>&quot;Interstellar&quot;</td><td>&quot;Adventure,Drama,Sci-Fi&quot;</td><td>8.6</td><td>187.99</td></tr><tr><td>&quot;The Dark Knight&quot;</td><td>&quot;Action,Crime,Drama&quot;</td><td>9.0</td><td>533.32</td></tr><tr><td>&quot;Inception&quot;</td><td>&quot;Action,Adventure,Sci-Fi&quot;</td><td>8.8</td><td>292.57</td></tr><tr><td>&quot;Kimi no na wa&quot;</td><td>&quot;Animation,Drama,Fantasy&quot;</td><td>8.6</td><td>4.68</td></tr><tr><td>&quot;Dangal&quot;</td><td>&quot;Action,Biography,Drama&quot;</td><td>8.8</td><td>11.15</td></tr><tr><td>&quot;The Intouchables&quot;</td><td>&quot;Biography,Comedy,Drama&quot;</td><td>8.6</td><td>13.18</td></tr></tbody></table></div>"
            ]
          },
          "metadata": {},
          "execution_count": 12
        }
      ]
    },
    {
      "cell_type": "code",
      "source": [
        "df.filter(pl.col(\"Year\")== 2008)"
      ],
      "metadata": {
        "colab": {
          "base_uri": "https://localhost:8080/",
          "height": 1000
        },
        "id": "rO9HMmvT-zci",
        "outputId": "a49cd970-2039-450d-8810-b77eb0740153"
      },
      "execution_count": null,
      "outputs": [
        {
          "output_type": "execute_result",
          "data": {
            "text/plain": [
              "shape: (52, 12)\n",
              "┌──────┬──────────────┬─────────────┬─────────────┬───┬────────┬─────────┬─────────────┬───────────┐\n",
              "│ Rank ┆ Title        ┆ Genre       ┆ Description ┆ … ┆ Rating ┆ Votes   ┆ Revenue     ┆ Metascore │\n",
              "│ ---  ┆ ---          ┆ ---         ┆ ---         ┆   ┆ ---    ┆ ---     ┆ (Millions)  ┆ ---       │\n",
              "│ i64  ┆ str          ┆ str         ┆ str         ┆   ┆ f64    ┆ i64     ┆ ---         ┆ i64       │\n",
              "│      ┆              ┆             ┆             ┆   ┆        ┆         ┆ f64         ┆           │\n",
              "╞══════╪══════════════╪═════════════╪═════════════╪═══╪════════╪═════════╪═════════════╪═══════════╡\n",
              "│ 55   ┆ The Dark     ┆ Action,Crim ┆ When the    ┆ … ┆ 9.0    ┆ 1791916 ┆ 533.32      ┆ 82        │\n",
              "│      ┆ Knight       ┆ e,Drama     ┆ menace      ┆   ┆        ┆         ┆             ┆           │\n",
              "│      ┆              ┆             ┆ known as    ┆   ┆        ┆         ┆             ┆           │\n",
              "│      ┆              ┆             ┆ the J…      ┆   ┆        ┆         ┆             ┆           │\n",
              "│ 129  ┆ Mamma Mia!   ┆ Comedy,Fami ┆ The story   ┆ … ┆ 6.4    ┆ 153481  ┆ 143.7       ┆ 51        │\n",
              "│      ┆              ┆ ly,Musical  ┆ of a        ┆   ┆        ┆         ┆             ┆           │\n",
              "│      ┆              ┆             ┆ bride-to-be ┆   ┆        ┆         ┆             ┆           │\n",
              "│      ┆              ┆             ┆ try…        ┆   ┆        ┆         ┆             ┆           │\n",
              "│ 166  ┆ Twilight     ┆ Drama,Fanta ┆ A teenage   ┆ … ┆ 5.2    ┆ 361449  ┆ 191.45      ┆ 56        │\n",
              "│      ┆              ┆ sy,Romance  ┆ girl risks  ┆   ┆        ┆         ┆             ┆           │\n",
              "│      ┆              ┆             ┆ everythin…  ┆   ┆        ┆         ┆             ┆           │\n",
              "│ 178  ┆ Tropic       ┆ Action,Come ┆ Through a   ┆ … ┆ 7.0    ┆ 321442  ┆ 110.42      ┆ 71        │\n",
              "│      ┆ Thunder      ┆ dy          ┆ series of   ┆   ┆        ┆         ┆             ┆           │\n",
              "│      ┆              ┆             ┆ freak occu… ┆   ┆        ┆         ┆             ┆           │\n",
              "│ 204  ┆ Iron Man     ┆ Action,Adve ┆ After being ┆ … ┆ 7.9    ┆ 737719  ┆ 318.3       ┆ 79        │\n",
              "│      ┆              ┆ nture,Sci-F ┆ held        ┆   ┆        ┆         ┆             ┆           │\n",
              "│      ┆              ┆ i           ┆ captive in  ┆   ┆        ┆         ┆             ┆           │\n",
              "│      ┆              ┆             ┆ an…         ┆   ┆        ┆         ┆             ┆           │\n",
              "│ …    ┆ …            ┆ …           ┆ …           ┆ … ┆ …      ┆ …       ┆ …           ┆ …         │\n",
              "│ 941  ┆ The Midnight ┆ Horror,Myst ┆ A photograp ┆ … ┆ 6.1    ┆ 50255   ┆ 0.07        ┆ 58        │\n",
              "│      ┆ Meat Train   ┆ ery         ┆ her's       ┆   ┆        ┆         ┆             ┆           │\n",
              "│      ┆              ┆             ┆ obsessive   ┆   ┆        ┆         ┆             ┆           │\n",
              "│      ┆              ┆             ┆ pur…        ┆   ┆        ┆         ┆             ┆           │\n",
              "│ 955  ┆ Death Race   ┆ Action,Sci- ┆ Ex-con      ┆ … ┆ 6.4    ┆ 173731  ┆ 36.06       ┆ 43        │\n",
              "│      ┆              ┆ Fi,Thriller ┆ Jensen Ames ┆   ┆        ┆         ┆             ┆           │\n",
              "│      ┆              ┆             ┆ is forced   ┆   ┆        ┆         ┆             ┆           │\n",
              "│      ┆              ┆             ┆ b…          ┆   ┆        ┆         ┆             ┆           │\n",
              "│ 963  ┆ The Other    ┆ Biography,D ┆ Two sisters ┆ … ┆ 6.7    ┆ 88260   ┆ 26.81       ┆ 50        │\n",
              "│      ┆ Boleyn Girl  ┆ rama,Histor ┆ contend for ┆   ┆        ┆         ┆             ┆           │\n",
              "│      ┆              ┆ y           ┆ the af…     ┆   ┆        ┆         ┆             ┆           │\n",
              "│ 989  ┆ Martyrs      ┆ Horror      ┆ A young     ┆ … ┆ 7.1    ┆ 63785   ┆ null        ┆ 89        │\n",
              "│      ┆              ┆             ┆ woman's     ┆   ┆        ┆         ┆             ┆           │\n",
              "│      ┆              ┆             ┆ quest for   ┆   ┆        ┆         ┆             ┆           │\n",
              "│      ┆              ┆             ┆ reve…       ┆   ┆        ┆         ┆             ┆           │\n",
              "│ 998  ┆ Step Up 2:   ┆ Drama,Music ┆ Romantic    ┆ … ┆ 6.2    ┆ 70699   ┆ 58.01       ┆ 50        │\n",
              "│      ┆ The Streets  ┆ ,Romance    ┆ sparks      ┆   ┆        ┆         ┆             ┆           │\n",
              "│      ┆              ┆             ┆ occur       ┆   ┆        ┆         ┆             ┆           │\n",
              "│      ┆              ┆             ┆ between …   ┆   ┆        ┆         ┆             ┆           │\n",
              "└──────┴──────────────┴─────────────┴─────────────┴───┴────────┴─────────┴─────────────┴───────────┘"
            ],
            "text/html": [
              "<div><style>\n",
              ".dataframe > thead > tr,\n",
              ".dataframe > tbody > tr {\n",
              "  text-align: right;\n",
              "  white-space: pre-wrap;\n",
              "}\n",
              "</style>\n",
              "<small>shape: (52, 12)</small><table border=\"1\" class=\"dataframe\"><thead><tr><th>Rank</th><th>Title</th><th>Genre</th><th>Description</th><th>Director</th><th>Actors</th><th>Year</th><th>Runtime (Minutes)</th><th>Rating</th><th>Votes</th><th>Revenue (Millions)</th><th>Metascore</th></tr><tr><td>i64</td><td>str</td><td>str</td><td>str</td><td>str</td><td>str</td><td>i64</td><td>i64</td><td>f64</td><td>i64</td><td>f64</td><td>i64</td></tr></thead><tbody><tr><td>55</td><td>&quot;The Dark Knight&quot;</td><td>&quot;Action,Crime,Drama&quot;</td><td>&quot;When the menace known as the J…</td><td>&quot;Christopher Nolan&quot;</td><td>&quot;Christian Bale, Heath Ledger, …</td><td>2008</td><td>152</td><td>9.0</td><td>1791916</td><td>533.32</td><td>82</td></tr><tr><td>129</td><td>&quot;Mamma Mia!&quot;</td><td>&quot;Comedy,Family,Musical&quot;</td><td>&quot;The story of a bride-to-be try…</td><td>&quot;Phyllida Lloyd&quot;</td><td>&quot;Meryl Streep, Pierce Brosnan, …</td><td>2008</td><td>108</td><td>6.4</td><td>153481</td><td>143.7</td><td>51</td></tr><tr><td>166</td><td>&quot;Twilight&quot;</td><td>&quot;Drama,Fantasy,Romance&quot;</td><td>&quot;A teenage girl risks everythin…</td><td>&quot;Catherine Hardwicke&quot;</td><td>&quot;Kristen Stewart, Robert Pattin…</td><td>2008</td><td>122</td><td>5.2</td><td>361449</td><td>191.45</td><td>56</td></tr><tr><td>178</td><td>&quot;Tropic Thunder&quot;</td><td>&quot;Action,Comedy&quot;</td><td>&quot;Through a series of freak occu…</td><td>&quot;Ben Stiller&quot;</td><td>&quot;Ben Stiller, Jack Black, Rober…</td><td>2008</td><td>107</td><td>7.0</td><td>321442</td><td>110.42</td><td>71</td></tr><tr><td>204</td><td>&quot;Iron Man&quot;</td><td>&quot;Action,Adventure,Sci-Fi&quot;</td><td>&quot;After being held captive in an…</td><td>&quot;Jon Favreau&quot;</td><td>&quot;Robert Downey Jr., Gwyneth Pal…</td><td>2008</td><td>126</td><td>7.9</td><td>737719</td><td>318.3</td><td>79</td></tr><tr><td>&hellip;</td><td>&hellip;</td><td>&hellip;</td><td>&hellip;</td><td>&hellip;</td><td>&hellip;</td><td>&hellip;</td><td>&hellip;</td><td>&hellip;</td><td>&hellip;</td><td>&hellip;</td><td>&hellip;</td></tr><tr><td>941</td><td>&quot;The Midnight Meat Train&quot;</td><td>&quot;Horror,Mystery&quot;</td><td>&quot;A photographer&#x27;s obsessive pur…</td><td>&quot;Ryûhei Kitamura&quot;</td><td>&quot;Vinnie Jones, Bradley Cooper, …</td><td>2008</td><td>98</td><td>6.1</td><td>50255</td><td>0.07</td><td>58</td></tr><tr><td>955</td><td>&quot;Death Race&quot;</td><td>&quot;Action,Sci-Fi,Thriller&quot;</td><td>&quot;Ex-con Jensen Ames is forced b…</td><td>&quot;Paul W.S. Anderson&quot;</td><td>&quot;Jason Statham, Joan Allen, Tyr…</td><td>2008</td><td>105</td><td>6.4</td><td>173731</td><td>36.06</td><td>43</td></tr><tr><td>963</td><td>&quot;The Other Boleyn Girl&quot;</td><td>&quot;Biography,Drama,History&quot;</td><td>&quot;Two sisters contend for the af…</td><td>&quot;Justin Chadwick&quot;</td><td>&quot;Natalie Portman, Scarlett Joha…</td><td>2008</td><td>115</td><td>6.7</td><td>88260</td><td>26.81</td><td>50</td></tr><tr><td>989</td><td>&quot;Martyrs&quot;</td><td>&quot;Horror&quot;</td><td>&quot;A young woman&#x27;s quest for reve…</td><td>&quot;Pascal Laugier&quot;</td><td>&quot;Morjana Alaoui, Mylène Jampano…</td><td>2008</td><td>99</td><td>7.1</td><td>63785</td><td>null</td><td>89</td></tr><tr><td>998</td><td>&quot;Step Up 2: The Streets&quot;</td><td>&quot;Drama,Music,Romance&quot;</td><td>&quot;Romantic sparks occur between …</td><td>&quot;Jon M. Chu&quot;</td><td>&quot;Robert Hoffman, Briana Evigan,…</td><td>2008</td><td>98</td><td>6.2</td><td>70699</td><td>58.01</td><td>50</td></tr></tbody></table></div>"
            ]
          },
          "metadata": {},
          "execution_count": 13
        }
      ]
    },
    {
      "cell_type": "code",
      "source": [
        "df.filter(pl.col(\"Genre\").str.contains(\"Action\"))"
      ],
      "metadata": {
        "colab": {
          "base_uri": "https://localhost:8080/",
          "height": 1000
        },
        "id": "pS4xP4U8_5XG",
        "outputId": "4d050d6e-6ede-4d23-cbf8-a93ef6c15f03"
      },
      "execution_count": null,
      "outputs": [
        {
          "output_type": "execute_result",
          "data": {
            "text/plain": [
              "shape: (303, 12)\n",
              "┌──────┬──────────────┬──────────────┬─────────────┬───┬────────┬────────┬─────────────┬───────────┐\n",
              "│ Rank ┆ Title        ┆ Genre        ┆ Description ┆ … ┆ Rating ┆ Votes  ┆ Revenue     ┆ Metascore │\n",
              "│ ---  ┆ ---          ┆ ---          ┆ ---         ┆   ┆ ---    ┆ ---    ┆ (Millions)  ┆ ---       │\n",
              "│ i64  ┆ str          ┆ str          ┆ str         ┆   ┆ f64    ┆ i64    ┆ ---         ┆ i64       │\n",
              "│      ┆              ┆              ┆             ┆   ┆        ┆        ┆ f64         ┆           │\n",
              "╞══════╪══════════════╪══════════════╪═════════════╪═══╪════════╪════════╪═════════════╪═══════════╡\n",
              "│ 1    ┆ Guardians of ┆ Action,Adven ┆ A group of  ┆ … ┆ 8.1    ┆ 757074 ┆ 333.13      ┆ 76        │\n",
              "│      ┆ the Galaxy   ┆ ture,Sci-Fi  ┆ intergalact ┆   ┆        ┆        ┆             ┆           │\n",
              "│      ┆              ┆              ┆ ic crimi…   ┆   ┆        ┆        ┆             ┆           │\n",
              "│ 5    ┆ Suicide      ┆ Action,Adven ┆ A secret    ┆ … ┆ 6.2    ┆ 393727 ┆ 325.02      ┆ 40        │\n",
              "│      ┆ Squad        ┆ ture,Fantasy ┆ government  ┆   ┆        ┆        ┆             ┆           │\n",
              "│      ┆              ┆              ┆ agency rec… ┆   ┆        ┆        ┆             ┆           │\n",
              "│ 6    ┆ The Great    ┆ Action,Adven ┆ European    ┆ … ┆ 6.1    ┆ 56036  ┆ 45.13       ┆ 42        │\n",
              "│      ┆ Wall         ┆ ture,Fantasy ┆ mercenaries ┆   ┆        ┆        ┆             ┆           │\n",
              "│      ┆              ┆              ┆ searching…  ┆   ┆        ┆        ┆             ┆           │\n",
              "│ 9    ┆ The Lost     ┆ Action,Adven ┆ A true-life ┆ … ┆ 7.1    ┆ 7188   ┆ 8.01        ┆ 78        │\n",
              "│      ┆ City of Z    ┆ ture,Biograp ┆ drama,      ┆   ┆        ┆        ┆             ┆           │\n",
              "│      ┆              ┆ hy           ┆ centering   ┆   ┆        ┆        ┆             ┆           │\n",
              "│      ┆              ┆              ┆ o…          ┆   ┆        ┆        ┆             ┆           │\n",
              "│ 13   ┆ Rogue One    ┆ Action,Adven ┆ The Rebel   ┆ … ┆ 7.9    ┆ 323118 ┆ 532.17      ┆ 65        │\n",
              "│      ┆              ┆ ture,Sci-Fi  ┆ Alliance    ┆   ┆        ┆        ┆             ┆           │\n",
              "│      ┆              ┆              ┆ makes a     ┆   ┆        ┆        ┆             ┆           │\n",
              "│      ┆              ┆              ┆ ris…        ┆   ┆        ┆        ┆             ┆           │\n",
              "│ …    ┆ …            ┆ …            ┆ …           ┆ … ┆ …      ┆ …      ┆ …           ┆ …         │\n",
              "│ 959  ┆ 3 Days to    ┆ Action,Drama ┆ A dying CIA ┆ … ┆ 6.2    ┆ 73567  ┆ 30.69       ┆ 40        │\n",
              "│      ┆ Kill         ┆ ,Thriller    ┆ agent       ┆   ┆        ┆        ┆             ┆           │\n",
              "│      ┆              ┆              ┆ trying to   ┆   ┆        ┆        ┆             ┆           │\n",
              "│      ┆              ┆              ┆ re…         ┆   ┆        ┆        ┆             ┆           │\n",
              "│ 969  ┆ Wrecker      ┆ Action,Horro ┆ Best        ┆ … ┆ 3.5    ┆ 1210   ┆ null        ┆ 37        │\n",
              "│      ┆              ┆ r,Thriller   ┆ friends     ┆   ┆        ┆        ┆             ┆           │\n",
              "│      ┆              ┆              ┆ Emily and   ┆   ┆        ┆        ┆             ┆           │\n",
              "│      ┆              ┆              ┆ Lesley …    ┆   ┆        ┆        ┆             ┆           │\n",
              "│ 970  ┆ The Lone     ┆ Action,Adven ┆ Native      ┆ … ┆ 6.5    ┆ 190855 ┆ 89.29       ┆ null      │\n",
              "│      ┆ Ranger       ┆ ture,Western ┆ American    ┆   ┆        ┆        ┆             ┆           │\n",
              "│      ┆              ┆              ┆ warrior     ┆   ┆        ┆        ┆             ┆           │\n",
              "│      ┆              ┆              ┆ Tonto …     ┆   ┆        ┆        ┆             ┆           │\n",
              "│ 991  ┆ Underworld:  ┆ Action,Adven ┆ An origins  ┆ … ┆ 6.6    ┆ 129708 ┆ 45.8        ┆ 44        │\n",
              "│      ┆ Rise of the  ┆ ture,Fantasy ┆ story       ┆   ┆        ┆        ┆             ┆           │\n",
              "│      ┆ Lycans       ┆              ┆ centered on ┆   ┆        ┆        ┆             ┆           │\n",
              "│      ┆              ┆              ┆ t…          ┆   ┆        ┆        ┆             ┆           │\n",
              "│ 994  ┆ Resident     ┆ Action,Adven ┆ While still ┆ … ┆ 5.9    ┆ 140900 ┆ 60.13       ┆ 37        │\n",
              "│      ┆ Evil:        ┆ ture,Horror  ┆ out to      ┆   ┆        ┆        ┆             ┆           │\n",
              "│      ┆ Afterlife    ┆              ┆ destroy     ┆   ┆        ┆        ┆             ┆           │\n",
              "│      ┆              ┆              ┆ the…        ┆   ┆        ┆        ┆             ┆           │\n",
              "└──────┴──────────────┴──────────────┴─────────────┴───┴────────┴────────┴─────────────┴───────────┘"
            ],
            "text/html": [
              "<div><style>\n",
              ".dataframe > thead > tr,\n",
              ".dataframe > tbody > tr {\n",
              "  text-align: right;\n",
              "  white-space: pre-wrap;\n",
              "}\n",
              "</style>\n",
              "<small>shape: (303, 12)</small><table border=\"1\" class=\"dataframe\"><thead><tr><th>Rank</th><th>Title</th><th>Genre</th><th>Description</th><th>Director</th><th>Actors</th><th>Year</th><th>Runtime (Minutes)</th><th>Rating</th><th>Votes</th><th>Revenue (Millions)</th><th>Metascore</th></tr><tr><td>i64</td><td>str</td><td>str</td><td>str</td><td>str</td><td>str</td><td>i64</td><td>i64</td><td>f64</td><td>i64</td><td>f64</td><td>i64</td></tr></thead><tbody><tr><td>1</td><td>&quot;Guardians of the Galaxy&quot;</td><td>&quot;Action,Adventure,Sci-Fi&quot;</td><td>&quot;A group of intergalactic crimi…</td><td>&quot;James Gunn&quot;</td><td>&quot;Chris Pratt, Vin Diesel, Bradl…</td><td>2014</td><td>121</td><td>8.1</td><td>757074</td><td>333.13</td><td>76</td></tr><tr><td>5</td><td>&quot;Suicide Squad&quot;</td><td>&quot;Action,Adventure,Fantasy&quot;</td><td>&quot;A secret government agency rec…</td><td>&quot;David Ayer&quot;</td><td>&quot;Will Smith, Jared Leto, Margot…</td><td>2016</td><td>123</td><td>6.2</td><td>393727</td><td>325.02</td><td>40</td></tr><tr><td>6</td><td>&quot;The Great Wall&quot;</td><td>&quot;Action,Adventure,Fantasy&quot;</td><td>&quot;European mercenaries searching…</td><td>&quot;Yimou Zhang&quot;</td><td>&quot;Matt Damon, Tian Jing, Willem …</td><td>2016</td><td>103</td><td>6.1</td><td>56036</td><td>45.13</td><td>42</td></tr><tr><td>9</td><td>&quot;The Lost City of Z&quot;</td><td>&quot;Action,Adventure,Biography&quot;</td><td>&quot;A true-life drama, centering o…</td><td>&quot;James Gray&quot;</td><td>&quot;Charlie Hunnam, Robert Pattins…</td><td>2016</td><td>141</td><td>7.1</td><td>7188</td><td>8.01</td><td>78</td></tr><tr><td>13</td><td>&quot;Rogue One&quot;</td><td>&quot;Action,Adventure,Sci-Fi&quot;</td><td>&quot;The Rebel Alliance makes a ris…</td><td>&quot;Gareth Edwards&quot;</td><td>&quot;Felicity Jones, Diego Luna, Al…</td><td>2016</td><td>133</td><td>7.9</td><td>323118</td><td>532.17</td><td>65</td></tr><tr><td>&hellip;</td><td>&hellip;</td><td>&hellip;</td><td>&hellip;</td><td>&hellip;</td><td>&hellip;</td><td>&hellip;</td><td>&hellip;</td><td>&hellip;</td><td>&hellip;</td><td>&hellip;</td><td>&hellip;</td></tr><tr><td>959</td><td>&quot;3 Days to Kill&quot;</td><td>&quot;Action,Drama,Thriller&quot;</td><td>&quot;A dying CIA agent trying to re…</td><td>&quot;McG&quot;</td><td>&quot;Kevin Costner, Hailee Steinfel…</td><td>2014</td><td>117</td><td>6.2</td><td>73567</td><td>30.69</td><td>40</td></tr><tr><td>969</td><td>&quot;Wrecker&quot;</td><td>&quot;Action,Horror,Thriller&quot;</td><td>&quot;Best friends Emily and Lesley …</td><td>&quot;Micheal Bafaro&quot;</td><td>&quot;Anna Hutchison, Andrea Whitbur…</td><td>2015</td><td>83</td><td>3.5</td><td>1210</td><td>null</td><td>37</td></tr><tr><td>970</td><td>&quot;The Lone Ranger&quot;</td><td>&quot;Action,Adventure,Western&quot;</td><td>&quot;Native American warrior Tonto …</td><td>&quot;Gore Verbinski&quot;</td><td>&quot;Johnny Depp, Armie Hammer, Wil…</td><td>2013</td><td>150</td><td>6.5</td><td>190855</td><td>89.29</td><td>null</td></tr><tr><td>991</td><td>&quot;Underworld: Rise of the Lycans&quot;</td><td>&quot;Action,Adventure,Fantasy&quot;</td><td>&quot;An origins story centered on t…</td><td>&quot;Patrick Tatopoulos&quot;</td><td>&quot;Rhona Mitra, Michael Sheen, Bi…</td><td>2009</td><td>92</td><td>6.6</td><td>129708</td><td>45.8</td><td>44</td></tr><tr><td>994</td><td>&quot;Resident Evil: Afterlife&quot;</td><td>&quot;Action,Adventure,Horror&quot;</td><td>&quot;While still out to destroy the…</td><td>&quot;Paul W.S. Anderson&quot;</td><td>&quot;Milla Jovovich, Ali Larter, We…</td><td>2010</td><td>97</td><td>5.9</td><td>140900</td><td>60.13</td><td>37</td></tr></tbody></table></div>"
            ]
          },
          "metadata": {},
          "execution_count": 14
        }
      ]
    },
    {
      "cell_type": "code",
      "source": [
        "df.group_by(\"Genre\").agg(pl.col(\"Rating\").mean().alias(\"Avg_Rating\"))"
      ],
      "metadata": {
        "colab": {
          "base_uri": "https://localhost:8080/",
          "height": 443
        },
        "id": "j50ksMwCAeaE",
        "outputId": "3cc46ca0-ea1e-4377-c8b2-c96eecde3966"
      },
      "execution_count": null,
      "outputs": [
        {
          "output_type": "execute_result",
          "data": {
            "text/plain": [
              "shape: (207, 2)\n",
              "┌──────────────────────────┬────────────┐\n",
              "│ Genre                    ┆ Avg_Rating │\n",
              "│ ---                      ┆ ---        │\n",
              "│ str                      ┆ f64        │\n",
              "╞══════════════════════════╪════════════╡\n",
              "│ Action,Adventure,Mystery ┆ 6.66       │\n",
              "│ Drama,Fantasy,Musical    ┆ 7.4        │\n",
              "│ Comedy,Horror,Sci-Fi     ┆ 6.5        │\n",
              "│ Comedy,Horror            ┆ 5.65       │\n",
              "│ Adventure,Drama,Romance  ┆ 6.8        │\n",
              "│ …                        ┆ …          │\n",
              "│ Action,Sci-Fi            ┆ 7.3        │\n",
              "│ Adventure,Drama,Thriller ┆ 7.566667   │\n",
              "│ Action,Adventure,Western ┆ 6.7        │\n",
              "│ Adventure,Horror         ┆ 5.3        │\n",
              "│ Comedy,Western           ┆ 4.8        │\n",
              "└──────────────────────────┴────────────┘"
            ],
            "text/html": [
              "<div><style>\n",
              ".dataframe > thead > tr,\n",
              ".dataframe > tbody > tr {\n",
              "  text-align: right;\n",
              "  white-space: pre-wrap;\n",
              "}\n",
              "</style>\n",
              "<small>shape: (207, 2)</small><table border=\"1\" class=\"dataframe\"><thead><tr><th>Genre</th><th>Avg_Rating</th></tr><tr><td>str</td><td>f64</td></tr></thead><tbody><tr><td>&quot;Action,Adventure,Mystery&quot;</td><td>6.66</td></tr><tr><td>&quot;Drama,Fantasy,Musical&quot;</td><td>7.4</td></tr><tr><td>&quot;Comedy,Horror,Sci-Fi&quot;</td><td>6.5</td></tr><tr><td>&quot;Comedy,Horror&quot;</td><td>5.65</td></tr><tr><td>&quot;Adventure,Drama,Romance&quot;</td><td>6.8</td></tr><tr><td>&hellip;</td><td>&hellip;</td></tr><tr><td>&quot;Action,Sci-Fi&quot;</td><td>7.3</td></tr><tr><td>&quot;Adventure,Drama,Thriller&quot;</td><td>7.566667</td></tr><tr><td>&quot;Action,Adventure,Western&quot;</td><td>6.7</td></tr><tr><td>&quot;Adventure,Horror&quot;</td><td>5.3</td></tr><tr><td>&quot;Comedy,Western&quot;</td><td>4.8</td></tr></tbody></table></div>"
            ]
          },
          "metadata": {},
          "execution_count": 15
        }
      ]
    },
    {
      "cell_type": "code",
      "source": [
        "df.top_k(5, by=\"Votes\")"
      ],
      "metadata": {
        "colab": {
          "base_uri": "https://localhost:8080/",
          "height": 517
        },
        "id": "RKI-zyPFBRtJ",
        "outputId": "1eb25530-4996-4a81-80b1-78e351249c3a"
      },
      "execution_count": null,
      "outputs": [
        {
          "output_type": "execute_result",
          "data": {
            "text/plain": [
              "shape: (5, 12)\n",
              "┌──────┬──────────────┬─────────────┬─────────────┬───┬────────┬─────────┬─────────────┬───────────┐\n",
              "│ Rank ┆ Title        ┆ Genre       ┆ Description ┆ … ┆ Rating ┆ Votes   ┆ Revenue     ┆ Metascore │\n",
              "│ ---  ┆ ---          ┆ ---         ┆ ---         ┆   ┆ ---    ┆ ---     ┆ (Millions)  ┆ ---       │\n",
              "│ i64  ┆ str          ┆ str         ┆ str         ┆   ┆ f64    ┆ i64     ┆ ---         ┆ i64       │\n",
              "│      ┆              ┆             ┆             ┆   ┆        ┆         ┆ f64         ┆           │\n",
              "╞══════╪══════════════╪═════════════╪═════════════╪═══╪════════╪═════════╪═════════════╪═══════════╡\n",
              "│ 55   ┆ The Dark     ┆ Action,Crim ┆ When the    ┆ … ┆ 9.0    ┆ 1791916 ┆ 533.32      ┆ 82        │\n",
              "│      ┆ Knight       ┆ e,Drama     ┆ menace      ┆   ┆        ┆         ┆             ┆           │\n",
              "│      ┆              ┆             ┆ known as    ┆   ┆        ┆         ┆             ┆           │\n",
              "│      ┆              ┆             ┆ the J…      ┆   ┆        ┆         ┆             ┆           │\n",
              "│ 81   ┆ Inception    ┆ Action,Adve ┆ A thief,    ┆ … ┆ 8.8    ┆ 1583625 ┆ 292.57      ┆ 74        │\n",
              "│      ┆              ┆ nture,Sci-F ┆ who steals  ┆   ┆        ┆         ┆             ┆           │\n",
              "│      ┆              ┆ i           ┆ corporate … ┆   ┆        ┆         ┆             ┆           │\n",
              "│ 125  ┆ The Dark     ┆ Action,Thri ┆ Eight years ┆ … ┆ 8.5    ┆ 1222645 ┆ 448.13      ┆ 78        │\n",
              "│      ┆ Knight Rises ┆ ller        ┆ after the   ┆   ┆        ┆         ┆             ┆           │\n",
              "│      ┆              ┆             ┆ Joker's …   ┆   ┆        ┆         ┆             ┆           │\n",
              "│ 37   ┆ Interstellar ┆ Adventure,D ┆ A team of   ┆ … ┆ 8.6    ┆ 1047747 ┆ 187.99      ┆ 74        │\n",
              "│      ┆              ┆ rama,Sci-Fi ┆ explorers   ┆   ┆        ┆         ┆             ┆           │\n",
              "│      ┆              ┆             ┆ travel thr… ┆   ┆        ┆         ┆             ┆           │\n",
              "│ 77   ┆ The Avengers ┆ Action,Sci- ┆ Earth's     ┆ … ┆ 8.1    ┆ 1045588 ┆ 623.28      ┆ 69        │\n",
              "│      ┆              ┆ Fi          ┆ mightiest   ┆   ┆        ┆         ┆             ┆           │\n",
              "│      ┆              ┆             ┆ heroes must ┆   ┆        ┆         ┆             ┆           │\n",
              "│      ┆              ┆             ┆ …           ┆   ┆        ┆         ┆             ┆           │\n",
              "└──────┴──────────────┴─────────────┴─────────────┴───┴────────┴─────────┴─────────────┴───────────┘"
            ],
            "text/html": [
              "<div><style>\n",
              ".dataframe > thead > tr,\n",
              ".dataframe > tbody > tr {\n",
              "  text-align: right;\n",
              "  white-space: pre-wrap;\n",
              "}\n",
              "</style>\n",
              "<small>shape: (5, 12)</small><table border=\"1\" class=\"dataframe\"><thead><tr><th>Rank</th><th>Title</th><th>Genre</th><th>Description</th><th>Director</th><th>Actors</th><th>Year</th><th>Runtime (Minutes)</th><th>Rating</th><th>Votes</th><th>Revenue (Millions)</th><th>Metascore</th></tr><tr><td>i64</td><td>str</td><td>str</td><td>str</td><td>str</td><td>str</td><td>i64</td><td>i64</td><td>f64</td><td>i64</td><td>f64</td><td>i64</td></tr></thead><tbody><tr><td>55</td><td>&quot;The Dark Knight&quot;</td><td>&quot;Action,Crime,Drama&quot;</td><td>&quot;When the menace known as the J…</td><td>&quot;Christopher Nolan&quot;</td><td>&quot;Christian Bale, Heath Ledger, …</td><td>2008</td><td>152</td><td>9.0</td><td>1791916</td><td>533.32</td><td>82</td></tr><tr><td>81</td><td>&quot;Inception&quot;</td><td>&quot;Action,Adventure,Sci-Fi&quot;</td><td>&quot;A thief, who steals corporate …</td><td>&quot;Christopher Nolan&quot;</td><td>&quot;Leonardo DiCaprio, Joseph Gord…</td><td>2010</td><td>148</td><td>8.8</td><td>1583625</td><td>292.57</td><td>74</td></tr><tr><td>125</td><td>&quot;The Dark Knight Rises&quot;</td><td>&quot;Action,Thriller&quot;</td><td>&quot;Eight years after the Joker&#x27;s …</td><td>&quot;Christopher Nolan&quot;</td><td>&quot;Christian Bale, Tom Hardy, Ann…</td><td>2012</td><td>164</td><td>8.5</td><td>1222645</td><td>448.13</td><td>78</td></tr><tr><td>37</td><td>&quot;Interstellar&quot;</td><td>&quot;Adventure,Drama,Sci-Fi&quot;</td><td>&quot;A team of explorers travel thr…</td><td>&quot;Christopher Nolan&quot;</td><td>&quot;Matthew McConaughey, Anne Hath…</td><td>2014</td><td>169</td><td>8.6</td><td>1047747</td><td>187.99</td><td>74</td></tr><tr><td>77</td><td>&quot;The Avengers&quot;</td><td>&quot;Action,Sci-Fi&quot;</td><td>&quot;Earth&#x27;s mightiest heroes must …</td><td>&quot;Joss Whedon&quot;</td><td>&quot;Robert Downey Jr., Chris Evans…</td><td>2012</td><td>143</td><td>8.1</td><td>1045588</td><td>623.28</td><td>69</td></tr></tbody></table></div>"
            ]
          },
          "metadata": {},
          "execution_count": 16
        }
      ]
    },
    {
      "cell_type": "code",
      "source": [
        "df.with_columns((pl.col(\"Year\") // 10* 10).alias(\"Decade\")).group_by(\"Decade\").agg(pl.col(\"Revenue (Millions)\").mean().alias(\"Avg_Revenue\"),pl.col(\"Rating\").mean().alias(\"Avg_Rating\")).sort(\"Decade\")\n"
      ],
      "metadata": {
        "colab": {
          "base_uri": "https://localhost:8080/",
          "height": 160
        },
        "id": "zyfd1gTUBk4p",
        "outputId": "9d23f73e-ed5b-4845-d7e2-9a0ee159d6bf"
      },
      "execution_count": null,
      "outputs": [
        {
          "output_type": "execute_result",
          "data": {
            "text/plain": [
              "shape: (2, 3)\n",
              "┌────────┬─────────────┬────────────┐\n",
              "│ Decade ┆ Avg_Revenue ┆ Avg_Rating │\n",
              "│ ---    ┆ ---         ┆ ---        │\n",
              "│ i64    ┆ f64         ┆ f64        │\n",
              "╞════════╪═════════════╪════════════╡\n",
              "│ 2000   ┆ 96.699312   ┆ 6.997      │\n",
              "│ 2010   ┆ 79.153426   ┆ 6.65475    │\n",
              "└────────┴─────────────┴────────────┘"
            ],
            "text/html": [
              "<div><style>\n",
              ".dataframe > thead > tr,\n",
              ".dataframe > tbody > tr {\n",
              "  text-align: right;\n",
              "  white-space: pre-wrap;\n",
              "}\n",
              "</style>\n",
              "<small>shape: (2, 3)</small><table border=\"1\" class=\"dataframe\"><thead><tr><th>Decade</th><th>Avg_Revenue</th><th>Avg_Rating</th></tr><tr><td>i64</td><td>f64</td><td>f64</td></tr></thead><tbody><tr><td>2000</td><td>96.699312</td><td>6.997</td></tr><tr><td>2010</td><td>79.153426</td><td>6.65475</td></tr></tbody></table></div>"
            ]
          },
          "metadata": {},
          "execution_count": 19
        }
      ]
    },
    {
      "cell_type": "code",
      "source": [
        "df.sort(\"Revenue (Millions)\", descending=True).drop_nulls()"
      ],
      "metadata": {
        "colab": {
          "base_uri": "https://localhost:8080/",
          "height": 983
        },
        "id": "BpzjPSYYDgMv",
        "outputId": "9211cea6-b442-4963-87cb-196a4f211bce"
      },
      "execution_count": null,
      "outputs": [
        {
          "output_type": "execute_result",
          "data": {
            "text/plain": [
              "shape: (838, 12)\n",
              "┌──────┬──────────────┬─────────────┬─────────────┬───┬────────┬─────────┬─────────────┬───────────┐\n",
              "│ Rank ┆ Title        ┆ Genre       ┆ Description ┆ … ┆ Rating ┆ Votes   ┆ Revenue     ┆ Metascore │\n",
              "│ ---  ┆ ---          ┆ ---         ┆ ---         ┆   ┆ ---    ┆ ---     ┆ (Millions)  ┆ ---       │\n",
              "│ i64  ┆ str          ┆ str         ┆ str         ┆   ┆ f64    ┆ i64     ┆ ---         ┆ i64       │\n",
              "│      ┆              ┆             ┆             ┆   ┆        ┆         ┆ f64         ┆           │\n",
              "╞══════╪══════════════╪═════════════╪═════════════╪═══╪════════╪═════════╪═════════════╪═══════════╡\n",
              "│ 51   ┆ Star Wars:   ┆ Action,Adve ┆ Three       ┆ … ┆ 8.1    ┆ 661608  ┆ 936.63      ┆ 81        │\n",
              "│      ┆ Episode VII  ┆ nture,Fanta ┆ decades     ┆   ┆        ┆         ┆             ┆           │\n",
              "│      ┆ - The F…     ┆ sy          ┆ after the   ┆   ┆        ┆         ┆             ┆           │\n",
              "│      ┆              ┆             ┆ defeat…     ┆   ┆        ┆         ┆             ┆           │\n",
              "│ 88   ┆ Avatar       ┆ Action,Adve ┆ A           ┆ … ┆ 7.8    ┆ 935408  ┆ 760.51      ┆ 83        │\n",
              "│      ┆              ┆ nture,Fanta ┆ paraplegic  ┆   ┆        ┆         ┆             ┆           │\n",
              "│      ┆              ┆ sy          ┆ marine      ┆   ┆        ┆         ┆             ┆           │\n",
              "│      ┆              ┆             ┆ dispatched… ┆   ┆        ┆         ┆             ┆           │\n",
              "│ 86   ┆ Jurassic     ┆ Action,Adve ┆ A new theme ┆ … ┆ 7.0    ┆ 455169  ┆ 652.18      ┆ 59        │\n",
              "│      ┆ World        ┆ nture,Sci-F ┆ park, built ┆   ┆        ┆         ┆             ┆           │\n",
              "│      ┆              ┆ i           ┆ on the…     ┆   ┆        ┆         ┆             ┆           │\n",
              "│ 77   ┆ The Avengers ┆ Action,Sci- ┆ Earth's     ┆ … ┆ 8.1    ┆ 1045588 ┆ 623.28      ┆ 69        │\n",
              "│      ┆              ┆ Fi          ┆ mightiest   ┆   ┆        ┆         ┆             ┆           │\n",
              "│      ┆              ┆             ┆ heroes must ┆   ┆        ┆         ┆             ┆           │\n",
              "│      ┆              ┆             ┆ …           ┆   ┆        ┆         ┆             ┆           │\n",
              "│ 55   ┆ The Dark     ┆ Action,Crim ┆ When the    ┆ … ┆ 9.0    ┆ 1791916 ┆ 533.32      ┆ 82        │\n",
              "│      ┆ Knight       ┆ e,Drama     ┆ menace      ┆   ┆        ┆         ┆             ┆           │\n",
              "│      ┆              ┆             ┆ known as    ┆   ┆        ┆         ┆             ┆           │\n",
              "│      ┆              ┆             ┆ the J…      ┆   ┆        ┆         ┆             ┆           │\n",
              "│ …    ┆ …            ┆ …           ┆ …           ┆ … ┆ …      ┆ …       ┆ …           ┆ …         │\n",
              "│ 69   ┆ Wakefield    ┆ Drama       ┆ A man's     ┆ … ┆ 7.5    ┆ 291     ┆ 0.01        ┆ 61        │\n",
              "│      ┆              ┆             ┆ nervous     ┆   ┆        ┆         ┆             ┆           │\n",
              "│      ┆              ┆             ┆ breakdown   ┆   ┆        ┆         ┆             ┆           │\n",
              "│      ┆              ┆             ┆ caus…       ┆   ┆        ┆         ┆             ┆           │\n",
              "│ 322  ┆ Lovesong     ┆ Drama       ┆ The relatio ┆ … ┆ 6.4    ┆ 616     ┆ 0.01        ┆ 74        │\n",
              "│      ┆              ┆             ┆ nship       ┆   ┆        ┆         ┆             ┆           │\n",
              "│      ┆              ┆             ┆ between two ┆   ┆        ┆         ┆             ┆           │\n",
              "│      ┆              ┆             ┆ f…          ┆   ┆        ┆         ┆             ┆           │\n",
              "│ 678  ┆ Love, Rosie  ┆ Comedy,Roma ┆ Rosie and   ┆ … ┆ 7.2    ┆ 80415   ┆ 0.01        ┆ 44        │\n",
              "│      ┆              ┆ nce         ┆ Alex have   ┆   ┆        ┆         ┆             ┆           │\n",
              "│      ┆              ┆             ┆ been best … ┆   ┆        ┆         ┆             ┆           │\n",
              "│ 962  ┆ Into the     ┆ Drama,Sci-F ┆ After a     ┆ … ┆ 5.9    ┆ 10220   ┆ 0.01        ┆ 59        │\n",
              "│      ┆ Forest       ┆ i,Thriller  ┆ massive     ┆   ┆        ┆         ┆             ┆           │\n",
              "│      ┆              ┆             ┆ power       ┆   ┆        ┆         ┆             ┆           │\n",
              "│      ┆              ┆             ┆ outage, …   ┆   ┆        ┆         ┆             ┆           │\n",
              "│ 232  ┆ A Kind of    ┆ Crime,Drama ┆ In 1960s    ┆ … ┆ 5.2    ┆ 3305    ┆ 0.0         ┆ 50        │\n",
              "│      ┆ Murder       ┆ ,Thriller   ┆ New York,   ┆   ┆        ┆         ┆             ┆           │\n",
              "│      ┆              ┆             ┆ Walter      ┆   ┆        ┆         ┆             ┆           │\n",
              "│      ┆              ┆             ┆ Stac…       ┆   ┆        ┆         ┆             ┆           │\n",
              "└──────┴──────────────┴─────────────┴─────────────┴───┴────────┴─────────┴─────────────┴───────────┘"
            ],
            "text/html": [
              "<div><style>\n",
              ".dataframe > thead > tr,\n",
              ".dataframe > tbody > tr {\n",
              "  text-align: right;\n",
              "  white-space: pre-wrap;\n",
              "}\n",
              "</style>\n",
              "<small>shape: (838, 12)</small><table border=\"1\" class=\"dataframe\"><thead><tr><th>Rank</th><th>Title</th><th>Genre</th><th>Description</th><th>Director</th><th>Actors</th><th>Year</th><th>Runtime (Minutes)</th><th>Rating</th><th>Votes</th><th>Revenue (Millions)</th><th>Metascore</th></tr><tr><td>i64</td><td>str</td><td>str</td><td>str</td><td>str</td><td>str</td><td>i64</td><td>i64</td><td>f64</td><td>i64</td><td>f64</td><td>i64</td></tr></thead><tbody><tr><td>51</td><td>&quot;Star Wars: Episode VII - The F…</td><td>&quot;Action,Adventure,Fantasy&quot;</td><td>&quot;Three decades after the defeat…</td><td>&quot;J.J. Abrams&quot;</td><td>&quot;Daisy Ridley, John Boyega, Osc…</td><td>2015</td><td>136</td><td>8.1</td><td>661608</td><td>936.63</td><td>81</td></tr><tr><td>88</td><td>&quot;Avatar&quot;</td><td>&quot;Action,Adventure,Fantasy&quot;</td><td>&quot;A paraplegic marine dispatched…</td><td>&quot;James Cameron&quot;</td><td>&quot;Sam Worthington, Zoe Saldana, …</td><td>2009</td><td>162</td><td>7.8</td><td>935408</td><td>760.51</td><td>83</td></tr><tr><td>86</td><td>&quot;Jurassic World&quot;</td><td>&quot;Action,Adventure,Sci-Fi&quot;</td><td>&quot;A new theme park, built on the…</td><td>&quot;Colin Trevorrow&quot;</td><td>&quot;Chris Pratt, Bryce Dallas Howa…</td><td>2015</td><td>124</td><td>7.0</td><td>455169</td><td>652.18</td><td>59</td></tr><tr><td>77</td><td>&quot;The Avengers&quot;</td><td>&quot;Action,Sci-Fi&quot;</td><td>&quot;Earth&#x27;s mightiest heroes must …</td><td>&quot;Joss Whedon&quot;</td><td>&quot;Robert Downey Jr., Chris Evans…</td><td>2012</td><td>143</td><td>8.1</td><td>1045588</td><td>623.28</td><td>69</td></tr><tr><td>55</td><td>&quot;The Dark Knight&quot;</td><td>&quot;Action,Crime,Drama&quot;</td><td>&quot;When the menace known as the J…</td><td>&quot;Christopher Nolan&quot;</td><td>&quot;Christian Bale, Heath Ledger, …</td><td>2008</td><td>152</td><td>9.0</td><td>1791916</td><td>533.32</td><td>82</td></tr><tr><td>&hellip;</td><td>&hellip;</td><td>&hellip;</td><td>&hellip;</td><td>&hellip;</td><td>&hellip;</td><td>&hellip;</td><td>&hellip;</td><td>&hellip;</td><td>&hellip;</td><td>&hellip;</td><td>&hellip;</td></tr><tr><td>69</td><td>&quot;Wakefield&quot;</td><td>&quot;Drama&quot;</td><td>&quot;A man&#x27;s nervous breakdown caus…</td><td>&quot;Robin Swicord&quot;</td><td>&quot;Bryan Cranston, Jennifer Garne…</td><td>2016</td><td>106</td><td>7.5</td><td>291</td><td>0.01</td><td>61</td></tr><tr><td>322</td><td>&quot;Lovesong&quot;</td><td>&quot;Drama&quot;</td><td>&quot;The relationship between two f…</td><td>&quot;So Yong Kim&quot;</td><td>&quot;Riley Keough, Jena Malone, Jes…</td><td>2016</td><td>84</td><td>6.4</td><td>616</td><td>0.01</td><td>74</td></tr><tr><td>678</td><td>&quot;Love, Rosie&quot;</td><td>&quot;Comedy,Romance&quot;</td><td>&quot;Rosie and Alex have been best …</td><td>&quot;Christian Ditter&quot;</td><td>&quot;Lily Collins, Sam Claflin, Chr…</td><td>2014</td><td>102</td><td>7.2</td><td>80415</td><td>0.01</td><td>44</td></tr><tr><td>962</td><td>&quot;Into the Forest&quot;</td><td>&quot;Drama,Sci-Fi,Thriller&quot;</td><td>&quot;After a massive power outage, …</td><td>&quot;Patricia Rozema&quot;</td><td>&quot;Ellen Page, Evan Rachel Wood, …</td><td>2015</td><td>101</td><td>5.9</td><td>10220</td><td>0.01</td><td>59</td></tr><tr><td>232</td><td>&quot;A Kind of Murder&quot;</td><td>&quot;Crime,Drama,Thriller&quot;</td><td>&quot;In 1960s New York, Walter Stac…</td><td>&quot;Andy Goddard&quot;</td><td>&quot;Patrick Wilson, Jessica Biel, …</td><td>2016</td><td>95</td><td>5.2</td><td>3305</td><td>0.0</td><td>50</td></tr></tbody></table></div>"
            ]
          },
          "metadata": {},
          "execution_count": 20
        }
      ]
    },
    {
      "cell_type": "code",
      "source": [
        "df.with_columns((pl.col(\"Revenue (Millions)\")/pl.col(\"Runtime (Minutes)\")).alias(\"Revenue_per_minute\")).sort(\"Revenue_per_minute\", descending=True)"
      ],
      "metadata": {
        "colab": {
          "base_uri": "https://localhost:8080/",
          "height": 949
        },
        "id": "v2GNmShtF3o4",
        "outputId": "416da08a-9769-4166-9892-81309c9d3019"
      },
      "execution_count": null,
      "outputs": [
        {
          "output_type": "execute_result",
          "data": {
            "text/plain": [
              "shape: (1_000, 13)\n",
              "┌──────┬─────────────┬─────────────┬─────────────┬───┬───────┬────────────┬───────────┬────────────┐\n",
              "│ Rank ┆ Title       ┆ Genre       ┆ Description ┆ … ┆ Votes ┆ Revenue    ┆ Metascore ┆ Revenue_pe │\n",
              "│ ---  ┆ ---         ┆ ---         ┆ ---         ┆   ┆ ---   ┆ (Millions) ┆ ---       ┆ r_minute   │\n",
              "│ i64  ┆ str         ┆ str         ┆ str         ┆   ┆ i64   ┆ ---        ┆ i64       ┆ ---        │\n",
              "│      ┆             ┆             ┆             ┆   ┆       ┆ f64        ┆           ┆ f64        │\n",
              "╞══════╪═════════════╪═════════════╪═════════════╪═══╪═══════╪════════════╪═══════════╪════════════╡\n",
              "│ 8    ┆ Mindhorn    ┆ Comedy      ┆ A has-been  ┆ … ┆ 2490  ┆ null       ┆ 71        ┆ null       │\n",
              "│      ┆             ┆             ┆ actor best  ┆   ┆       ┆            ┆           ┆            │\n",
              "│      ┆             ┆             ┆ known fo…   ┆   ┆       ┆            ┆           ┆            │\n",
              "│ 23   ┆ Hounds of   ┆ Crime,Drama ┆ A cold-bloo ┆ … ┆ 1115  ┆ null       ┆ 72        ┆ null       │\n",
              "│      ┆ Love        ┆ ,Horror     ┆ ded         ┆   ┆       ┆            ┆           ┆            │\n",
              "│      ┆             ┆             ┆ predatory   ┆   ┆       ┆            ┆           ┆            │\n",
              "│      ┆             ┆             ┆ coupl…      ┆   ┆       ┆            ┆           ┆            │\n",
              "│ 26   ┆ Paris pieds ┆ Comedy      ┆ Fiona       ┆ … ┆ 222   ┆ null       ┆ null      ┆ null       │\n",
              "│      ┆ nus         ┆             ┆ visits      ┆   ┆       ┆            ┆           ┆            │\n",
              "│      ┆             ┆             ┆ Paris for   ┆   ┆       ┆            ┆           ┆            │\n",
              "│      ┆             ┆             ┆ the fir…    ┆   ┆       ┆            ┆           ┆            │\n",
              "│ 40   ┆ 5- 25- 77   ┆ Comedy,Dram ┆ Alienated,  ┆ … ┆ 241   ┆ null       ┆ null      ┆ null       │\n",
              "│      ┆             ┆ a           ┆ hopeful-fil ┆   ┆       ┆            ┆           ┆            │\n",
              "│      ┆             ┆             ┆ mmaker P…   ┆   ┆       ┆            ┆           ┆            │\n",
              "│ 43   ┆ Don't Fuck  ┆ Horror      ┆ A group of  ┆ … ┆ 496   ┆ null       ┆ null      ┆ null       │\n",
              "│      ┆ in the      ┆             ┆ friends are ┆   ┆       ┆            ┆           ┆            │\n",
              "│      ┆ Woods       ┆             ┆ going o…    ┆   ┆       ┆            ┆           ┆            │\n",
              "│ …    ┆ …           ┆ …           ┆ …           ┆ … ┆ …     ┆ …          ┆ …         ┆ …          │\n",
              "│ 28   ┆ Dead Awake  ┆ Horror,Thri ┆ A young     ┆ … ┆ 523   ┆ 0.01       ┆ null      ┆ 0.000101   │\n",
              "│      ┆             ┆ ller        ┆ woman must  ┆   ┆       ┆            ┆           ┆            │\n",
              "│      ┆             ┆             ┆ save        ┆   ┆       ┆            ┆           ┆            │\n",
              "│      ┆             ┆             ┆ hersel…     ┆   ┆       ┆            ┆           ┆            │\n",
              "│ 962  ┆ Into the    ┆ Drama,Sci-F ┆ After a     ┆ … ┆ 10220 ┆ 0.01       ┆ 59        ┆ 0.000099   │\n",
              "│      ┆ Forest      ┆ i,Thriller  ┆ massive     ┆   ┆       ┆            ┆           ┆            │\n",
              "│      ┆             ┆             ┆ power       ┆   ┆       ┆            ┆           ┆            │\n",
              "│      ┆             ┆             ┆ outage, …   ┆   ┆       ┆            ┆           ┆            │\n",
              "│ 678  ┆ Love, Rosie ┆ Comedy,Roma ┆ Rosie and   ┆ … ┆ 80415 ┆ 0.01       ┆ 44        ┆ 0.000098   │\n",
              "│      ┆             ┆ nce         ┆ Alex have   ┆   ┆       ┆            ┆           ┆            │\n",
              "│      ┆             ┆             ┆ been best … ┆   ┆       ┆            ┆           ┆            │\n",
              "│ 69   ┆ Wakefield   ┆ Drama       ┆ A man's     ┆ … ┆ 291   ┆ 0.01       ┆ 61        ┆ 0.000094   │\n",
              "│      ┆             ┆             ┆ nervous     ┆   ┆       ┆            ┆           ┆            │\n",
              "│      ┆             ┆             ┆ breakdown   ┆   ┆       ┆            ┆           ┆            │\n",
              "│      ┆             ┆             ┆ caus…       ┆   ┆       ┆            ┆           ┆            │\n",
              "│ 232  ┆ A Kind of   ┆ Crime,Drama ┆ In 1960s    ┆ … ┆ 3305  ┆ 0.0        ┆ 50        ┆ 0.0        │\n",
              "│      ┆ Murder      ┆ ,Thriller   ┆ New York,   ┆   ┆       ┆            ┆           ┆            │\n",
              "│      ┆             ┆             ┆ Walter      ┆   ┆       ┆            ┆           ┆            │\n",
              "│      ┆             ┆             ┆ Stac…       ┆   ┆       ┆            ┆           ┆            │\n",
              "└──────┴─────────────┴─────────────┴─────────────┴───┴───────┴────────────┴───────────┴────────────┘"
            ],
            "text/html": [
              "<div><style>\n",
              ".dataframe > thead > tr,\n",
              ".dataframe > tbody > tr {\n",
              "  text-align: right;\n",
              "  white-space: pre-wrap;\n",
              "}\n",
              "</style>\n",
              "<small>shape: (1_000, 13)</small><table border=\"1\" class=\"dataframe\"><thead><tr><th>Rank</th><th>Title</th><th>Genre</th><th>Description</th><th>Director</th><th>Actors</th><th>Year</th><th>Runtime (Minutes)</th><th>Rating</th><th>Votes</th><th>Revenue (Millions)</th><th>Metascore</th><th>Revenue_per_minute</th></tr><tr><td>i64</td><td>str</td><td>str</td><td>str</td><td>str</td><td>str</td><td>i64</td><td>i64</td><td>f64</td><td>i64</td><td>f64</td><td>i64</td><td>f64</td></tr></thead><tbody><tr><td>8</td><td>&quot;Mindhorn&quot;</td><td>&quot;Comedy&quot;</td><td>&quot;A has-been actor best known fo…</td><td>&quot;Sean Foley&quot;</td><td>&quot;Essie Davis, Andrea Riseboroug…</td><td>2016</td><td>89</td><td>6.4</td><td>2490</td><td>null</td><td>71</td><td>null</td></tr><tr><td>23</td><td>&quot;Hounds of Love&quot;</td><td>&quot;Crime,Drama,Horror&quot;</td><td>&quot;A cold-blooded predatory coupl…</td><td>&quot;Ben Young&quot;</td><td>&quot;Emma Booth, Ashleigh Cummings,…</td><td>2016</td><td>108</td><td>6.7</td><td>1115</td><td>null</td><td>72</td><td>null</td></tr><tr><td>26</td><td>&quot;Paris pieds nus&quot;</td><td>&quot;Comedy&quot;</td><td>&quot;Fiona visits Paris for the fir…</td><td>&quot;Dominique Abel&quot;</td><td>&quot;Fiona Gordon, Dominique Abel,E…</td><td>2016</td><td>83</td><td>6.8</td><td>222</td><td>null</td><td>null</td><td>null</td></tr><tr><td>40</td><td>&quot;5- 25- 77&quot;</td><td>&quot;Comedy,Drama&quot;</td><td>&quot;Alienated, hopeful-filmmaker P…</td><td>&quot;Patrick Read Johnson&quot;</td><td>&quot;John Francis Daley, Austin Pen…</td><td>2007</td><td>113</td><td>7.1</td><td>241</td><td>null</td><td>null</td><td>null</td></tr><tr><td>43</td><td>&quot;Don&#x27;t Fuck in the Woods&quot;</td><td>&quot;Horror&quot;</td><td>&quot;A group of friends are going o…</td><td>&quot;Shawn Burkett&quot;</td><td>&quot;Brittany Blanton, Ayse Howard,…</td><td>2016</td><td>73</td><td>2.7</td><td>496</td><td>null</td><td>null</td><td>null</td></tr><tr><td>&hellip;</td><td>&hellip;</td><td>&hellip;</td><td>&hellip;</td><td>&hellip;</td><td>&hellip;</td><td>&hellip;</td><td>&hellip;</td><td>&hellip;</td><td>&hellip;</td><td>&hellip;</td><td>&hellip;</td><td>&hellip;</td></tr><tr><td>28</td><td>&quot;Dead Awake&quot;</td><td>&quot;Horror,Thriller&quot;</td><td>&quot;A young woman must save hersel…</td><td>&quot;Phillip Guzman&quot;</td><td>&quot;Jocelin Donahue, Jesse Bradfor…</td><td>2016</td><td>99</td><td>4.7</td><td>523</td><td>0.01</td><td>null</td><td>0.000101</td></tr><tr><td>962</td><td>&quot;Into the Forest&quot;</td><td>&quot;Drama,Sci-Fi,Thriller&quot;</td><td>&quot;After a massive power outage, …</td><td>&quot;Patricia Rozema&quot;</td><td>&quot;Ellen Page, Evan Rachel Wood, …</td><td>2015</td><td>101</td><td>5.9</td><td>10220</td><td>0.01</td><td>59</td><td>0.000099</td></tr><tr><td>678</td><td>&quot;Love, Rosie&quot;</td><td>&quot;Comedy,Romance&quot;</td><td>&quot;Rosie and Alex have been best …</td><td>&quot;Christian Ditter&quot;</td><td>&quot;Lily Collins, Sam Claflin, Chr…</td><td>2014</td><td>102</td><td>7.2</td><td>80415</td><td>0.01</td><td>44</td><td>0.000098</td></tr><tr><td>69</td><td>&quot;Wakefield&quot;</td><td>&quot;Drama&quot;</td><td>&quot;A man&#x27;s nervous breakdown caus…</td><td>&quot;Robin Swicord&quot;</td><td>&quot;Bryan Cranston, Jennifer Garne…</td><td>2016</td><td>106</td><td>7.5</td><td>291</td><td>0.01</td><td>61</td><td>0.000094</td></tr><tr><td>232</td><td>&quot;A Kind of Murder&quot;</td><td>&quot;Crime,Drama,Thriller&quot;</td><td>&quot;In 1960s New York, Walter Stac…</td><td>&quot;Andy Goddard&quot;</td><td>&quot;Patrick Wilson, Jessica Biel, …</td><td>2016</td><td>95</td><td>5.2</td><td>3305</td><td>0.0</td><td>50</td><td>0.0</td></tr></tbody></table></div>"
            ]
          },
          "metadata": {},
          "execution_count": 25
        }
      ]
    },
    {
      "cell_type": "code",
      "source": [
        "df.null_count()\n"
      ],
      "metadata": {
        "colab": {
          "base_uri": "https://localhost:8080/",
          "height": 146
        },
        "id": "dNhLcVb9I--J",
        "outputId": "e5db4cf4-695f-4ff7-a904-bd5237353f88"
      },
      "execution_count": null,
      "outputs": [
        {
          "output_type": "execute_result",
          "data": {
            "text/plain": [
              "shape: (1, 12)\n",
              "┌──────┬───────┬───────┬─────────────┬───┬────────┬───────┬────────────────────┬───────────┐\n",
              "│ Rank ┆ Title ┆ Genre ┆ Description ┆ … ┆ Rating ┆ Votes ┆ Revenue (Millions) ┆ Metascore │\n",
              "│ ---  ┆ ---   ┆ ---   ┆ ---         ┆   ┆ ---    ┆ ---   ┆ ---                ┆ ---       │\n",
              "│ u32  ┆ u32   ┆ u32   ┆ u32         ┆   ┆ u32    ┆ u32   ┆ u32                ┆ u32       │\n",
              "╞══════╪═══════╪═══════╪═════════════╪═══╪════════╪═══════╪════════════════════╪═══════════╡\n",
              "│ 0    ┆ 0     ┆ 0     ┆ 0           ┆ … ┆ 0      ┆ 0     ┆ 128                ┆ 64        │\n",
              "└──────┴───────┴───────┴─────────────┴───┴────────┴───────┴────────────────────┴───────────┘"
            ],
            "text/html": [
              "<div><style>\n",
              ".dataframe > thead > tr,\n",
              ".dataframe > tbody > tr {\n",
              "  text-align: right;\n",
              "  white-space: pre-wrap;\n",
              "}\n",
              "</style>\n",
              "<small>shape: (1, 12)</small><table border=\"1\" class=\"dataframe\"><thead><tr><th>Rank</th><th>Title</th><th>Genre</th><th>Description</th><th>Director</th><th>Actors</th><th>Year</th><th>Runtime (Minutes)</th><th>Rating</th><th>Votes</th><th>Revenue (Millions)</th><th>Metascore</th></tr><tr><td>u32</td><td>u32</td><td>u32</td><td>u32</td><td>u32</td><td>u32</td><td>u32</td><td>u32</td><td>u32</td><td>u32</td><td>u32</td><td>u32</td></tr></thead><tbody><tr><td>0</td><td>0</td><td>0</td><td>0</td><td>0</td><td>0</td><td>0</td><td>0</td><td>0</td><td>0</td><td>128</td><td>64</td></tr></tbody></table></div>"
            ]
          },
          "metadata": {},
          "execution_count": 29
        }
      ]
    },
    {
      "cell_type": "code",
      "source": [
        "df.drop_nulls([\"Metascore\"])"
      ],
      "metadata": {
        "colab": {
          "base_uri": "https://localhost:8080/",
          "height": 879
        },
        "id": "AERRg3smJxDu",
        "outputId": "f1c8103d-4976-476d-92ac-d81931d81d3b"
      },
      "execution_count": null,
      "outputs": [
        {
          "output_type": "execute_result",
          "data": {
            "text/plain": [
              "shape: (936, 12)\n",
              "┌──────┬──────────────┬──────────────┬─────────────┬───┬────────┬────────┬─────────────┬───────────┐\n",
              "│ Rank ┆ Title        ┆ Genre        ┆ Description ┆ … ┆ Rating ┆ Votes  ┆ Revenue     ┆ Metascore │\n",
              "│ ---  ┆ ---          ┆ ---          ┆ ---         ┆   ┆ ---    ┆ ---    ┆ (Millions)  ┆ ---       │\n",
              "│ i64  ┆ str          ┆ str          ┆ str         ┆   ┆ f64    ┆ i64    ┆ ---         ┆ i64       │\n",
              "│      ┆              ┆              ┆             ┆   ┆        ┆        ┆ f64         ┆           │\n",
              "╞══════╪══════════════╪══════════════╪═════════════╪═══╪════════╪════════╪═════════════╪═══════════╡\n",
              "│ 1    ┆ Guardians of ┆ Action,Adven ┆ A group of  ┆ … ┆ 8.1    ┆ 757074 ┆ 333.13      ┆ 76        │\n",
              "│      ┆ the Galaxy   ┆ ture,Sci-Fi  ┆ intergalact ┆   ┆        ┆        ┆             ┆           │\n",
              "│      ┆              ┆              ┆ ic crimi…   ┆   ┆        ┆        ┆             ┆           │\n",
              "│ 2    ┆ Prometheus   ┆ Adventure,My ┆ Following   ┆ … ┆ 7.0    ┆ 485820 ┆ 126.46      ┆ 65        │\n",
              "│      ┆              ┆ stery,Sci-Fi ┆ clues to    ┆   ┆        ┆        ┆             ┆           │\n",
              "│      ┆              ┆              ┆ the origin  ┆   ┆        ┆        ┆             ┆           │\n",
              "│      ┆              ┆              ┆ …           ┆   ┆        ┆        ┆             ┆           │\n",
              "│ 3    ┆ Split        ┆ Horror,Thril ┆ Three girls ┆ … ┆ 7.3    ┆ 157606 ┆ 138.12      ┆ 62        │\n",
              "│      ┆              ┆ ler          ┆ are         ┆   ┆        ┆        ┆             ┆           │\n",
              "│      ┆              ┆              ┆ kidnapped   ┆   ┆        ┆        ┆             ┆           │\n",
              "│      ┆              ┆              ┆ by a…       ┆   ┆        ┆        ┆             ┆           │\n",
              "│ 4    ┆ Sing         ┆ Animation,Co ┆ In a city   ┆ … ┆ 7.2    ┆ 60545  ┆ 270.32      ┆ 59        │\n",
              "│      ┆              ┆ medy,Family  ┆ of humanoid ┆   ┆        ┆        ┆             ┆           │\n",
              "│      ┆              ┆              ┆ animals,…   ┆   ┆        ┆        ┆             ┆           │\n",
              "│ 5    ┆ Suicide      ┆ Action,Adven ┆ A secret    ┆ … ┆ 6.2    ┆ 393727 ┆ 325.02      ┆ 40        │\n",
              "│      ┆ Squad        ┆ ture,Fantasy ┆ government  ┆   ┆        ┆        ┆             ┆           │\n",
              "│      ┆              ┆              ┆ agency rec… ┆   ┆        ┆        ┆             ┆           │\n",
              "│ …    ┆ …            ┆ …            ┆ …           ┆ … ┆ …      ┆ …      ┆ …           ┆ …         │\n",
              "│ 996  ┆ Secret in    ┆ Crime,Drama, ┆ A           ┆ … ┆ 6.2    ┆ 27585  ┆ null        ┆ 45        │\n",
              "│      ┆ Their Eyes   ┆ Mystery      ┆ tight-knit  ┆   ┆        ┆        ┆             ┆           │\n",
              "│      ┆              ┆              ┆ team of     ┆   ┆        ┆        ┆             ┆           │\n",
              "│      ┆              ┆              ┆ rising in…  ┆   ┆        ┆        ┆             ┆           │\n",
              "│ 997  ┆ Hostel: Part ┆ Horror       ┆ Three       ┆ … ┆ 5.5    ┆ 73152  ┆ 17.54       ┆ 46        │\n",
              "│      ┆ II           ┆              ┆ American    ┆   ┆        ┆        ┆             ┆           │\n",
              "│      ┆              ┆              ┆ college     ┆   ┆        ┆        ┆             ┆           │\n",
              "│      ┆              ┆              ┆ student…    ┆   ┆        ┆        ┆             ┆           │\n",
              "│ 998  ┆ Step Up 2:   ┆ Drama,Music, ┆ Romantic    ┆ … ┆ 6.2    ┆ 70699  ┆ 58.01       ┆ 50        │\n",
              "│      ┆ The Streets  ┆ Romance      ┆ sparks      ┆   ┆        ┆        ┆             ┆           │\n",
              "│      ┆              ┆              ┆ occur       ┆   ┆        ┆        ┆             ┆           │\n",
              "│      ┆              ┆              ┆ between …   ┆   ┆        ┆        ┆             ┆           │\n",
              "│ 999  ┆ Search Party ┆ Adventure,Co ┆ A pair of   ┆ … ┆ 5.6    ┆ 4881   ┆ null        ┆ 22        │\n",
              "│      ┆              ┆ medy         ┆ friends     ┆   ┆        ┆        ┆             ┆           │\n",
              "│      ┆              ┆              ┆ embark on a ┆   ┆        ┆        ┆             ┆           │\n",
              "│      ┆              ┆              ┆ …           ┆   ┆        ┆        ┆             ┆           │\n",
              "│ 1000 ┆ Nine Lives   ┆ Comedy,Famil ┆ A stuffy    ┆ … ┆ 5.3    ┆ 12435  ┆ 19.64       ┆ 11        │\n",
              "│      ┆              ┆ y,Fantasy    ┆ businessman ┆   ┆        ┆        ┆             ┆           │\n",
              "│      ┆              ┆              ┆ finds him…  ┆   ┆        ┆        ┆             ┆           │\n",
              "└──────┴──────────────┴──────────────┴─────────────┴───┴────────┴────────┴─────────────┴───────────┘"
            ],
            "text/html": [
              "<div><style>\n",
              ".dataframe > thead > tr,\n",
              ".dataframe > tbody > tr {\n",
              "  text-align: right;\n",
              "  white-space: pre-wrap;\n",
              "}\n",
              "</style>\n",
              "<small>shape: (936, 12)</small><table border=\"1\" class=\"dataframe\"><thead><tr><th>Rank</th><th>Title</th><th>Genre</th><th>Description</th><th>Director</th><th>Actors</th><th>Year</th><th>Runtime (Minutes)</th><th>Rating</th><th>Votes</th><th>Revenue (Millions)</th><th>Metascore</th></tr><tr><td>i64</td><td>str</td><td>str</td><td>str</td><td>str</td><td>str</td><td>i64</td><td>i64</td><td>f64</td><td>i64</td><td>f64</td><td>i64</td></tr></thead><tbody><tr><td>1</td><td>&quot;Guardians of the Galaxy&quot;</td><td>&quot;Action,Adventure,Sci-Fi&quot;</td><td>&quot;A group of intergalactic crimi…</td><td>&quot;James Gunn&quot;</td><td>&quot;Chris Pratt, Vin Diesel, Bradl…</td><td>2014</td><td>121</td><td>8.1</td><td>757074</td><td>333.13</td><td>76</td></tr><tr><td>2</td><td>&quot;Prometheus&quot;</td><td>&quot;Adventure,Mystery,Sci-Fi&quot;</td><td>&quot;Following clues to the origin …</td><td>&quot;Ridley Scott&quot;</td><td>&quot;Noomi Rapace, Logan Marshall-G…</td><td>2012</td><td>124</td><td>7.0</td><td>485820</td><td>126.46</td><td>65</td></tr><tr><td>3</td><td>&quot;Split&quot;</td><td>&quot;Horror,Thriller&quot;</td><td>&quot;Three girls are kidnapped by a…</td><td>&quot;M. Night Shyamalan&quot;</td><td>&quot;James McAvoy, Anya Taylor-Joy,…</td><td>2016</td><td>117</td><td>7.3</td><td>157606</td><td>138.12</td><td>62</td></tr><tr><td>4</td><td>&quot;Sing&quot;</td><td>&quot;Animation,Comedy,Family&quot;</td><td>&quot;In a city of humanoid animals,…</td><td>&quot;Christophe Lourdelet&quot;</td><td>&quot;Matthew McConaughey,Reese With…</td><td>2016</td><td>108</td><td>7.2</td><td>60545</td><td>270.32</td><td>59</td></tr><tr><td>5</td><td>&quot;Suicide Squad&quot;</td><td>&quot;Action,Adventure,Fantasy&quot;</td><td>&quot;A secret government agency rec…</td><td>&quot;David Ayer&quot;</td><td>&quot;Will Smith, Jared Leto, Margot…</td><td>2016</td><td>123</td><td>6.2</td><td>393727</td><td>325.02</td><td>40</td></tr><tr><td>&hellip;</td><td>&hellip;</td><td>&hellip;</td><td>&hellip;</td><td>&hellip;</td><td>&hellip;</td><td>&hellip;</td><td>&hellip;</td><td>&hellip;</td><td>&hellip;</td><td>&hellip;</td><td>&hellip;</td></tr><tr><td>996</td><td>&quot;Secret in Their Eyes&quot;</td><td>&quot;Crime,Drama,Mystery&quot;</td><td>&quot;A tight-knit team of rising in…</td><td>&quot;Billy Ray&quot;</td><td>&quot;Chiwetel Ejiofor, Nicole Kidma…</td><td>2015</td><td>111</td><td>6.2</td><td>27585</td><td>null</td><td>45</td></tr><tr><td>997</td><td>&quot;Hostel: Part II&quot;</td><td>&quot;Horror&quot;</td><td>&quot;Three American college student…</td><td>&quot;Eli Roth&quot;</td><td>&quot;Lauren German, Heather Mataraz…</td><td>2007</td><td>94</td><td>5.5</td><td>73152</td><td>17.54</td><td>46</td></tr><tr><td>998</td><td>&quot;Step Up 2: The Streets&quot;</td><td>&quot;Drama,Music,Romance&quot;</td><td>&quot;Romantic sparks occur between …</td><td>&quot;Jon M. Chu&quot;</td><td>&quot;Robert Hoffman, Briana Evigan,…</td><td>2008</td><td>98</td><td>6.2</td><td>70699</td><td>58.01</td><td>50</td></tr><tr><td>999</td><td>&quot;Search Party&quot;</td><td>&quot;Adventure,Comedy&quot;</td><td>&quot;A pair of friends embark on a …</td><td>&quot;Scot Armstrong&quot;</td><td>&quot;Adam Pally, T.J. Miller, Thoma…</td><td>2014</td><td>93</td><td>5.6</td><td>4881</td><td>null</td><td>22</td></tr><tr><td>1000</td><td>&quot;Nine Lives&quot;</td><td>&quot;Comedy,Family,Fantasy&quot;</td><td>&quot;A stuffy businessman finds him…</td><td>&quot;Barry Sonnenfeld&quot;</td><td>&quot;Kevin Spacey, Jennifer Garner,…</td><td>2016</td><td>87</td><td>5.3</td><td>12435</td><td>19.64</td><td>11</td></tr></tbody></table></div>"
            ]
          },
          "metadata": {},
          "execution_count": 30
        }
      ]
    },
    {
      "cell_type": "code",
      "source": [
        "import polars as pl\n",
        "import random\n",
        "\n",
        "\n",
        "paises = [\"Bolivia\", \"Colombia\", \"Ecuador\", \"Peru\",  \"Venezuela\"]\n",
        "\n",
        "# Create an empty list to store the data for the DataFrame\n",
        "data = []\n",
        "\n",
        "# Generate 15 rows of data\n",
        "for i in range(10):\n",
        "  data.append({\n",
        "      \"Nombre\": f\"Person {i + 1}\",  #Nombres\n",
        "      \"Edad\": random.randint(10, 65),  #edades\n",
        "      \"País de nacimiento\": random.choice(paises)  #paises\n",
        "  })\n",
        "\n",
        "# Create the Polars DataFrame\n",
        "df = pl.DataFrame(data)\n",
        "\n",
        "df"
      ],
      "metadata": {
        "id": "4c2CM-ibLYCa",
        "colab": {
          "base_uri": "https://localhost:8080/",
          "height": 411
        },
        "outputId": "8c5a3c1b-54a2-48fb-e4ed-6e9ebd3a822c"
      },
      "execution_count": 3,
      "outputs": [
        {
          "output_type": "execute_result",
          "data": {
            "text/plain": [
              "shape: (10, 3)\n",
              "┌───────────┬──────┬────────────────────┐\n",
              "│ Nombre    ┆ Edad ┆ País de nacimiento │\n",
              "│ ---       ┆ ---  ┆ ---                │\n",
              "│ str       ┆ i64  ┆ str                │\n",
              "╞═══════════╪══════╪════════════════════╡\n",
              "│ Person 1  ┆ 38   ┆ Venezuela          │\n",
              "│ Person 2  ┆ 50   ┆ Bolivia            │\n",
              "│ Person 3  ┆ 23   ┆ Venezuela          │\n",
              "│ Person 4  ┆ 52   ┆ Colombia           │\n",
              "│ Person 5  ┆ 47   ┆ Bolivia            │\n",
              "│ Person 6  ┆ 34   ┆ Peru               │\n",
              "│ Person 7  ┆ 21   ┆ Peru               │\n",
              "│ Person 8  ┆ 12   ┆ Bolivia            │\n",
              "│ Person 9  ┆ 57   ┆ Ecuador            │\n",
              "│ Person 10 ┆ 24   ┆ Colombia           │\n",
              "└───────────┴──────┴────────────────────┘"
            ],
            "text/html": [
              "<div><style>\n",
              ".dataframe > thead > tr,\n",
              ".dataframe > tbody > tr {\n",
              "  text-align: right;\n",
              "  white-space: pre-wrap;\n",
              "}\n",
              "</style>\n",
              "<small>shape: (10, 3)</small><table border=\"1\" class=\"dataframe\"><thead><tr><th>Nombre</th><th>Edad</th><th>País de nacimiento</th></tr><tr><td>str</td><td>i64</td><td>str</td></tr></thead><tbody><tr><td>&quot;Person&nbsp;1&quot;</td><td>38</td><td>&quot;Venezuela&quot;</td></tr><tr><td>&quot;Person&nbsp;2&quot;</td><td>50</td><td>&quot;Bolivia&quot;</td></tr><tr><td>&quot;Person&nbsp;3&quot;</td><td>23</td><td>&quot;Venezuela&quot;</td></tr><tr><td>&quot;Person&nbsp;4&quot;</td><td>52</td><td>&quot;Colombia&quot;</td></tr><tr><td>&quot;Person&nbsp;5&quot;</td><td>47</td><td>&quot;Bolivia&quot;</td></tr><tr><td>&quot;Person&nbsp;6&quot;</td><td>34</td><td>&quot;Peru&quot;</td></tr><tr><td>&quot;Person&nbsp;7&quot;</td><td>21</td><td>&quot;Peru&quot;</td></tr><tr><td>&quot;Person&nbsp;8&quot;</td><td>12</td><td>&quot;Bolivia&quot;</td></tr><tr><td>&quot;Person&nbsp;9&quot;</td><td>57</td><td>&quot;Ecuador&quot;</td></tr><tr><td>&quot;Person&nbsp;10&quot;</td><td>24</td><td>&quot;Colombia&quot;</td></tr></tbody></table></div>"
            ]
          },
          "metadata": {},
          "execution_count": 3
        }
      ]
    },
    {
      "cell_type": "code",
      "source": [
        "df[\"País de nacimiento\"].to_dummies() #se clasifican los paises como datos categóricos tipo dummies, la organización salió por orden alfabético"
      ],
      "metadata": {
        "colab": {
          "base_uri": "https://localhost:8080/",
          "height": 411
        },
        "id": "vdv7j-GqbaiH",
        "outputId": "d4c4ea4f-4d1c-4267-ed35-0dbef384c6f2"
      },
      "execution_count": 4,
      "outputs": [
        {
          "output_type": "execute_result",
          "data": {
            "text/plain": [
              "shape: (10, 5)\n",
              "┌───────────────────┬───────────────────┬───────────────────┬───────────────────┬──────────────────┐\n",
              "│ País de nacimient ┆ País de nacimient ┆ País de nacimient ┆ País de           ┆ País de nacimien │\n",
              "│ o_Bolivia         ┆ o_Colombia        ┆ o_Ecuador         ┆ nacimiento_Peru   ┆ to_Venezuela     │\n",
              "│ ---               ┆ ---               ┆ ---               ┆ ---               ┆ ---              │\n",
              "│ u8                ┆ u8                ┆ u8                ┆ u8                ┆ u8               │\n",
              "╞═══════════════════╪═══════════════════╪═══════════════════╪═══════════════════╪══════════════════╡\n",
              "│ 0                 ┆ 0                 ┆ 0                 ┆ 0                 ┆ 1                │\n",
              "│ 1                 ┆ 0                 ┆ 0                 ┆ 0                 ┆ 0                │\n",
              "│ 0                 ┆ 0                 ┆ 0                 ┆ 0                 ┆ 1                │\n",
              "│ 0                 ┆ 1                 ┆ 0                 ┆ 0                 ┆ 0                │\n",
              "│ 1                 ┆ 0                 ┆ 0                 ┆ 0                 ┆ 0                │\n",
              "│ 0                 ┆ 0                 ┆ 0                 ┆ 1                 ┆ 0                │\n",
              "│ 0                 ┆ 0                 ┆ 0                 ┆ 1                 ┆ 0                │\n",
              "│ 1                 ┆ 0                 ┆ 0                 ┆ 0                 ┆ 0                │\n",
              "│ 0                 ┆ 0                 ┆ 1                 ┆ 0                 ┆ 0                │\n",
              "│ 0                 ┆ 1                 ┆ 0                 ┆ 0                 ┆ 0                │\n",
              "└───────────────────┴───────────────────┴───────────────────┴───────────────────┴──────────────────┘"
            ],
            "text/html": [
              "<div><style>\n",
              ".dataframe > thead > tr,\n",
              ".dataframe > tbody > tr {\n",
              "  text-align: right;\n",
              "  white-space: pre-wrap;\n",
              "}\n",
              "</style>\n",
              "<small>shape: (10, 5)</small><table border=\"1\" class=\"dataframe\"><thead><tr><th>País de nacimiento_Bolivia</th><th>País de nacimiento_Colombia</th><th>País de nacimiento_Ecuador</th><th>País de nacimiento_Peru</th><th>País de nacimiento_Venezuela</th></tr><tr><td>u8</td><td>u8</td><td>u8</td><td>u8</td><td>u8</td></tr></thead><tbody><tr><td>0</td><td>0</td><td>0</td><td>0</td><td>1</td></tr><tr><td>1</td><td>0</td><td>0</td><td>0</td><td>0</td></tr><tr><td>0</td><td>0</td><td>0</td><td>0</td><td>1</td></tr><tr><td>0</td><td>1</td><td>0</td><td>0</td><td>0</td></tr><tr><td>1</td><td>0</td><td>0</td><td>0</td><td>0</td></tr><tr><td>0</td><td>0</td><td>0</td><td>1</td><td>0</td></tr><tr><td>0</td><td>0</td><td>0</td><td>1</td><td>0</td></tr><tr><td>1</td><td>0</td><td>0</td><td>0</td><td>0</td></tr><tr><td>0</td><td>0</td><td>1</td><td>0</td><td>0</td></tr><tr><td>0</td><td>1</td><td>0</td><td>0</td><td>0</td></tr></tbody></table></div>"
            ]
          },
          "metadata": {},
          "execution_count": 4
        }
      ]
    },
    {
      "cell_type": "code",
      "source": [
        "import polars as pl\n",
        "import random\n",
        "\n",
        "bins = [0, 18, 35, 50, 999]  # se cambia la edad de numérico a categórico\n",
        "\n",
        "\n",
        "# Use cut function to categorize 'Years Old' column\n",
        "df_2 = df.with_columns(pl.col(\"Edad\").cut(bins).alias(\"Rango de edad\"))\n",
        "\n",
        "df_2"
      ],
      "metadata": {
        "colab": {
          "base_uri": "https://localhost:8080/",
          "height": 411
        },
        "id": "n2qxPxyIcVov",
        "outputId": "a7e86e49-5291-4556-b9c8-f259fcb268a1"
      },
      "execution_count": 5,
      "outputs": [
        {
          "output_type": "execute_result",
          "data": {
            "text/plain": [
              "shape: (10, 4)\n",
              "┌───────────┬──────┬────────────────────┬───────────────┐\n",
              "│ Nombre    ┆ Edad ┆ País de nacimiento ┆ Rango de edad │\n",
              "│ ---       ┆ ---  ┆ ---                ┆ ---           │\n",
              "│ str       ┆ i64  ┆ str                ┆ cat           │\n",
              "╞═══════════╪══════╪════════════════════╪═══════════════╡\n",
              "│ Person 1  ┆ 38   ┆ Venezuela          ┆ (35, 50]      │\n",
              "│ Person 2  ┆ 50   ┆ Bolivia            ┆ (35, 50]      │\n",
              "│ Person 3  ┆ 23   ┆ Venezuela          ┆ (18, 35]      │\n",
              "│ Person 4  ┆ 52   ┆ Colombia           ┆ (50, 999]     │\n",
              "│ Person 5  ┆ 47   ┆ Bolivia            ┆ (35, 50]      │\n",
              "│ Person 6  ┆ 34   ┆ Peru               ┆ (18, 35]      │\n",
              "│ Person 7  ┆ 21   ┆ Peru               ┆ (18, 35]      │\n",
              "│ Person 8  ┆ 12   ┆ Bolivia            ┆ (0, 18]       │\n",
              "│ Person 9  ┆ 57   ┆ Ecuador            ┆ (50, 999]     │\n",
              "│ Person 10 ┆ 24   ┆ Colombia           ┆ (18, 35]      │\n",
              "└───────────┴──────┴────────────────────┴───────────────┘"
            ],
            "text/html": [
              "<div><style>\n",
              ".dataframe > thead > tr,\n",
              ".dataframe > tbody > tr {\n",
              "  text-align: right;\n",
              "  white-space: pre-wrap;\n",
              "}\n",
              "</style>\n",
              "<small>shape: (10, 4)</small><table border=\"1\" class=\"dataframe\"><thead><tr><th>Nombre</th><th>Edad</th><th>País de nacimiento</th><th>Rango de edad</th></tr><tr><td>str</td><td>i64</td><td>str</td><td>cat</td></tr></thead><tbody><tr><td>&quot;Person&nbsp;1&quot;</td><td>38</td><td>&quot;Venezuela&quot;</td><td>&quot;(35,&nbsp;50]&quot;</td></tr><tr><td>&quot;Person&nbsp;2&quot;</td><td>50</td><td>&quot;Bolivia&quot;</td><td>&quot;(35,&nbsp;50]&quot;</td></tr><tr><td>&quot;Person&nbsp;3&quot;</td><td>23</td><td>&quot;Venezuela&quot;</td><td>&quot;(18,&nbsp;35]&quot;</td></tr><tr><td>&quot;Person&nbsp;4&quot;</td><td>52</td><td>&quot;Colombia&quot;</td><td>&quot;(50,&nbsp;999]&quot;</td></tr><tr><td>&quot;Person&nbsp;5&quot;</td><td>47</td><td>&quot;Bolivia&quot;</td><td>&quot;(35,&nbsp;50]&quot;</td></tr><tr><td>&quot;Person&nbsp;6&quot;</td><td>34</td><td>&quot;Peru&quot;</td><td>&quot;(18,&nbsp;35]&quot;</td></tr><tr><td>&quot;Person&nbsp;7&quot;</td><td>21</td><td>&quot;Peru&quot;</td><td>&quot;(18,&nbsp;35]&quot;</td></tr><tr><td>&quot;Person&nbsp;8&quot;</td><td>12</td><td>&quot;Bolivia&quot;</td><td>&quot;(0,&nbsp;18]&quot;</td></tr><tr><td>&quot;Person&nbsp;9&quot;</td><td>57</td><td>&quot;Ecuador&quot;</td><td>&quot;(50,&nbsp;999]&quot;</td></tr><tr><td>&quot;Person&nbsp;10&quot;</td><td>24</td><td>&quot;Colombia&quot;</td><td>&quot;(18,&nbsp;35]&quot;</td></tr></tbody></table></div>"
            ]
          },
          "metadata": {},
          "execution_count": 5
        }
      ]
    },
    {
      "cell_type": "code",
      "source": [
        "# se convierte la edad a categorico cummulative >=\n",
        "def cat2cumulative(df, column_name):\n",
        "  categories = df[column_name].unique().to_list()\n",
        "  for cat in categories:\n",
        "    df = df.with_columns(\n",
        "        pl.when(pl.col(column_name) >= cat)\n",
        "        .then(1)\n",
        "        .otherwise(0)\n",
        "        .alias(f\"{column_name}_{cat}\")\n",
        "    )\n",
        "  return df\n",
        "\n",
        "df_3 = cat2cumulative(df_2, \"Rango de edad\")\n",
        "df_3"
      ],
      "metadata": {
        "colab": {
          "base_uri": "https://localhost:8080/",
          "height": 411
        },
        "id": "HP8AJKFsdr1u",
        "outputId": "6ebb7fe5-0660-4a89-a252-1694f493c134"
      },
      "execution_count": 6,
      "outputs": [
        {
          "output_type": "execute_result",
          "data": {
            "text/plain": [
              "shape: (10, 8)\n",
              "┌───────────┬──────┬─────────────┬─────────────┬────────────┬────────────┬────────────┬────────────┐\n",
              "│ Nombre    ┆ Edad ┆ País de     ┆ Rango de    ┆ Rango de   ┆ Rango de   ┆ Rango de   ┆ Rango de   │\n",
              "│ ---       ┆ ---  ┆ nacimiento  ┆ edad        ┆ edad_(0,   ┆ edad_(18,  ┆ edad_(35,  ┆ edad_(50,  │\n",
              "│ str       ┆ i64  ┆ ---         ┆ ---         ┆ 18]        ┆ 35]        ┆ 50]        ┆ 999]       │\n",
              "│           ┆      ┆ str         ┆ cat         ┆ ---        ┆ ---        ┆ ---        ┆ ---        │\n",
              "│           ┆      ┆             ┆             ┆ i32        ┆ i32        ┆ i32        ┆ i32        │\n",
              "╞═══════════╪══════╪═════════════╪═════════════╪════════════╪════════════╪════════════╪════════════╡\n",
              "│ Person 1  ┆ 38   ┆ Venezuela   ┆ (35, 50]    ┆ 1          ┆ 1          ┆ 1          ┆ 0          │\n",
              "│ Person 2  ┆ 50   ┆ Bolivia     ┆ (35, 50]    ┆ 1          ┆ 1          ┆ 1          ┆ 0          │\n",
              "│ Person 3  ┆ 23   ┆ Venezuela   ┆ (18, 35]    ┆ 1          ┆ 1          ┆ 0          ┆ 0          │\n",
              "│ Person 4  ┆ 52   ┆ Colombia    ┆ (50, 999]   ┆ 1          ┆ 1          ┆ 1          ┆ 1          │\n",
              "│ Person 5  ┆ 47   ┆ Bolivia     ┆ (35, 50]    ┆ 1          ┆ 1          ┆ 1          ┆ 0          │\n",
              "│ Person 6  ┆ 34   ┆ Peru        ┆ (18, 35]    ┆ 1          ┆ 1          ┆ 0          ┆ 0          │\n",
              "│ Person 7  ┆ 21   ┆ Peru        ┆ (18, 35]    ┆ 1          ┆ 1          ┆ 0          ┆ 0          │\n",
              "│ Person 8  ┆ 12   ┆ Bolivia     ┆ (0, 18]     ┆ 1          ┆ 0          ┆ 0          ┆ 0          │\n",
              "│ Person 9  ┆ 57   ┆ Ecuador     ┆ (50, 999]   ┆ 1          ┆ 1          ┆ 1          ┆ 1          │\n",
              "│ Person 10 ┆ 24   ┆ Colombia    ┆ (18, 35]    ┆ 1          ┆ 1          ┆ 0          ┆ 0          │\n",
              "└───────────┴──────┴─────────────┴─────────────┴────────────┴────────────┴────────────┴────────────┘"
            ],
            "text/html": [
              "<div><style>\n",
              ".dataframe > thead > tr,\n",
              ".dataframe > tbody > tr {\n",
              "  text-align: right;\n",
              "  white-space: pre-wrap;\n",
              "}\n",
              "</style>\n",
              "<small>shape: (10, 8)</small><table border=\"1\" class=\"dataframe\"><thead><tr><th>Nombre</th><th>Edad</th><th>País de nacimiento</th><th>Rango de edad</th><th>Rango de edad_(0, 18]</th><th>Rango de edad_(18, 35]</th><th>Rango de edad_(35, 50]</th><th>Rango de edad_(50, 999]</th></tr><tr><td>str</td><td>i64</td><td>str</td><td>cat</td><td>i32</td><td>i32</td><td>i32</td><td>i32</td></tr></thead><tbody><tr><td>&quot;Person&nbsp;1&quot;</td><td>38</td><td>&quot;Venezuela&quot;</td><td>&quot;(35,&nbsp;50]&quot;</td><td>1</td><td>1</td><td>1</td><td>0</td></tr><tr><td>&quot;Person&nbsp;2&quot;</td><td>50</td><td>&quot;Bolivia&quot;</td><td>&quot;(35,&nbsp;50]&quot;</td><td>1</td><td>1</td><td>1</td><td>0</td></tr><tr><td>&quot;Person&nbsp;3&quot;</td><td>23</td><td>&quot;Venezuela&quot;</td><td>&quot;(18,&nbsp;35]&quot;</td><td>1</td><td>1</td><td>0</td><td>0</td></tr><tr><td>&quot;Person&nbsp;4&quot;</td><td>52</td><td>&quot;Colombia&quot;</td><td>&quot;(50,&nbsp;999]&quot;</td><td>1</td><td>1</td><td>1</td><td>1</td></tr><tr><td>&quot;Person&nbsp;5&quot;</td><td>47</td><td>&quot;Bolivia&quot;</td><td>&quot;(35,&nbsp;50]&quot;</td><td>1</td><td>1</td><td>1</td><td>0</td></tr><tr><td>&quot;Person&nbsp;6&quot;</td><td>34</td><td>&quot;Peru&quot;</td><td>&quot;(18,&nbsp;35]&quot;</td><td>1</td><td>1</td><td>0</td><td>0</td></tr><tr><td>&quot;Person&nbsp;7&quot;</td><td>21</td><td>&quot;Peru&quot;</td><td>&quot;(18,&nbsp;35]&quot;</td><td>1</td><td>1</td><td>0</td><td>0</td></tr><tr><td>&quot;Person&nbsp;8&quot;</td><td>12</td><td>&quot;Bolivia&quot;</td><td>&quot;(0,&nbsp;18]&quot;</td><td>1</td><td>0</td><td>0</td><td>0</td></tr><tr><td>&quot;Person&nbsp;9&quot;</td><td>57</td><td>&quot;Ecuador&quot;</td><td>&quot;(50,&nbsp;999]&quot;</td><td>1</td><td>1</td><td>1</td><td>1</td></tr><tr><td>&quot;Person&nbsp;10&quot;</td><td>24</td><td>&quot;Colombia&quot;</td><td>&quot;(18,&nbsp;35]&quot;</td><td>1</td><td>1</td><td>0</td><td>0</td></tr></tbody></table></div>"
            ]
          },
          "metadata": {},
          "execution_count": 6
        }
      ]
    },
    {
      "cell_type": "code",
      "source": [
        "def num2cumulative(df, column_name,bins):\n",
        "  categories = [f'({bins[i]}-{bins[i+1]}]' for i in range(len(bins)-1)] #se cierra el intervalo a la derecha\n",
        "  for i,cat in enumerate(categories):\n",
        "    df = df.with_columns(\n",
        "        pl.when(pl.col(column_name) >= bins[i])\n",
        "        .then(1)\n",
        "        .otherwise(0)\n",
        "        .alias(f\"{column_name}_{cat}\")\n",
        "    )\n",
        "  return df\n",
        "\n",
        "bins = [0, 17, 35, 50, 999]\n",
        "\n",
        "df_4 = num2cumulative(df, \"Edad\", bins)\n",
        "df_4"
      ],
      "metadata": {
        "colab": {
          "base_uri": "https://localhost:8080/",
          "height": 411
        },
        "id": "l-lyU_SwekqM",
        "outputId": "82cbc0b7-ad54-4423-a838-0f0ac4e0cabe"
      },
      "execution_count": 10,
      "outputs": [
        {
          "output_type": "execute_result",
          "data": {
            "text/plain": [
              "shape: (10, 7)\n",
              "┌───────────┬──────┬────────────┬─────────────┬──────────────┬──────────────┬───────────────┐\n",
              "│ Nombre    ┆ Edad ┆ País de    ┆ Edad_(0-17] ┆ Edad_(17-35] ┆ Edad_(35-50] ┆ Edad_(50-999] │\n",
              "│ ---       ┆ ---  ┆ nacimiento ┆ ---         ┆ ---          ┆ ---          ┆ ---           │\n",
              "│ str       ┆ i64  ┆ ---        ┆ i32         ┆ i32          ┆ i32          ┆ i32           │\n",
              "│           ┆      ┆ str        ┆             ┆              ┆              ┆               │\n",
              "╞═══════════╪══════╪════════════╪═════════════╪══════════════╪══════════════╪═══════════════╡\n",
              "│ Person 1  ┆ 38   ┆ Venezuela  ┆ 1           ┆ 1            ┆ 1            ┆ 0             │\n",
              "│ Person 2  ┆ 50   ┆ Bolivia    ┆ 1           ┆ 1            ┆ 1            ┆ 1             │\n",
              "│ Person 3  ┆ 23   ┆ Venezuela  ┆ 1           ┆ 1            ┆ 0            ┆ 0             │\n",
              "│ Person 4  ┆ 52   ┆ Colombia   ┆ 1           ┆ 1            ┆ 1            ┆ 1             │\n",
              "│ Person 5  ┆ 47   ┆ Bolivia    ┆ 1           ┆ 1            ┆ 1            ┆ 0             │\n",
              "│ Person 6  ┆ 34   ┆ Peru       ┆ 1           ┆ 1            ┆ 0            ┆ 0             │\n",
              "│ Person 7  ┆ 21   ┆ Peru       ┆ 1           ┆ 1            ┆ 0            ┆ 0             │\n",
              "│ Person 8  ┆ 12   ┆ Bolivia    ┆ 1           ┆ 0            ┆ 0            ┆ 0             │\n",
              "│ Person 9  ┆ 57   ┆ Ecuador    ┆ 1           ┆ 1            ┆ 1            ┆ 1             │\n",
              "│ Person 10 ┆ 24   ┆ Colombia   ┆ 1           ┆ 1            ┆ 0            ┆ 0             │\n",
              "└───────────┴──────┴────────────┴─────────────┴──────────────┴──────────────┴───────────────┘"
            ],
            "text/html": [
              "<div><style>\n",
              ".dataframe > thead > tr,\n",
              ".dataframe > tbody > tr {\n",
              "  text-align: right;\n",
              "  white-space: pre-wrap;\n",
              "}\n",
              "</style>\n",
              "<small>shape: (10, 7)</small><table border=\"1\" class=\"dataframe\"><thead><tr><th>Nombre</th><th>Edad</th><th>País de nacimiento</th><th>Edad_(0-17]</th><th>Edad_(17-35]</th><th>Edad_(35-50]</th><th>Edad_(50-999]</th></tr><tr><td>str</td><td>i64</td><td>str</td><td>i32</td><td>i32</td><td>i32</td><td>i32</td></tr></thead><tbody><tr><td>&quot;Person&nbsp;1&quot;</td><td>38</td><td>&quot;Venezuela&quot;</td><td>1</td><td>1</td><td>1</td><td>0</td></tr><tr><td>&quot;Person&nbsp;2&quot;</td><td>50</td><td>&quot;Bolivia&quot;</td><td>1</td><td>1</td><td>1</td><td>1</td></tr><tr><td>&quot;Person&nbsp;3&quot;</td><td>23</td><td>&quot;Venezuela&quot;</td><td>1</td><td>1</td><td>0</td><td>0</td></tr><tr><td>&quot;Person&nbsp;4&quot;</td><td>52</td><td>&quot;Colombia&quot;</td><td>1</td><td>1</td><td>1</td><td>1</td></tr><tr><td>&quot;Person&nbsp;5&quot;</td><td>47</td><td>&quot;Bolivia&quot;</td><td>1</td><td>1</td><td>1</td><td>0</td></tr><tr><td>&quot;Person&nbsp;6&quot;</td><td>34</td><td>&quot;Peru&quot;</td><td>1</td><td>1</td><td>0</td><td>0</td></tr><tr><td>&quot;Person&nbsp;7&quot;</td><td>21</td><td>&quot;Peru&quot;</td><td>1</td><td>1</td><td>0</td><td>0</td></tr><tr><td>&quot;Person&nbsp;8&quot;</td><td>12</td><td>&quot;Bolivia&quot;</td><td>1</td><td>0</td><td>0</td><td>0</td></tr><tr><td>&quot;Person&nbsp;9&quot;</td><td>57</td><td>&quot;Ecuador&quot;</td><td>1</td><td>1</td><td>1</td><td>1</td></tr><tr><td>&quot;Person&nbsp;10&quot;</td><td>24</td><td>&quot;Colombia&quot;</td><td>1</td><td>1</td><td>0</td><td>0</td></tr></tbody></table></div>"
            ]
          },
          "metadata": {},
          "execution_count": 10
        }
      ]
    }
  ]
}