{
  "nbformat": 4,
  "nbformat_minor": 0,
  "metadata": {
    "colab": {
      "provenance": [],
      "authorship_tag": "ABX9TyMqZBcdiyvLuSQnUoo3aUD1",
      "include_colab_link": true
    },
    "kernelspec": {
      "name": "python3",
      "display_name": "Python 3"
    },
    "language_info": {
      "name": "python"
    }
  },
  "cells": [
    {
      "cell_type": "markdown",
      "metadata": {
        "id": "view-in-github",
        "colab_type": "text"
      },
      "source": [
        "<a href=\"https://colab.research.google.com/github/veruizr/ML_Doc/blob/main/Hopfield_corregido.ipynb\" target=\"_parent\"><img src=\"https://colab.research.google.com/assets/colab-badge.svg\" alt=\"Open In Colab\"/></a>"
      ]
    },
    {
      "cell_type": "markdown",
      "source": [
        "#Problema del viajero TSP, se asumió un listado de distancias terrestres entre ciudades de colombia y a partir de ellas se busca la ruta más corta entre ciudades pasando solamnete una vez por cada una"
      ],
      "metadata": {
        "id": "M-413416XEIz"
      }
    },
    {
      "cell_type": "code",
      "source": [
        "import polars as pl\n",
        "import itertools\n",
        "\n",
        "# Lista de ciudades\n",
        "ciudades = [\"Bogotá\", \"Buenaventura\", \"Barranquilla\", \"Cúcuta\", \"Pereira\", \"Cali\", \"Medellín\"]\n",
        "\n",
        "# Matriz de distancias\n",
        "distancias = [\n",
        "    [0, 486, 1006, 554, 299, 461, 419],\n",
        "    [486, 0, 1212, 1028, 320, 128, 427],\n",
        "    [1006, 1212, 0, 633, 839, 985, 729],\n",
        "    [554, 1028, 633, 0, 661, 769, 582],\n",
        "    [299, 320, 839, 661, 0, 220, 215],\n",
        "    [461, 128, 985, 769, 220, 0, 419],\n",
        "    [419, 427, 729, 582, 215, 419, 0]\n",
        "]\n",
        "\n",
        "# Crear DataFrame de distancias\n",
        "df = pl.DataFrame(distancias, schema=ciudades)\n",
        "\n",
        "# Generar todas las rutas posibles (exceptuando la ciudad de inicio para evitar duplicados)\n",
        "rutas = list(itertools.permutations(ciudades[1:]))\n",
        "\n",
        "# Calcular la distancia total para cada ruta\n",
        "resultados = []\n",
        "for ruta in rutas:\n",
        "    ruta_completa = [\"Bogotá\"] + list(ruta)\n",
        "    distancia_total = sum(\n",
        "        df[ruta_completa[i]][df.columns.index(ruta_completa[i+1])]\n",
        "        for i in range(len(ruta_completa)-1)\n",
        "    )\n",
        "    resultados.append({\"ruta\": ruta_completa, \"distancia\": distancia_total})\n",
        "\n",
        "# Crear DataFrame con los resultados\n",
        "df_resultados = pl.DataFrame(resultados)\n",
        "\n",
        "# Encontrar la ruta más corta\n",
        "mejor_ruta = df_resultados.sort(\"distancia\").row(0)\n",
        "print(\"Ruta más corta:\", mejor_ruta[0])\n",
        "print(\"Distancia total:\", mejor_ruta[1])\n"
      ],
      "metadata": {
        "colab": {
          "base_uri": "https://localhost:8080/"
        },
        "id": "G3-r9Oj-PT8o",
        "outputId": "f1735946-7168-425e-a6fd-0bd142389bfe"
      },
      "execution_count": 6,
      "outputs": [
        {
          "output_type": "stream",
          "name": "stdout",
          "text": [
            "Ruta más corta: ['Bogotá', 'Buenaventura', 'Cali', 'Pereira', 'Medellín', 'Cúcuta', 'Barranquilla']\n",
            "Distancia total: 2264\n"
          ]
        }
      ]
    },
    {
      "cell_type": "code",
      "source": [],
      "metadata": {
        "id": "ZMnQqG5SXCV3"
      },
      "execution_count": null,
      "outputs": []
    }
  ]
}