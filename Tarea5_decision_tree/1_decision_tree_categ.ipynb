{
  "nbformat": 4,
  "nbformat_minor": 0,
  "metadata": {
    "colab": {
      "provenance": [],
      "authorship_tag": "ABX9TyPS56HQV0BVy4THVOAKjCmG",
      "include_colab_link": true
    },
    "kernelspec": {
      "name": "python3",
      "display_name": "Python 3"
    },
    "language_info": {
      "name": "python"
    }
  },
  "cells": [
    {
      "cell_type": "markdown",
      "metadata": {
        "id": "view-in-github",
        "colab_type": "text"
      },
      "source": [
        "<a href=\"https://colab.research.google.com/github/veruizr/ML_Doc/blob/main/decision_tree_categ.ipynb\" target=\"_parent\"><img src=\"https://colab.research.google.com/assets/colab-badge.svg\" alt=\"Open In Colab\"/></a>"
      ]
    },
    {
      "cell_type": "markdown",
      "source": [
        "## Árbol de decisión cuando se tienen datos categóricos\n",
        "\n",
        "Dataset a utilizar\n",
        "\n",
        "| Math (Ma)  | Science (Sc) | English (En) | Preferred career (Pc) |\n",
        "        |-------|---------|---------|-----------------|\n",
        "        | Good (G)  | Good (G)  | Regular (R)  | Engineering (E) |\n",
        "        | Regular (R)  | Good (G)  | Bad (B)  | Medicine (M) |\n",
        "        | Bad (B)  | Regular (R)  | Good (G)  | Arts (A) |\n",
        "        | Good (G)  | Regular (R)  | Good (G)  | Engineering (E) |\n",
        "        | Regular (R)  | Bad (B)  | Regular (R)  | Arts (A) |\n",
        "        | Good (G)  | Good (G)  | Good (G)  | Engineering (E) |\n",
        "        | Bad (B)  | Good (G)  | Regular (R)  | Medicine (M) |\n",
        "        | Regular (R)  | Regular (R)  | Regular (R)  | Medicine (M) |\n",
        "        | Good (G)  | Bad (B)  | Good (G)  | Arts (A) |\n",
        "        | Bad (B)  | Bad (B)  | Bad (B)  | Arts (A) |\n"
      ],
      "metadata": {
        "id": "htYfkcd66ShU"
      }
    },
    {
      "cell_type": "code",
      "execution_count": 2,
      "metadata": {
        "colab": {
          "base_uri": "https://localhost:8080/"
        },
        "id": "JQstercXMTuH",
        "outputId": "af026d90-ddee-4b84-dfb5-46d89c45398a"
      },
      "outputs": [
        {
          "output_type": "stream",
          "name": "stdout",
          "text": [
            "Árbol de Decisión:\n",
            " |--- Sc <= 0.50\n",
            "|   |--- class: 0\n",
            "|--- Sc >  0.50\n",
            "|   |--- Ma <= 0.50\n",
            "|   |   |--- Sc <= 1.50\n",
            "|   |   |   |--- class: 2\n",
            "|   |   |--- Sc >  1.50\n",
            "|   |   |   |--- class: 0\n",
            "|   |--- Ma >  0.50\n",
            "|   |   |--- Ma <= 1.50\n",
            "|   |   |   |--- class: 1\n",
            "|   |   |--- Ma >  1.50\n",
            "|   |   |   |--- class: 2\n",
            "\n",
            "\n",
            "Predicción para Ma=G, Sc=G, En=R: A\n",
            "Predicción para Ma=B, Sc=B, En=B: A\n"
          ]
        }
      ],
      "source": [
        "\n",
        "\n",
        "import polars as pl\n",
        "from sklearn.tree import DecisionTreeClassifier, export_text\n",
        "from sklearn.preprocessing import LabelEncoder\n",
        "\n",
        "# construcción dataframe\n",
        "df = pl.DataFrame({\n",
        "    \"Ma\": [\"G\", \"R\", \"B\", \"G\", \"R\", \"G\", \"B\", \"R\", \"G\", \"B\"],\n",
        "    \"Sc\": [\"G\", \"G\", \"R\", \"R\", \"B\", \"G\", \"G\", \"R\", \"B\", \"B\"],\n",
        "    \"En\": [\"R\", \"B\", \"G\", \"G\", \"R\", \"G\", \"R\", \"R\", \"G\", \"B\"],\n",
        "    \"Pc\": [\"E\", \"M\", \"A\", \"E\", \"A\", \"E\", \"M\", \"M\", \"A\", \"A\"]\n",
        "})\n",
        "\n",
        "# Función para codificar variables categóricas\n",
        "def encode_column(series: pl.Series) -> pl.Series:\n",
        "    encoder = LabelEncoder()\n",
        "    encoded = encoder.fit_transform(series.to_list())\n",
        "    return pl.Series(encoded)\n",
        "\n",
        "# Codificar todas las columnas\n",
        "df_encoded = df.with_columns([\n",
        "    encode_column(df[\"Ma\"]).alias(\"Ma_encoded\"),\n",
        "    encode_column(df[\"Sc\"]).alias(\"Sc_encoded\"),\n",
        "    encode_column(df[\"En\"]).alias(\"En_encoded\"),\n",
        "    encode_column(df[\"Pc\"]).alias(\"Pc_encoded\")\n",
        "])\n",
        "\n",
        "# Obtener características (X) y variable objetivo (y) como arrays de numpy\n",
        "X = df_encoded.select([\"Ma_encoded\", \"Sc_encoded\", \"En_encoded\"]).to_numpy()\n",
        "y = df_encoded.select(\"Pc_encoded\").to_numpy().ravel()\n",
        "\n",
        "# Crear y entrenar el árbol de decisión\n",
        "new_var = 100\n",
        "clf = DecisionTreeClassifier(criterion='entropy', random_state=new_var)\n",
        "clf.fit(X, y)\n",
        "\n",
        "# Mostrar el árbol de decisión\n",
        "tree_rules = export_text(clf, feature_names=['Ma', 'Sc', 'En'])\n",
        "print(\"Árbol de Decisión:\\n\", tree_rules)\n",
        "\n",
        "# Función para interpretar los resultados usando Polars\n",
        "def interpretar_prediccion(Ma: str, Sc: str, En: str) -> str:\n",
        "    # Crear DataFrame temporal\n",
        "    temp_df = pl.DataFrame({\n",
        "        \"Ma\": [Ma],\n",
        "        \"Sc\": [Sc],\n",
        "        \"En\": [En]\n",
        "    })\n",
        "\n",
        "    # Codificar los valores de entrada\n",
        "    temp_df = temp_df.with_columns([\n",
        "        encode_column(temp_df[\"Ma\"]).alias(\"Ma_encoded\"),\n",
        "        encode_column(temp_df[\"Sc\"]).alias(\"Sc_encoded\"),\n",
        "        encode_column(temp_df[\"En\"]).alias(\"En_encoded\")\n",
        "    ])\n",
        "\n",
        "    # Predecir\n",
        "    X_pred = temp_df.select([\"Ma_encoded\", \"Sc_encoded\", \"En_encoded\"]).to_numpy()\n",
        "    pred_encoded = clf.predict(X_pred)[0]\n",
        "\n",
        "    # Decodificar la predicción\n",
        "    pc_encoder = LabelEncoder().fit(df[\"Pc\"].to_list())\n",
        "    return pc_encoder.inverse_transform([pred_encoded])[0]\n",
        "\n",
        "# predicción\n",
        "print(\"\\nPredicción para Ma=G, Sc=G, En=R:\", interpretar_prediccion(\"G\", \"G\", \"R\"))\n",
        "print(\"Predicción para Ma=B, Sc=B, En=B:\", interpretar_prediccion(\"B\", \"B\", \"B\"))"
      ]
    }
  ]
}
