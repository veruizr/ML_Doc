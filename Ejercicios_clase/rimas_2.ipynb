{
  "nbformat": 4,
  "nbformat_minor": 0,
  "metadata": {
    "colab": {
      "provenance": [],
      "authorship_tag": "ABX9TyPeyEDGcbhN0Zz1eGVE009R",
      "include_colab_link": true
    },
    "kernelspec": {
      "name": "python3",
      "display_name": "Python 3"
    },
    "language_info": {
      "name": "python"
    }
  },
  "cells": [
    {
      "cell_type": "markdown",
      "metadata": {
        "id": "view-in-github",
        "colab_type": "text"
      },
      "source": [
        "<a href=\"https://colab.research.google.com/github/veruizr/ML_Doc/blob/main/rimas_2.ipynb\" target=\"_parent\"><img src=\"https://colab.research.google.com/assets/colab-badge.svg\" alt=\"Open In Colab\"/></a>"
      ]
    },
    {
      "cell_type": "markdown",
      "source": [
        "# aplicación adicional a la de encontra palabras que terminen en una sílaba dada\n",
        "\n",
        "Se plantea crear versos con las palabras que se encuentren de labúsqueda de rimas.\n",
        "se crearán 4 versos\n"
      ],
      "metadata": {
        "id": "L4KjvklSwuUm"
      }
    },
    {
      "cell_type": "code",
      "source": [
        "#Realice una función rima que encuentre las palabras que finalizan según el parámetro\n",
        "def rima(final):\n",
        "  palabras_rima=[]\n",
        "  final=final+'\\n'\n",
        "  archivo  = open('5000_palabras_comunes.txt', encoding=\"utf-8\")\n",
        "  lineas = archivo.readlines()\n",
        "  archivo.close()\n",
        "\n",
        "  for linea in lineas:\n",
        "    if linea.endswith(final):\n",
        "      palabras_rima.append(linea[:-1])\n",
        "\n",
        "  print(len(palabras_rima))\n",
        "  #print(palabras_rima)\n",
        "  if len(palabras_rima)==0:\n",
        "    print('No hay coincidencias')\n",
        "\n",
        "  return(palabras_rima)\n",
        "\n",
        "import random\n",
        "\n",
        "\n",
        "\n"
      ],
      "metadata": {
        "id": "S1U9xCvjowAb"
      },
      "execution_count": 7,
      "outputs": []
    },
    {
      "cell_type": "code",
      "source": [
        "final='ón'\n",
        "palabras=rima(final)\n",
        "\n",
        "print(palabras)\n"
      ],
      "metadata": {
        "id": "_H1FvQncw439",
        "outputId": "e0f64879-dda9-4fc2-cff1-fcb08771f4a0",
        "colab": {
          "base_uri": "https://localhost:8080/"
        }
      },
      "execution_count": 20,
      "outputs": [
        {
          "output_type": "stream",
          "name": "stdout",
          "text": [
            "115\n",
            "['razón', 'corazón', 'perdón', 'maldición', 'avión', 'información', 'habitación', 'atención', 'situación', 'misión', 'dirección', 'decisión', 'posición', 'reunión', 'relación', 'investigación', 'estación', 'canción', 'prisión', 'acción', 'camión', 'montón', 'opinión', 'opción', 'operación', 'cabrón', 'presión', 'cuestión', 'televisión', 'millón', 'protección', 'sección', 'elección', 'campeón', 'conversación', 'ladrón', 'intención', 'tensión', 'salón', 'tripulación', 'explosión', 'nación', 'explicación', 'visión', 'diversión', 'solución', 'conexión', 'lección', 'dragón', 'botón', 'educación', 'identificación', 'declaración', 'impresión', 'reputación', 'sensación', 'pasión', 'reacción', 'condición', 'cinturón', 'destrucción', 'ocasión', 'imaginación', 'japón', 'napoleón', 'tiburón', 'organización', 'infección', 'división', 'patrón', 'unión', 'cañón', 'comunicación', 'transmisión', 'función', 'versión', 'construcción', 'actuación', 'respiración', 'revolución', 'sesión', 'emoción', 'autorización', 'colección', 'maricón', 'escuadrón', 'recepción', 'traición', 'tradición', 'guión', 'religión', 'invitación', 'ubicación', 'traducción', 'expresión', 'exposición', 'confesión', 'producción', 'preocupación', 'compasión', 'administración', 'graduación', 'generación', 'formación', 'presentación', 'bendición', 'posesión', 'civilización', 'violación', 'comisión', 'objeción', 'león', 'discusión', 'poción', 'fusión']\n"
          ]
        }
      ]
    },
    {
      "cell_type": "code",
      "source": [
        "def generar_versos_con_rima(final, n_versos=4):\n",
        "\n",
        "    if len(palabras) < n_versos:\n",
        "        return \"No hay suficientes palabras para generar versos.\"\n",
        "    palabras_elegidas = random.sample(palabras, n_versos)\n",
        "    versos = []\n",
        "    plantillas = [\n",
        "        \"Ayer pensé en {}\",\n",
        "        \"Hoy encontré tu {}\",\n",
        "        \"No hay nada como tu {}\",\n",
        "        \"Siempre recuerdo mi {}\"\n",
        "    ]\n",
        "    for i in range(n_versos):\n",
        "        verso = plantillas[i % len(plantillas)].format(palabras_elegidas[i])\n",
        "        versos.append(verso)\n",
        "    return (versos)"
      ],
      "metadata": {
        "id": "qaEa1nwHNKMF"
      },
      "execution_count": 16,
      "outputs": []
    },
    {
      "cell_type": "code",
      "source": [
        "generar_versos_con_rima(final)\n",
        "\n"
      ],
      "metadata": {
        "colab": {
          "base_uri": "https://localhost:8080/"
        },
        "id": "0Kff5OCU1grR",
        "outputId": "00ea6c57-7151-4c99-e977-f6b4f6b5db56"
      },
      "execution_count": 21,
      "outputs": [
        {
          "output_type": "execute_result",
          "data": {
            "text/plain": [
              "['Ayer pensé en conexión',\n",
              " 'Hoy encontré tu presentación',\n",
              " 'No hay nada como tu acción',\n",
              " 'Siempre recuerdo mi identificación']"
            ]
          },
          "metadata": {},
          "execution_count": 21
        }
      ]
    }
  ]
}
