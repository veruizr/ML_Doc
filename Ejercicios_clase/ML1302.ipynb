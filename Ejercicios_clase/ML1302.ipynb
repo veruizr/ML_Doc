{
  "nbformat": 4,
  "nbformat_minor": 0,
  "metadata": {
    "colab": {
      "provenance": [],
      "authorship_tag": "ABX9TyNWYlV9JZML3iHj7p1giaou",
      "include_colab_link": true
    },
    "kernelspec": {
      "name": "python3",
      "display_name": "Python 3"
    },
    "language_info": {
      "name": "python"
    }
  },
  "cells": [
    {
      "cell_type": "markdown",
      "metadata": {
        "id": "view-in-github",
        "colab_type": "text"
      },
      "source": [
        "<a href=\"https://colab.research.google.com/github/veruizr/ML_Doc/blob/main/ML1302.ipynb\" target=\"_parent\"><img src=\"https://colab.research.google.com/assets/colab-badge.svg\" alt=\"Open In Colab\"/></a>"
      ]
    },
    {
      "cell_type": "markdown",
      "source": [
        "# Reto ML 13/02"
      ],
      "metadata": {
        "id": "L4KjvklSwuUm"
      }
    },
    {
      "cell_type": "code",
      "source": [
        "#Realice una función rima que encuentre las palabras que finalizan según el parámetro\n",
        "def rima(final):\n",
        "  palabras_rima=[]\n",
        "  final=final+'\\n'\n",
        "  archivo  = open('5000_palabras_comunes.txt', encoding=\"utf-8\")\n",
        "  lineas = archivo.readlines()\n",
        "  archivo.close()\n",
        "\n",
        "  for linea in lineas:\n",
        "    if linea.endswith(final):\n",
        "      palabras_rima.append(linea[:-1])\n",
        "\n",
        "  print(len(palabras_rima))\n",
        "  #print(palabras_rima)\n",
        "  if len(palabras_rima)==0:\n",
        "    print('No hay coincidencias')\n",
        "\n",
        "  return(palabras_rima)\n",
        "\n",
        "\n",
        "\n"
      ],
      "metadata": {
        "id": "S1U9xCvjowAb"
      },
      "execution_count": 14,
      "outputs": []
    },
    {
      "cell_type": "code",
      "source": [
        "final='ten'\n",
        "rima(final)\n"
      ],
      "metadata": {
        "id": "_H1FvQncw439",
        "outputId": "48ac9fcf-0e4f-420f-88e7-e0b100f5caf3",
        "colab": {
          "base_uri": "https://localhost:8080/"
        }
      },
      "execution_count": 15,
      "outputs": [
        {
          "output_type": "stream",
          "name": "stdout",
          "text": [
            "5\n"
          ]
        },
        {
          "output_type": "execute_result",
          "data": {
            "text/plain": [
              "['ten', 'existen', 'maten', 'sienten', 'corten']"
            ]
          },
          "metadata": {},
          "execution_count": 15
        }
      ]
    }
  ]
}
