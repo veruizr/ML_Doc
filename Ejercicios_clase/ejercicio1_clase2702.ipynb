{
  "nbformat": 4,
  "nbformat_minor": 0,
  "metadata": {
    "colab": {
      "provenance": [],
      "authorship_tag": "ABX9TyM4qHZQWiQKm/KFhMYeSK2N",
      "include_colab_link": true
    },
    "kernelspec": {
      "name": "python3",
      "display_name": "Python 3"
    },
    "language_info": {
      "name": "python"
    }
  },
  "cells": [
    {
      "cell_type": "markdown",
      "metadata": {
        "id": "view-in-github",
        "colab_type": "text"
      },
      "source": [
        "<a href=\"https://colab.research.google.com/github/veruizr/ML_Doc/blob/main/ejercicio1_clase2702.ipynb\" target=\"_parent\"><img src=\"https://colab.research.google.com/assets/colab-badge.svg\" alt=\"Open In Colab\"/></a>"
      ]
    },
    {
      "cell_type": "code",
      "source": [
        "#cliente\tproductos comprados\n",
        "  #1\t        a,b,c\n",
        "  #2\t        a,b\n",
        "  #3\t        a,c,d\n",
        "  #4\t        a\n",
        "  #5\t        b,c\n",
        "  #6\t        b,c,d\n",
        "\n",
        "\n",
        "import polars as pl\n",
        "\n",
        "#Datos de clientes y productos\n",
        "\n",
        "data = {\"Cliente\": [1, 2, 3, 4, 5, 6],\n",
        "\"Productos_comprados\": [\"a,b,c\", \"a,b\", \"a,c,d\", \"a\", \"b,c\", \"b,c,d\"]}\n",
        "\n",
        "df = pl.DataFrame(data)\n",
        "\n",
        "#crear una tabla binaria a partir de los datos\n",
        "\n",
        "#extraer la lista de los rpoductos individuales\n",
        "productos = sorted(set(\n",
        "producto for lista in df[\"Productos_comprados\"].to_list() for producto in lista.split(\",\")\n",
        "))\n",
        "\n",
        "# productos en columnas binarias\n",
        "\n",
        "df_bin = df.with_columns([\n",
        "df[\"Productos_comprados\"].str.contains(p).cast(pl.Int8).alias(p) for p in productos\n",
        "]).drop(\"Productos_comprados\")\n",
        "\n",
        "#Cálculo de la probabilidad de compra de cada producto\n",
        "# Número total de clientes\n",
        "total_clientes = df_bin.height\n",
        "\n",
        "#probabilidad claculada como Probabilidad de producto/No clientes\n",
        "probabilidades = df_bin.drop(\"Cliente\").sum() / total_clientes\n",
        "#organizar una tabla de productos y sus probabilidades\n",
        "probabilidades = probabilidades.transpose(include_header=True, header_name=\"Probabilidad\")\n",
        "probabilidades.columns = [\"Producto\", \"Probabilidad\"]\n",
        "\n",
        "#Identificar productos con probabilidad mayor al 50%\n",
        "\n",
        "prob_mayores_50 = probabilidades.filter(pl.col(\"Probabilidad\") > 0.5)\n",
        "\n",
        "print(\"Probabilidades de compra mayores al 50%:\")\n",
        "print(prob_mayores_50)"
      ],
      "metadata": {
        "colab": {
          "base_uri": "https://localhost:8080/"
        },
        "id": "qiuszXdBPXWU",
        "outputId": "fbb78031-8c46-4479-a323-b2de5ac98c7f"
      },
      "execution_count": 23,
      "outputs": [
        {
          "output_type": "stream",
          "name": "stdout",
          "text": [
            "Probabilidades de compra mayores al 50%:\n",
            "shape: (3, 2)\n",
            "┌──────────┬──────────────┐\n",
            "│ Producto ┆ Probabilidad │\n",
            "│ ---      ┆ ---          │\n",
            "│ str      ┆ f64          │\n",
            "╞══════════╪══════════════╡\n",
            "│ a        ┆ 0.666667     │\n",
            "│ b        ┆ 0.666667     │\n",
            "│ c        ┆ 0.666667     │\n",
            "└──────────┴──────────────┘\n"
          ]
        }
      ]
    },
    {
      "cell_type": "code",
      "source": [
        "df_bin"
      ],
      "metadata": {
        "colab": {
          "base_uri": "https://localhost:8080/",
          "height": 286
        },
        "id": "db9r3-OgWsN4",
        "outputId": "532940f2-c20c-4471-bea9-4537081958a9"
      },
      "execution_count": 24,
      "outputs": [
        {
          "output_type": "execute_result",
          "data": {
            "text/plain": [
              "shape: (6, 5)\n",
              "┌─────────┬─────┬─────┬─────┬─────┐\n",
              "│ Cliente ┆ a   ┆ b   ┆ c   ┆ d   │\n",
              "│ ---     ┆ --- ┆ --- ┆ --- ┆ --- │\n",
              "│ i64     ┆ i8  ┆ i8  ┆ i8  ┆ i8  │\n",
              "╞═════════╪═════╪═════╪═════╪═════╡\n",
              "│ 1       ┆ 1   ┆ 1   ┆ 1   ┆ 0   │\n",
              "│ 2       ┆ 1   ┆ 1   ┆ 0   ┆ 0   │\n",
              "│ 3       ┆ 1   ┆ 0   ┆ 1   ┆ 1   │\n",
              "│ 4       ┆ 1   ┆ 0   ┆ 0   ┆ 0   │\n",
              "│ 5       ┆ 0   ┆ 1   ┆ 1   ┆ 0   │\n",
              "│ 6       ┆ 0   ┆ 1   ┆ 1   ┆ 1   │\n",
              "└─────────┴─────┴─────┴─────┴─────┘"
            ],
            "text/html": [
              "<div><style>\n",
              ".dataframe > thead > tr,\n",
              ".dataframe > tbody > tr {\n",
              "  text-align: right;\n",
              "  white-space: pre-wrap;\n",
              "}\n",
              "</style>\n",
              "<small>shape: (6, 5)</small><table border=\"1\" class=\"dataframe\"><thead><tr><th>Cliente</th><th>a</th><th>b</th><th>c</th><th>d</th></tr><tr><td>i64</td><td>i8</td><td>i8</td><td>i8</td><td>i8</td></tr></thead><tbody><tr><td>1</td><td>1</td><td>1</td><td>1</td><td>0</td></tr><tr><td>2</td><td>1</td><td>1</td><td>0</td><td>0</td></tr><tr><td>3</td><td>1</td><td>0</td><td>1</td><td>1</td></tr><tr><td>4</td><td>1</td><td>0</td><td>0</td><td>0</td></tr><tr><td>5</td><td>0</td><td>1</td><td>1</td><td>0</td></tr><tr><td>6</td><td>0</td><td>1</td><td>1</td><td>1</td></tr></tbody></table></div>"
            ]
          },
          "metadata": {},
          "execution_count": 24
        }
      ]
    }
  ]
}
