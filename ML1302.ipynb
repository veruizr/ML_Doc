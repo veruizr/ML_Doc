{
  "nbformat": 4,
  "nbformat_minor": 0,
  "metadata": {
    "colab": {
      "provenance": [],
      "toc_visible": true,
      "authorship_tag": "ABX9TyN7MGjo7uF2NrX2OlEH+/gX",
      "include_colab_link": true
    },
    "kernelspec": {
      "name": "python3",
      "display_name": "Python 3"
    },
    "language_info": {
      "name": "python"
    }
  },
  "cells": [
    {
      "cell_type": "markdown",
      "metadata": {
        "id": "view-in-github",
        "colab_type": "text"
      },
      "source": [
        "<a href=\"https://colab.research.google.com/github/veruizr/ML_Doc/blob/main/ML1302.ipynb\" target=\"_parent\"><img src=\"https://colab.research.google.com/assets/colab-badge.svg\" alt=\"Open In Colab\"/></a>"
      ]
    },
    {
      "cell_type": "code",
      "execution_count": null,
      "metadata": {
        "id": "9If9pRLKwq3T"
      },
      "outputs": [],
      "source": [
        "# prompt: definir una función que encuentren las palabras en el archivo 5000_palabras_comunes.txt que finalizan según un parámetro de entrada denominado final. No utilizar try\n",
        "\n",
        "def palabras_con_final(final):\n",
        "  \"\"\"\n",
        "  Encuentra las palabras en el archivo 5000_palabras_comunes.txt que terminan con el string 'final'.\n",
        "\n",
        "  Args:\n",
        "      final: El string con el que deben terminar las palabras.\n",
        "\n",
        "  Returns:\n",
        "      Una lista de strings, donde cada string es una palabra del archivo que termina con 'final'.\n",
        "      Si el archivo no existe, retorna una lista vacía.\n",
        "  \"\"\"\n",
        "  palabras_encontradas = []\n",
        "  with open('5000_palabras_comunes.txt', 'r', encoding='utf-8') as archivo:\n",
        "    for linea in archivo:\n",
        "      palabra = linea.strip()\n",
        "      if palabra.endswith(final):\n",
        "        palabras_encontradas.append(palabra)\n",
        "  return palabras_encontradas\n"
      ]
    },
    {
      "cell_type": "markdown",
      "source": [
        "# Reto ML 13/02"
      ],
      "metadata": {
        "id": "L4KjvklSwuUm"
      }
    },
    {
      "cell_type": "code",
      "source": [
        "#Realice una función rima que encuentre las palabras que finalizan según el parámetro\n",
        "def rima(final):\n",
        "  palabras_rima=[]\n",
        "  final=final+'\\n'\n",
        "  archivo  = open('5000_palabras_comunes.txt', encoding=\"utf-8\")\n",
        "  lineas = archivo.readlines()\n",
        "  archivo.close()\n",
        "  len(lineas)\n",
        "  for linea in lineas:\n",
        "    if linea.endswith(final):\n",
        "      palabras_rima.append(linea)\n",
        "    return palabras_rima\n",
        "    print(palabras_rima)\n",
        "\n",
        "\n"
      ],
      "metadata": {
        "id": "S1U9xCvjowAb"
      },
      "execution_count": 13,
      "outputs": []
    },
    {
      "cell_type": "code",
      "source": [
        "final='on'\n",
        "rima(final)\n"
      ],
      "metadata": {
        "colab": {
          "base_uri": "https://localhost:8080/",
          "height": 297
        },
        "id": "tkJgxsOPv4B2",
        "outputId": "69548e73-fe35-46b3-fce6-0e5d70d131f8"
      },
      "execution_count": 14,
      "outputs": [
        {
          "output_type": "error",
          "ename": "FileNotFoundError",
          "evalue": "[Errno 2] No such file or directory: '5000_palabras_comunes.txt'",
          "traceback": [
            "\u001b[0;31m---------------------------------------------------------------------------\u001b[0m",
            "\u001b[0;31mFileNotFoundError\u001b[0m                         Traceback (most recent call last)",
            "\u001b[0;32m<ipython-input-14-fa6c02c26910>\u001b[0m in \u001b[0;36m<cell line: 0>\u001b[0;34m()\u001b[0m\n\u001b[1;32m      1\u001b[0m \u001b[0mfinal\u001b[0m\u001b[0;34m=\u001b[0m\u001b[0;34m'on'\u001b[0m\u001b[0;34m\u001b[0m\u001b[0;34m\u001b[0m\u001b[0m\n\u001b[0;32m----> 2\u001b[0;31m \u001b[0mrima\u001b[0m\u001b[0;34m(\u001b[0m\u001b[0mfinal\u001b[0m\u001b[0;34m)\u001b[0m\u001b[0;34m\u001b[0m\u001b[0;34m\u001b[0m\u001b[0m\n\u001b[0m",
            "\u001b[0;32m<ipython-input-13-7df97d79cf58>\u001b[0m in \u001b[0;36mrima\u001b[0;34m(final)\u001b[0m\n\u001b[1;32m      3\u001b[0m   \u001b[0mpalabras_rima\u001b[0m\u001b[0;34m=\u001b[0m\u001b[0;34m[\u001b[0m\u001b[0;34m]\u001b[0m\u001b[0;34m\u001b[0m\u001b[0;34m\u001b[0m\u001b[0m\n\u001b[1;32m      4\u001b[0m   \u001b[0mfinal\u001b[0m\u001b[0;34m=\u001b[0m\u001b[0mfinal\u001b[0m\u001b[0;34m+\u001b[0m\u001b[0;34m'\\n'\u001b[0m\u001b[0;34m\u001b[0m\u001b[0;34m\u001b[0m\u001b[0m\n\u001b[0;32m----> 5\u001b[0;31m   \u001b[0marchivo\u001b[0m  \u001b[0;34m=\u001b[0m \u001b[0mopen\u001b[0m\u001b[0;34m(\u001b[0m\u001b[0;34m'5000_palabras_comunes.txt'\u001b[0m\u001b[0;34m,\u001b[0m \u001b[0mencoding\u001b[0m\u001b[0;34m=\u001b[0m\u001b[0;34m\"utf-8\"\u001b[0m\u001b[0;34m)\u001b[0m\u001b[0;34m\u001b[0m\u001b[0;34m\u001b[0m\u001b[0m\n\u001b[0m\u001b[1;32m      6\u001b[0m   \u001b[0mlineas\u001b[0m \u001b[0;34m=\u001b[0m \u001b[0marchivo\u001b[0m\u001b[0;34m.\u001b[0m\u001b[0mreadlines\u001b[0m\u001b[0;34m(\u001b[0m\u001b[0;34m)\u001b[0m\u001b[0;34m\u001b[0m\u001b[0;34m\u001b[0m\u001b[0m\n\u001b[1;32m      7\u001b[0m   \u001b[0marchivo\u001b[0m\u001b[0;34m.\u001b[0m\u001b[0mclose\u001b[0m\u001b[0;34m(\u001b[0m\u001b[0;34m)\u001b[0m\u001b[0;34m\u001b[0m\u001b[0;34m\u001b[0m\u001b[0m\n",
            "\u001b[0;31mFileNotFoundError\u001b[0m: [Errno 2] No such file or directory: '5000_palabras_comunes.txt'"
          ]
        }
      ]
    },
    {
      "cell_type": "markdown",
      "source": [
        "# Sección nueva"
      ],
      "metadata": {
        "id": "BuCTv_2JwvKj"
      }
    },
    {
      "cell_type": "code",
      "source": [
        "import os;\n",
        "print(os.getcwd())"
      ],
      "metadata": {
        "colab": {
          "base_uri": "https://localhost:8080/"
        },
        "id": "fAt28DGcv2bh",
        "outputId": "9096bfaf-75e8-4ac9-daf2-a3d24885b75f"
      },
      "execution_count": 10,
      "outputs": [
        {
          "output_type": "stream",
          "name": "stdout",
          "text": [
            "/content\n"
          ]
        }
      ]
    },
    {
      "cell_type": "code",
      "source": [],
      "metadata": {
        "id": "_H1FvQncw439"
      },
      "execution_count": null,
      "outputs": []
    }
  ]
}