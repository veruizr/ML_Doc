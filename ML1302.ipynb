{
  "nbformat": 4,
  "nbformat_minor": 0,
  "metadata": {
    "colab": {
      "provenance": [],
      "toc_visible": true,
      "authorship_tag": "ABX9TyOrAE8R4LI545X+wCy0rRyZ",
      "include_colab_link": true
    },
    "kernelspec": {
      "name": "python3",
      "display_name": "Python 3"
    },
    "language_info": {
      "name": "python"
    }
  },
  "cells": [
    {
      "cell_type": "markdown",
      "metadata": {
        "id": "view-in-github",
        "colab_type": "text"
      },
      "source": [
        "<a href=\"https://colab.research.google.com/github/veruizr/ML_Doc/blob/main/ML1302.ipynb\" target=\"_parent\"><img src=\"https://colab.research.google.com/assets/colab-badge.svg\" alt=\"Open In Colab\"/></a>"
      ]
    },
    {
      "cell_type": "code",
      "execution_count": null,
      "metadata": {
        "id": "9If9pRLKwq3T"
      },
      "outputs": [],
      "source": []
    },
    {
      "cell_type": "markdown",
      "source": [
        "# Reto ML 13/02"
      ],
      "metadata": {
        "id": "L4KjvklSwuUm"
      }
    },
    {
      "cell_type": "code",
      "source": [
        "#Realice una función rima que encuentre las palabras que finalizan según el parámetro\n",
        "def rima(final):\n",
        "    final=final+'\\n'\n",
        "    archivo  = open('palabras500.csv', encoding=\"utf-8\")\n",
        "    lineas = archivo.readlines()\n",
        "    archivo.close()\n",
        "    len(lineas)\n",
        "\n",
        "    print('---')\n",
        "\n"
      ],
      "metadata": {
        "id": "S1U9xCvjowAb"
      },
      "execution_count": null,
      "outputs": []
    },
    {
      "cell_type": "markdown",
      "source": [
        "# Sección nueva"
      ],
      "metadata": {
        "id": "BuCTv_2JwvKj"
      }
    }
  ]
}