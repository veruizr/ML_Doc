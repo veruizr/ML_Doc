{
  "nbformat": 4,
  "nbformat_minor": 0,
  "metadata": {
    "colab": {
      "provenance": [],
      "authorship_tag": "ABX9TyMPj7xxLTMEZisN/q3frACn",
      "include_colab_link": true
    },
    "kernelspec": {
      "name": "python3",
      "display_name": "Python 3"
    },
    "language_info": {
      "name": "python"
    }
  },
  "cells": [
    {
      "cell_type": "markdown",
      "metadata": {
        "id": "view-in-github",
        "colab_type": "text"
      },
      "source": [
        "<a href=\"https://colab.research.google.com/github/veruizr/ML_Doc/blob/main/ML1302.ipynb\" target=\"_parent\"><img src=\"https://colab.research.google.com/assets/colab-badge.svg\" alt=\"Open In Colab\"/></a>"
      ]
    },
    {
      "cell_type": "markdown",
      "source": [
        "# Reto ML 13/02"
      ],
      "metadata": {
        "id": "L4KjvklSwuUm"
      }
    },
    {
      "cell_type": "code",
      "source": [
        "#Realice una función rima que encuentre las palabras que finalizan según el parámetro\n",
        "def rima(final):\n",
        "  palabras_rima=[]\n",
        "  final=final+'\\n'\n",
        "  archivo  = open('5000_palabras_comunes.txt', encoding=\"utf-8\")\n",
        "  lineas = archivo.readlines()\n",
        "  archivo.close()\n",
        "  len(lineas)\n",
        "  for linea in lineas:\n",
        "    if linea.endswith(final):\n",
        "      palabras_rima.append(linea)\n",
        "\n",
        "  print(len(palabras_rima))\n",
        "  #print(palabras_rima)\n",
        "  if len(palabras_rima)==0:\n",
        "    print('No hay coincidencias')\n",
        "  return(palabras_rima)\n",
        "\n",
        "\n",
        "\n"
      ],
      "metadata": {
        "id": "S1U9xCvjowAb"
      },
      "execution_count": 97,
      "outputs": []
    },
    {
      "cell_type": "code",
      "source": [
        "final='ión'\n",
        "rima(final)"
      ],
      "metadata": {
        "id": "_H1FvQncw439",
        "colab": {
          "base_uri": "https://localhost:8080/"
        },
        "outputId": "7803bbb7-0eb1-43bc-a21a-6b4fabaaacef"
      },
      "execution_count": 98,
      "outputs": [
        {
          "output_type": "stream",
          "name": "stdout",
          "text": [
            "95\n"
          ]
        },
        {
          "output_type": "execute_result",
          "data": {
            "text/plain": [
              "['maldición\\n',\n",
              " 'avión\\n',\n",
              " 'información\\n',\n",
              " 'habitación\\n',\n",
              " 'atención\\n',\n",
              " 'situación\\n',\n",
              " 'misión\\n',\n",
              " 'dirección\\n',\n",
              " 'decisión\\n',\n",
              " 'posición\\n',\n",
              " 'reunión\\n',\n",
              " 'relación\\n',\n",
              " 'investigación\\n',\n",
              " 'estación\\n',\n",
              " 'canción\\n',\n",
              " 'prisión\\n',\n",
              " 'acción\\n',\n",
              " 'camión\\n',\n",
              " 'opinión\\n',\n",
              " 'opción\\n',\n",
              " 'operación\\n',\n",
              " 'presión\\n',\n",
              " 'cuestión\\n',\n",
              " 'televisión\\n',\n",
              " 'protección\\n',\n",
              " 'sección\\n',\n",
              " 'elección\\n',\n",
              " 'conversación\\n',\n",
              " 'intención\\n',\n",
              " 'tensión\\n',\n",
              " 'tripulación\\n',\n",
              " 'explosión\\n',\n",
              " 'nación\\n',\n",
              " 'explicación\\n',\n",
              " 'visión\\n',\n",
              " 'diversión\\n',\n",
              " 'solución\\n',\n",
              " 'conexión\\n',\n",
              " 'lección\\n',\n",
              " 'educación\\n',\n",
              " 'identificación\\n',\n",
              " 'declaración\\n',\n",
              " 'impresión\\n',\n",
              " 'reputación\\n',\n",
              " 'sensación\\n',\n",
              " 'pasión\\n',\n",
              " 'reacción\\n',\n",
              " 'condición\\n',\n",
              " 'destrucción\\n',\n",
              " 'ocasión\\n',\n",
              " 'imaginación\\n',\n",
              " 'organización\\n',\n",
              " 'infección\\n',\n",
              " 'división\\n',\n",
              " 'unión\\n',\n",
              " 'comunicación\\n',\n",
              " 'transmisión\\n',\n",
              " 'función\\n',\n",
              " 'versión\\n',\n",
              " 'construcción\\n',\n",
              " 'actuación\\n',\n",
              " 'respiración\\n',\n",
              " 'revolución\\n',\n",
              " 'sesión\\n',\n",
              " 'emoción\\n',\n",
              " 'autorización\\n',\n",
              " 'colección\\n',\n",
              " 'recepción\\n',\n",
              " 'traición\\n',\n",
              " 'tradición\\n',\n",
              " 'guión\\n',\n",
              " 'religión\\n',\n",
              " 'invitación\\n',\n",
              " 'ubicación\\n',\n",
              " 'traducción\\n',\n",
              " 'expresión\\n',\n",
              " 'exposición\\n',\n",
              " 'confesión\\n',\n",
              " 'producción\\n',\n",
              " 'preocupación\\n',\n",
              " 'compasión\\n',\n",
              " 'administración\\n',\n",
              " 'graduación\\n',\n",
              " 'generación\\n',\n",
              " 'formación\\n',\n",
              " 'presentación\\n',\n",
              " 'bendición\\n',\n",
              " 'posesión\\n',\n",
              " 'civilización\\n',\n",
              " 'violación\\n',\n",
              " 'comisión\\n',\n",
              " 'objeción\\n',\n",
              " 'discusión\\n',\n",
              " 'poción\\n',\n",
              " 'fusión\\n']"
            ]
          },
          "metadata": {},
          "execution_count": 98
        }
      ]
    }
  ]
}