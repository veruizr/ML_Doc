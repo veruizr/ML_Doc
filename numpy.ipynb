{
  "nbformat": 4,
  "nbformat_minor": 0,
  "metadata": {
    "colab": {
      "provenance": [],
      "authorship_tag": "ABX9TyPWeoyhsqDdKbWXEa9RhP2K",
      "include_colab_link": true
    },
    "kernelspec": {
      "name": "python3",
      "display_name": "Python 3"
    },
    "language_info": {
      "name": "python"
    }
  },
  "cells": [
    {
      "cell_type": "markdown",
      "metadata": {
        "id": "view-in-github",
        "colab_type": "text"
      },
      "source": [
        "<a href=\"https://colab.research.google.com/github/veruizr/ML_Doc/blob/main/numpy.ipynb\" target=\"_parent\"><img src=\"https://colab.research.google.com/assets/colab-badge.svg\" alt=\"Open In Colab\"/></a>"
      ]
    },
    {
      "cell_type": "markdown",
      "source": [
        "# Numpy\n",
        "Numpy es una librería aplicada para el manejo de vectores y matrices, que facilita una gran cantidad de operaciones matemáticas que pueden resolverse mediante el álgebra matricial ayudando a resolver aspectos como:\n",
        "- Matrices multidimensionales (ndarray) eficientes.\n",
        "- Operaciones matemáticas rápidas.\n",
        "- Funciones de álgebra lineal, transformadas de Fourier, generación de números aleatorios, entre otras.\n",
        "\n",
        "Para instalar NumPy:"
      ],
      "metadata": {
        "id": "-xWhlvFGv_EE"
      }
    },
    {
      "cell_type": "code",
      "source": [
        "#pip install numpy\n",
        "import numpy as np"
      ],
      "metadata": {
        "id": "cobexbGYwJ5V"
      },
      "execution_count": 1,
      "outputs": []
    },
    {
      "cell_type": "markdown",
      "source": [
        "## Creación y Manipulación de Matrices (Arrays)\n",
        "\n",
        "### Crear Matrices (Arrays)\n",
        "\n",
        "### Matriz unidimensional"
      ],
      "metadata": {
        "id": "9iBUb_1DwYLi"
      }
    },
    {
      "cell_type": "code",
      "source": [
        "a = np.array([1, 2, 3])\n",
        "print(a)"
      ],
      "metadata": {
        "colab": {
          "base_uri": "https://localhost:8080/"
        },
        "id": "kdLrd06mwkg2",
        "outputId": "63787817-4856-4de8-e55c-6538b44e255e"
      },
      "execution_count": 2,
      "outputs": [
        {
          "output_type": "stream",
          "name": "stdout",
          "text": [
            "[1 2 3]\n"
          ]
        }
      ]
    },
    {
      "cell_type": "markdown",
      "source": [
        "### Matriz n-dimensional"
      ],
      "metadata": {
        "id": "PqMGhTp0xF3o"
      }
    },
    {
      "cell_type": "code",
      "source": [
        "b = np.array([[1, 2, 3], [4, 5, 6],[7,8,9]])\n",
        "print(b)"
      ],
      "metadata": {
        "colab": {
          "base_uri": "https://localhost:8080/"
        },
        "id": "KAwl2bKNxSln",
        "outputId": "d5f6446b-08e5-45c0-be9f-c16784858615"
      },
      "execution_count": 3,
      "outputs": [
        {
          "output_type": "stream",
          "name": "stdout",
          "text": [
            "[[1 2 3]\n",
            " [4 5 6]\n",
            " [7 8 9]]\n"
          ]
        }
      ]
    },
    {
      "cell_type": "markdown",
      "source": [
        "### Matriz de ceros"
      ],
      "metadata": {
        "id": "9TlKxAkQxsES"
      }
    },
    {
      "cell_type": "code",
      "source": [
        "zeros = np.zeros((3, 3))\n",
        "print(zeros)"
      ],
      "metadata": {
        "colab": {
          "base_uri": "https://localhost:8080/"
        },
        "id": "c4gk1NiMxzNc",
        "outputId": "9bfa8331-edf1-4da0-f02b-45f61a7314e6"
      },
      "execution_count": 4,
      "outputs": [
        {
          "output_type": "stream",
          "name": "stdout",
          "text": [
            "[[0. 0. 0.]\n",
            " [0. 0. 0.]\n",
            " [0. 0. 0.]]\n"
          ]
        }
      ]
    },
    {
      "cell_type": "markdown",
      "source": [
        "### Matriz de unos"
      ],
      "metadata": {
        "id": "djNKyt2wx-P7"
      }
    },
    {
      "cell_type": "code",
      "source": [
        "ones = np.ones((4, 4))\n",
        "print(ones)"
      ],
      "metadata": {
        "colab": {
          "base_uri": "https://localhost:8080/"
        },
        "id": "sOo1Asj0yBSX",
        "outputId": "0d17a9e9-23d5-407b-9bbe-986384eda54b"
      },
      "execution_count": 6,
      "outputs": [
        {
          "output_type": "stream",
          "name": "stdout",
          "text": [
            "[[1. 1. 1. 1.]\n",
            " [1. 1. 1. 1.]\n",
            " [1. 1. 1. 1.]\n",
            " [1. 1. 1. 1.]]\n"
          ]
        }
      ]
    },
    {
      "cell_type": "markdown",
      "source": [
        "### Matriz de valores equidistantes"
      ],
      "metadata": {
        "id": "cySxuiIVyQyN"
      }
    },
    {
      "cell_type": "code",
      "source": [
        "lin_space = np.linspace(0, 10, 5) # De 0 a 10 en 5 puntos\n",
        "print(lin_space)"
      ],
      "metadata": {
        "colab": {
          "base_uri": "https://localhost:8080/"
        },
        "id": "X4JJOxMoyRcP",
        "outputId": "6ae731fa-c389-4abd-fcba-01d11df21b27"
      },
      "execution_count": 7,
      "outputs": [
        {
          "output_type": "stream",
          "name": "stdout",
          "text": [
            "[ 0.   2.5  5.   7.5 10. ]\n"
          ]
        }
      ]
    },
    {
      "cell_type": "markdown",
      "source": [
        "##Indexación y Segmentación"
      ],
      "metadata": {
        "id": "CDbvTTnHyjqT"
      }
    },
    {
      "cell_type": "code",
      "source": [
        "arr = np.array([[10, 20, 30], [40, 50, 60], [70, 80, 90]])\n",
        "\n",
        "# Acceder a un elemento específico\n",
        "print(arr[1, 2])"
      ],
      "metadata": {
        "colab": {
          "base_uri": "https://localhost:8080/"
        },
        "id": "FK4IuRIhyqMk",
        "outputId": "4949d989-6fb9-4d78-cfac-0136a6d77023"
      },
      "execution_count": 8,
      "outputs": [
        {
          "output_type": "stream",
          "name": "stdout",
          "text": [
            "60\n"
          ]
        }
      ]
    },
    {
      "cell_type": "code",
      "source": [
        "# Extraer una fila\n",
        "print(arr[1, :])"
      ],
      "metadata": {
        "colab": {
          "base_uri": "https://localhost:8080/"
        },
        "id": "sL5shOegy4y_",
        "outputId": "0972ed7c-3a93-4fb9-8223-98aa979ddc03"
      },
      "execution_count": 9,
      "outputs": [
        {
          "output_type": "stream",
          "name": "stdout",
          "text": [
            "[40 50 60]\n"
          ]
        }
      ]
    },
    {
      "cell_type": "code",
      "source": [
        "# Extraer una columna\n",
        "print(arr[:, 1])"
      ],
      "metadata": {
        "colab": {
          "base_uri": "https://localhost:8080/"
        },
        "id": "e3l3Z63UzA4e",
        "outputId": "1727e15c-fa18-4540-9b29-34de49eeb842"
      },
      "execution_count": 10,
      "outputs": [
        {
          "output_type": "stream",
          "name": "stdout",
          "text": [
            "[20 50 80]\n"
          ]
        }
      ]
    },
    {
      "cell_type": "markdown",
      "source": [
        "## Operaciones con Matrices\n",
        "\n",
        "### Operaciones Básicas"
      ],
      "metadata": {
        "id": "-sHHq3UszP_S"
      }
    },
    {
      "cell_type": "code",
      "source": [
        "A = np.array([[1, 2], [3, 4]])\n",
        "B = np.array([[5, 6], [7, 8]])\n",
        "\n",
        "# Suma\n",
        "print(A + B)"
      ],
      "metadata": {
        "colab": {
          "base_uri": "https://localhost:8080/"
        },
        "id": "_wgqYRvDzXAf",
        "outputId": "d8387c0c-edab-4399-ba9f-26a6cae93fa8"
      },
      "execution_count": 11,
      "outputs": [
        {
          "output_type": "stream",
          "name": "stdout",
          "text": [
            "[[ 6  8]\n",
            " [10 12]]\n"
          ]
        }
      ]
    },
    {
      "cell_type": "code",
      "source": [
        "# Resta\n",
        "print(A - B)"
      ],
      "metadata": {
        "colab": {
          "base_uri": "https://localhost:8080/"
        },
        "id": "hjAm5RE3zgur",
        "outputId": "8cc75147-4733-48b3-ef66-6d209f830193"
      },
      "execution_count": 12,
      "outputs": [
        {
          "output_type": "stream",
          "name": "stdout",
          "text": [
            "[[-4 -4]\n",
            " [-4 -4]]\n"
          ]
        }
      ]
    },
    {
      "cell_type": "code",
      "source": [
        "# Multiplicación elemento a elemento\n",
        "print(A * B)"
      ],
      "metadata": {
        "colab": {
          "base_uri": "https://localhost:8080/"
        },
        "id": "M__9HCKkznWY",
        "outputId": "27987212-43f2-4ab0-c616-18e1371d0d9a"
      },
      "execution_count": 13,
      "outputs": [
        {
          "output_type": "stream",
          "name": "stdout",
          "text": [
            "[[ 5 12]\n",
            " [21 32]]\n"
          ]
        }
      ]
    },
    {
      "cell_type": "code",
      "source": [
        "# Producto de matrices (matmul o @)\n",
        "print(np.matmul(A, B))\n",
        "print(A @ B)"
      ],
      "metadata": {
        "colab": {
          "base_uri": "https://localhost:8080/"
        },
        "id": "dZqIBdLNzsMy",
        "outputId": "79f9db0c-cfe8-47d0-9eaf-de1f70d0e25b"
      },
      "execution_count": 14,
      "outputs": [
        {
          "output_type": "stream",
          "name": "stdout",
          "text": [
            "[[19 22]\n",
            " [43 50]]\n",
            "[[19 22]\n",
            " [43 50]]\n"
          ]
        }
      ]
    },
    {
      "cell_type": "code",
      "source": [
        "# Transpuesta\n",
        "print(A.T)"
      ],
      "metadata": {
        "colab": {
          "base_uri": "https://localhost:8080/"
        },
        "id": "QKf_YeaxzxKH",
        "outputId": "e84787d1-14a5-4978-fce2-f587f6e6530d"
      },
      "execution_count": 15,
      "outputs": [
        {
          "output_type": "stream",
          "name": "stdout",
          "text": [
            "[[1 3]\n",
            " [2 4]]\n"
          ]
        }
      ]
    },
    {
      "cell_type": "markdown",
      "source": [
        "### Determinante e Inversa"
      ],
      "metadata": {
        "id": "th48e0zZ0CTL"
      }
    },
    {
      "cell_type": "code",
      "source": [
        "from numpy.linalg import det, inv\n",
        "\n",
        "A = np.array([[4, 7], [2, 6]])\n",
        "\n",
        "# Determinante\n",
        "print(det(A))"
      ],
      "metadata": {
        "id": "cDTiXlSd0EJw"
      },
      "execution_count": null,
      "outputs": []
    },
    {
      "cell_type": "code",
      "source": [
        "# Matriz inversa\n",
        "print(inv(A))"
      ],
      "metadata": {
        "id": "9Act3Ov00MaC"
      },
      "execution_count": null,
      "outputs": []
    },
    {
      "cell_type": "markdown",
      "source": [
        "## Solución de Sistemas de Ecuaciones Lineales\n",
        "Resolver el sistema:\n",
        "\n",
        "\\[ 2x + 3y = 5 \\]\n",
        "\\[ 4x + y = 6 \\]"
      ],
      "metadata": {
        "id": "kJmTas8V0b0f"
      }
    },
    {
      "cell_type": "code",
      "source": [
        "# Matriz de coeficientes\n",
        "A = np.array([[2, 3], [4, 1]])\n",
        "\n",
        "# Vector de términos independientes\n",
        "b = np.array([5, 6])\n",
        "\n",
        "# Resolver el sistema\n",
        "x = np.linalg.solve(A, b)\n",
        "print(\"Solución:\", x)"
      ],
      "metadata": {
        "id": "B8C5TuQ10dPO"
      },
      "execution_count": null,
      "outputs": []
    },
    {
      "cell_type": "markdown",
      "source": [
        "## Álgebra Vectorial\n",
        "\n"
      ],
      "metadata": {
        "id": "Kp-cCaBA05dy"
      }
    },
    {
      "cell_type": "code",
      "source": [
        "# Producto punto\n",
        "u = np.array([1, 2, 3])\n",
        "v = np.array([4, 5, 6])\n",
        "\n",
        "print(np.dot(u, v)) # 1*4 + 2*5 + 3*6 = 32"
      ],
      "metadata": {
        "colab": {
          "base_uri": "https://localhost:8080/"
        },
        "id": "MiEKiLb108F0",
        "outputId": "62b1a241-73f7-4410-f726-71b68dd0f033"
      },
      "execution_count": 16,
      "outputs": [
        {
          "output_type": "stream",
          "name": "stdout",
          "text": [
            "32\n"
          ]
        }
      ]
    },
    {
      "cell_type": "code",
      "source": [
        "#Producto cruz\n",
        "u = np.array([1, 0, 0])\n",
        "v = np.array([0, 1, 0])\n",
        "\n",
        "print(np.cross(u, v)) # [0, 0, 1]"
      ],
      "metadata": {
        "colab": {
          "base_uri": "https://localhost:8080/"
        },
        "id": "-qP9CPOb1H_q",
        "outputId": "6a0a879c-0e05-4367-cb14-81e3452a8dca"
      },
      "execution_count": 17,
      "outputs": [
        {
          "output_type": "stream",
          "name": "stdout",
          "text": [
            "[0 0 1]\n"
          ]
        }
      ]
    },
    {
      "cell_type": "code",
      "source": [
        "#Norma de un vector\n",
        "v = np.array([3, 4])\n",
        "\n",
        "print(np.linalg.norm(v))"
      ],
      "metadata": {
        "colab": {
          "base_uri": "https://localhost:8080/"
        },
        "id": "1z5-q7rV1Rm-",
        "outputId": "71bbc609-0320-4b5c-f5d2-3dd98abb5cb4"
      },
      "execution_count": 18,
      "outputs": [
        {
          "output_type": "stream",
          "name": "stdout",
          "text": [
            "5.0\n"
          ]
        }
      ]
    }
  ]
}